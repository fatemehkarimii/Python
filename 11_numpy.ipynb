{
  "cells": [
    {
      "cell_type": "markdown",
      "metadata": {
        "id": "view-in-github",
        "colab_type": "text"
      },
      "source": [
        "<a href=\"https://colab.research.google.com/github/fatemehkarimii/Python-Tutorial/blob/main/11_numpy.ipynb\" target=\"_parent\"><img src=\"https://colab.research.google.com/assets/colab-badge.svg\" alt=\"Open In Colab\"/></a>"
      ]
    },
    {
      "cell_type": "code",
      "execution_count": null,
      "id": "dd733b5f",
      "metadata": {
        "id": "dd733b5f"
      },
      "outputs": [],
      "source": [
        "import numpy as np\n",
        "\n",
        "#help(np)"
      ]
    },
    {
      "cell_type": "code",
      "execution_count": null,
      "id": "8e9b088a",
      "metadata": {
        "id": "8e9b088a",
        "outputId": "702a0a4d-c6cd-4cff-ddf3-0effe1c7f8e2"
      },
      "outputs": [
        {
          "name": "stdout",
          "output_type": "stream",
          "text": [
            "[1 2 3 4]\n",
            "<class 'numpy.ndarray'>\n",
            "(4,)\n",
            "1\n"
          ]
        }
      ],
      "source": [
        "array1 = np.array([1, 2, 3, 4])\n",
        "\n",
        "print(array1)\n",
        "print(type(array1))\n",
        "print(array1.shape)\n",
        "print(array1.ndim)"
      ]
    },
    {
      "cell_type": "code",
      "execution_count": null,
      "id": "24230407",
      "metadata": {
        "id": "24230407",
        "outputId": "7e9616aa-414f-4524-e56b-74697356133d"
      },
      "outputs": [
        {
          "name": "stdout",
          "output_type": "stream",
          "text": [
            "[[ 1  2  3]\n",
            " [ 4  5  6]\n",
            " [ 7  8  9]\n",
            " [10 11 12]]\n",
            "<class 'numpy.ndarray'>\n",
            "(4, 3)\n",
            "2\n"
          ]
        }
      ],
      "source": [
        "array2 = np.array([ [1, 2, 3], [4, 5, 6], [7, 8, 9], [10, 11, 12] ])\n",
        "\n",
        "print(array2)\n",
        "print(type(array2))\n",
        "print(array2.shape)\n",
        "print(array2.ndim)"
      ]
    },
    {
      "cell_type": "code",
      "execution_count": null,
      "id": "f10b86f1",
      "metadata": {
        "id": "f10b86f1",
        "outputId": "ffa4e193-73c6-40ea-d8f9-22ee55f6932a"
      },
      "outputs": [
        {
          "data": {
            "text/plain": [
              "array([[1],\n",
              "       [4]])"
            ]
          },
          "execution_count": 6,
          "metadata": {},
          "output_type": "execute_result"
        }
      ],
      "source": [
        "array2[0:2 , 0:1]"
      ]
    },
    {
      "cell_type": "code",
      "execution_count": null,
      "id": "713d007c",
      "metadata": {
        "id": "713d007c",
        "outputId": "83015045-7d73-4b46-8350-bf493f83d81d"
      },
      "outputs": [
        {
          "data": {
            "text/plain": [
              "array([[1, 2, 3],\n",
              "       [4, 5, 6]])"
            ]
          },
          "execution_count": 7,
          "metadata": {},
          "output_type": "execute_result"
        }
      ],
      "source": [
        "array2[0:2]"
      ]
    },
    {
      "cell_type": "code",
      "execution_count": null,
      "id": "2b27a8d4",
      "metadata": {
        "id": "2b27a8d4",
        "outputId": "de8a8941-9e94-4fc2-c0e0-d08a061f1f9d"
      },
      "outputs": [
        {
          "data": {
            "text/plain": [
              "array([[ 2],\n",
              "       [ 5],\n",
              "       [ 8],\n",
              "       [11]])"
            ]
          },
          "execution_count": 8,
          "metadata": {},
          "output_type": "execute_result"
        }
      ],
      "source": [
        "array2[0: , 1:2]"
      ]
    },
    {
      "cell_type": "code",
      "execution_count": null,
      "id": "b209db65",
      "metadata": {
        "id": "b209db65",
        "outputId": "0c2e30c8-ac5e-4d28-b4e3-362fbcb1b182"
      },
      "outputs": [
        {
          "data": {
            "text/plain": [
              "array([[ 5,  6],\n",
              "       [ 8,  9],\n",
              "       [11, 12]])"
            ]
          },
          "execution_count": 9,
          "metadata": {},
          "output_type": "execute_result"
        }
      ],
      "source": [
        "array2[1: , 1:]"
      ]
    },
    {
      "cell_type": "code",
      "execution_count": null,
      "id": "65978fd2",
      "metadata": {
        "id": "65978fd2",
        "outputId": "cf4335d4-2436-48b8-dc59-e129a4916442"
      },
      "outputs": [
        {
          "data": {
            "text/plain": [
              "array([1, 2, 3])"
            ]
          },
          "execution_count": 10,
          "metadata": {},
          "output_type": "execute_result"
        }
      ],
      "source": [
        "array2[0]"
      ]
    },
    {
      "cell_type": "code",
      "execution_count": null,
      "id": "eb220832",
      "metadata": {
        "id": "eb220832",
        "outputId": "e98de5eb-9f54-46ea-d7df-01293f0085ed"
      },
      "outputs": [
        {
          "data": {
            "text/plain": [
              "2"
            ]
          },
          "execution_count": 11,
          "metadata": {},
          "output_type": "execute_result"
        }
      ],
      "source": [
        "array2[0][1]"
      ]
    },
    {
      "cell_type": "code",
      "execution_count": null,
      "id": "4969dcb9",
      "metadata": {
        "id": "4969dcb9",
        "outputId": "9a1a6174-b2db-45e0-bed6-1046ff564f37"
      },
      "outputs": [
        {
          "data": {
            "text/plain": [
              "array([[ 1, 20,  3],\n",
              "       [ 4,  5,  6],\n",
              "       [ 7,  8,  9],\n",
              "       [10, 11, 12]])"
            ]
          },
          "execution_count": 12,
          "metadata": {},
          "output_type": "execute_result"
        }
      ],
      "source": [
        "array2[0][1] = 20\n",
        "array2"
      ]
    },
    {
      "cell_type": "code",
      "execution_count": null,
      "id": "069384b0",
      "metadata": {
        "id": "069384b0",
        "outputId": "a3c876f5-3a72-4a85-cb6c-08033d3f99ed"
      },
      "outputs": [
        {
          "data": {
            "text/plain": [
              "array([[10, 20, 30],\n",
              "       [ 4,  5,  6],\n",
              "       [ 7,  8,  9],\n",
              "       [10, 11, 12]])"
            ]
          },
          "execution_count": 13,
          "metadata": {},
          "output_type": "execute_result"
        }
      ],
      "source": [
        "array2[0] = [10, 20, 30]\n",
        "array2"
      ]
    },
    {
      "cell_type": "code",
      "execution_count": null,
      "id": "03271502",
      "metadata": {
        "id": "03271502",
        "outputId": "838159f3-44d3-4acf-a5dc-300493757b8d"
      },
      "outputs": [
        {
          "name": "stdout",
          "output_type": "stream",
          "text": [
            "[10 20 30  4  5  6  7  8  9 10 11 12]\n",
            "(12,)\n",
            "1\n"
          ]
        }
      ],
      "source": [
        "a = array2.reshape(12, )\n",
        "\n",
        "print(a)\n",
        "print(a.shape)\n",
        "print(a.ndim)"
      ]
    },
    {
      "cell_type": "code",
      "execution_count": null,
      "id": "4c6196f4",
      "metadata": {
        "id": "4c6196f4",
        "outputId": "11f2288c-2b11-4bfd-b7b5-666d17e95cfd"
      },
      "outputs": [
        {
          "name": "stdout",
          "output_type": "stream",
          "text": [
            "[[10 20 30  4]\n",
            " [ 5  6  7  8]\n",
            " [ 9 10 11 12]]\n",
            "(3, 4)\n"
          ]
        }
      ],
      "source": [
        "b = array2.reshape(3, 4)\n",
        "\n",
        "print(b)\n",
        "print(b.shape)"
      ]
    },
    {
      "cell_type": "code",
      "execution_count": null,
      "id": "6682c42e",
      "metadata": {
        "id": "6682c42e",
        "outputId": "8a32594d-b608-4502-ca61-e4e2ef08a3a4"
      },
      "outputs": [
        {
          "name": "stdout",
          "output_type": "stream",
          "text": [
            "[[10 20]\n",
            " [30  4]\n",
            " [ 5  6]\n",
            " [ 7  8]\n",
            " [ 9 10]\n",
            " [11 12]]\n",
            "(6, 2)\n"
          ]
        }
      ],
      "source": [
        "c = array2.reshape(6, 2)\n",
        "\n",
        "print(c)\n",
        "print(c.shape)"
      ]
    },
    {
      "cell_type": "code",
      "execution_count": null,
      "id": "4fea04fa",
      "metadata": {
        "id": "4fea04fa",
        "outputId": "d89cd6fc-86ee-485b-d4e9-72aa1f00e3d7"
      },
      "outputs": [
        {
          "data": {
            "text/plain": [
              "array([0., 0., 0., 0., 0., 0., 0., 0., 0., 0.])"
            ]
          },
          "execution_count": 17,
          "metadata": {},
          "output_type": "execute_result"
        }
      ],
      "source": [
        "np.zeros(10)"
      ]
    },
    {
      "cell_type": "code",
      "execution_count": null,
      "id": "7b068152",
      "metadata": {
        "id": "7b068152",
        "outputId": "fb3b8d44-1831-4610-ba31-28aceb3e044e"
      },
      "outputs": [
        {
          "data": {
            "text/plain": [
              "array([[0., 0., 0., 0., 0.],\n",
              "       [0., 0., 0., 0., 0.],\n",
              "       [0., 0., 0., 0., 0.]])"
            ]
          },
          "execution_count": 18,
          "metadata": {},
          "output_type": "execute_result"
        }
      ],
      "source": [
        "np.zeros([3, 5])"
      ]
    },
    {
      "cell_type": "code",
      "execution_count": null,
      "id": "50e21448",
      "metadata": {
        "id": "50e21448",
        "outputId": "1002d8f4-62be-4d21-d74d-155799289e02"
      },
      "outputs": [
        {
          "data": {
            "text/plain": [
              "array([1., 1., 1., 1., 1., 1., 1., 1.])"
            ]
          },
          "execution_count": 19,
          "metadata": {},
          "output_type": "execute_result"
        }
      ],
      "source": [
        "np.ones(8)"
      ]
    },
    {
      "cell_type": "code",
      "execution_count": null,
      "id": "95e156a8",
      "metadata": {
        "id": "95e156a8",
        "outputId": "b7da9334-f941-47e8-9293-5ebaa2ab35d7"
      },
      "outputs": [
        {
          "data": {
            "text/plain": [
              "array([[1., 1., 1., 1., 1.],\n",
              "       [1., 1., 1., 1., 1.],\n",
              "       [1., 1., 1., 1., 1.],\n",
              "       [1., 1., 1., 1., 1.],\n",
              "       [1., 1., 1., 1., 1.],\n",
              "       [1., 1., 1., 1., 1.],\n",
              "       [1., 1., 1., 1., 1.],\n",
              "       [1., 1., 1., 1., 1.]])"
            ]
          },
          "execution_count": 20,
          "metadata": {},
          "output_type": "execute_result"
        }
      ],
      "source": [
        "np.ones([8, 5])"
      ]
    },
    {
      "cell_type": "code",
      "execution_count": null,
      "id": "57a2ee53",
      "metadata": {
        "id": "57a2ee53",
        "outputId": "26762299-54ef-4e4f-e20b-19ed4d424e1c"
      },
      "outputs": [
        {
          "name": "stdout",
          "output_type": "stream",
          "text": [
            "[[1. 0. 0. 0.]\n",
            " [0. 1. 0. 0.]\n",
            " [0. 0. 1. 0.]\n",
            " [0. 0. 0. 1.]]\n",
            "(4, 4)\n"
          ]
        }
      ],
      "source": [
        "d = np.eye(4)\n",
        "\n",
        "print(d)\n",
        "print(d.shape)"
      ]
    },
    {
      "cell_type": "code",
      "execution_count": null,
      "id": "daec3024",
      "metadata": {
        "id": "daec3024",
        "outputId": "7b02728b-dffe-4913-c00c-72e5ac36a985"
      },
      "outputs": [
        {
          "data": {
            "text/plain": [
              "array([[3, 3, 3, 3, 3],\n",
              "       [3, 3, 3, 3, 3],\n",
              "       [3, 3, 3, 3, 3],\n",
              "       [3, 3, 3, 3, 3]])"
            ]
          },
          "execution_count": 22,
          "metadata": {},
          "output_type": "execute_result"
        }
      ],
      "source": [
        "np.full([4, 5], 3)"
      ]
    },
    {
      "cell_type": "code",
      "execution_count": null,
      "id": "c5b22643",
      "metadata": {
        "id": "c5b22643",
        "outputId": "45214cfb-cdf3-4a9b-e025-ba99a4907b28"
      },
      "outputs": [
        {
          "data": {
            "text/plain": [
              "array([ 1.,  2.,  3.,  4.,  5.,  6.,  7.,  8.,  9., 10.])"
            ]
          },
          "execution_count": 23,
          "metadata": {},
          "output_type": "execute_result"
        }
      ],
      "source": [
        "np.linspace(1, 10, 10) "
      ]
    },
    {
      "cell_type": "code",
      "execution_count": null,
      "id": "c2f5de47",
      "metadata": {
        "id": "c2f5de47",
        "outputId": "6d41061a-a5dc-4b73-92f6-d503b1295fcb"
      },
      "outputs": [
        {
          "data": {
            "text/plain": [
              "array([2. , 3.5, 5. , 6.5, 8. ])"
            ]
          },
          "execution_count": 24,
          "metadata": {},
          "output_type": "execute_result"
        }
      ],
      "source": [
        "np.linspace(2, 8, 5) "
      ]
    },
    {
      "cell_type": "code",
      "execution_count": null,
      "id": "a5056a93",
      "metadata": {
        "id": "a5056a93",
        "outputId": "0c2c660b-5881-4525-ea57-c5b74264a097"
      },
      "outputs": [
        {
          "data": {
            "text/plain": [
              "array([[0.1766713 , 0.42659854, 0.24858737, 0.30815281],\n",
              "       [0.29323496, 0.59772719, 0.24355845, 0.84942658]])"
            ]
          },
          "execution_count": 25,
          "metadata": {},
          "output_type": "execute_result"
        }
      ],
      "source": [
        "np.random.random([2, 4])"
      ]
    },
    {
      "cell_type": "code",
      "execution_count": null,
      "id": "4cf45283",
      "metadata": {
        "id": "4cf45283",
        "outputId": "6b7cdfa0-d16e-4578-8711-a5d3b8d713b5"
      },
      "outputs": [
        {
          "data": {
            "text/plain": [
              "array([[ 6, 18, 12],\n",
              "       [ 8, 14,  1],\n",
              "       [12, 22,  4],\n",
              "       [10,  3,  6]])"
            ]
          },
          "execution_count": 26,
          "metadata": {},
          "output_type": "execute_result"
        }
      ],
      "source": [
        "array4 = np.array([ [6, 18, 12], [8, 14, 1], [12, 22, 4], [10, 3, 6] ])\n",
        "\n",
        "array4"
      ]
    },
    {
      "cell_type": "code",
      "execution_count": null,
      "id": "182c47a1",
      "metadata": {
        "id": "182c47a1",
        "outputId": "e004a125-201a-4afd-aa32-5a2957a7952a"
      },
      "outputs": [
        {
          "data": {
            "text/plain": [
              "1"
            ]
          },
          "execution_count": 27,
          "metadata": {},
          "output_type": "execute_result"
        }
      ],
      "source": [
        "array4.min()"
      ]
    },
    {
      "cell_type": "code",
      "execution_count": null,
      "id": "808f58ee",
      "metadata": {
        "id": "808f58ee",
        "outputId": "50f7473f-0ffd-4b9b-a614-9ffb0ddb7f94"
      },
      "outputs": [
        {
          "data": {
            "text/plain": [
              "22"
            ]
          },
          "execution_count": 28,
          "metadata": {},
          "output_type": "execute_result"
        }
      ],
      "source": [
        "array4.max()"
      ]
    },
    {
      "cell_type": "code",
      "execution_count": null,
      "id": "6a3fe4b4",
      "metadata": {
        "id": "6a3fe4b4",
        "outputId": "5ed1af57-e373-45ca-f7ca-64ee1b72ef02"
      },
      "outputs": [
        {
          "data": {
            "text/plain": [
              "5"
            ]
          },
          "execution_count": 29,
          "metadata": {},
          "output_type": "execute_result"
        }
      ],
      "source": [
        "array4.argmin()"
      ]
    },
    {
      "cell_type": "code",
      "execution_count": null,
      "id": "c2fb2f59",
      "metadata": {
        "id": "c2fb2f59",
        "outputId": "7f52ae49-524d-4742-92ff-bbc3a15355a9"
      },
      "outputs": [
        {
          "data": {
            "text/plain": [
              "7"
            ]
          },
          "execution_count": 30,
          "metadata": {},
          "output_type": "execute_result"
        }
      ],
      "source": [
        "array4.argmax()"
      ]
    },
    {
      "cell_type": "code",
      "execution_count": null,
      "id": "7600fe63",
      "metadata": {
        "id": "7600fe63",
        "outputId": "9bfc0cc4-e1fe-4da8-8367-393956d971a7"
      },
      "outputs": [
        {
          "data": {
            "text/plain": [
              "9.666666666666666"
            ]
          },
          "execution_count": 31,
          "metadata": {},
          "output_type": "execute_result"
        }
      ],
      "source": [
        "array4.mean()"
      ]
    },
    {
      "cell_type": "code",
      "execution_count": null,
      "id": "deee9187",
      "metadata": {
        "id": "deee9187",
        "outputId": "15ca03ca-08d2-46d7-8b7b-2c76d4b934b0"
      },
      "outputs": [
        {
          "data": {
            "text/plain": [
              "6.004627844883941"
            ]
          },
          "execution_count": 32,
          "metadata": {},
          "output_type": "execute_result"
        }
      ],
      "source": [
        "array4.std()"
      ]
    },
    {
      "cell_type": "code",
      "execution_count": null,
      "id": "9e33b7c2",
      "metadata": {
        "id": "9e33b7c2",
        "outputId": "258675f5-3612-4827-9885-ffa05c534b04"
      },
      "outputs": [
        {
          "data": {
            "text/plain": [
              "116"
            ]
          },
          "execution_count": 33,
          "metadata": {},
          "output_type": "execute_result"
        }
      ],
      "source": [
        "array4.sum()"
      ]
    },
    {
      "cell_type": "code",
      "execution_count": null,
      "id": "d8a117d9",
      "metadata": {
        "id": "d8a117d9",
        "outputId": "fff57d1d-5a7b-49c9-97ae-89833e27db9a"
      },
      "outputs": [
        {
          "data": {
            "text/plain": [
              "array([[ 6, 18, 12],\n",
              "       [ 8, 14,  1],\n",
              "       [12, 22,  4],\n",
              "       [10,  3,  6]])"
            ]
          },
          "execution_count": 34,
          "metadata": {},
          "output_type": "execute_result"
        }
      ],
      "source": [
        "array4"
      ]
    },
    {
      "cell_type": "code",
      "execution_count": null,
      "id": "ee78cbdc",
      "metadata": {
        "id": "ee78cbdc",
        "outputId": "7cff12c5-2369-42d6-81c0-32cdaf2ec8bc"
      },
      "outputs": [
        {
          "data": {
            "text/plain": [
              "array([[18],\n",
              "       [14],\n",
              "       [22],\n",
              "       [ 3]])"
            ]
          },
          "execution_count": 35,
          "metadata": {},
          "output_type": "execute_result"
        }
      ],
      "source": [
        "array4[0: , 1:2]"
      ]
    },
    {
      "cell_type": "code",
      "execution_count": null,
      "id": "e51393f1",
      "metadata": {
        "id": "e51393f1",
        "outputId": "bf07379c-3d47-4ae7-eae2-3ee964a89656"
      },
      "outputs": [
        {
          "data": {
            "text/plain": [
              "57"
            ]
          },
          "execution_count": 36,
          "metadata": {},
          "output_type": "execute_result"
        }
      ],
      "source": [
        "array4[0: , 1:2].sum()"
      ]
    },
    {
      "cell_type": "code",
      "execution_count": null,
      "id": "cd820298",
      "metadata": {
        "id": "cd820298",
        "outputId": "b5c34477-299b-4051-9d50-be14e79de408"
      },
      "outputs": [
        {
          "data": {
            "text/plain": [
              "array([[14,  1],\n",
              "       [22,  4]])"
            ]
          },
          "execution_count": 37,
          "metadata": {},
          "output_type": "execute_result"
        }
      ],
      "source": [
        "array4[1:3, 1:]"
      ]
    },
    {
      "cell_type": "code",
      "execution_count": null,
      "id": "c03369d5",
      "metadata": {
        "id": "c03369d5",
        "outputId": "cac0216c-36ff-479a-ac2e-6d25d5bcaabf"
      },
      "outputs": [
        {
          "data": {
            "text/plain": [
              "41"
            ]
          },
          "execution_count": 38,
          "metadata": {},
          "output_type": "execute_result"
        }
      ],
      "source": [
        "array4[1:3, 1:].sum()"
      ]
    },
    {
      "cell_type": "code",
      "execution_count": null,
      "id": "aff2041d",
      "metadata": {
        "id": "aff2041d",
        "outputId": "cf088932-3ca0-4529-a92b-b07efd0a6896"
      },
      "outputs": [
        {
          "data": {
            "text/plain": [
              "array([[ 6, 18, 12],\n",
              "       [ 8, 14,  1],\n",
              "       [12, 22,  4],\n",
              "       [10,  3,  6]])"
            ]
          },
          "execution_count": 39,
          "metadata": {},
          "output_type": "execute_result"
        }
      ],
      "source": [
        "array4"
      ]
    },
    {
      "cell_type": "code",
      "execution_count": null,
      "id": "ef08796f",
      "metadata": {
        "id": "ef08796f",
        "outputId": "803e7a7a-715c-4593-c685-bd8b1eab1309"
      },
      "outputs": [
        {
          "data": {
            "text/plain": [
              "array([[ 6,  8, 12, 10],\n",
              "       [18, 14, 22,  3],\n",
              "       [12,  1,  4,  6]])"
            ]
          },
          "execution_count": 40,
          "metadata": {},
          "output_type": "execute_result"
        }
      ],
      "source": [
        "array4.T"
      ]
    },
    {
      "cell_type": "code",
      "execution_count": null,
      "id": "4f77b2d7",
      "metadata": {
        "id": "4f77b2d7",
        "outputId": "31db2984-4be1-4085-d3a3-9b221017d158"
      },
      "outputs": [
        {
          "data": {
            "text/plain": [
              "array([10, 11, 12, 13, 14, 15, 16, 17, 18, 19])"
            ]
          },
          "execution_count": 41,
          "metadata": {},
          "output_type": "execute_result"
        }
      ],
      "source": [
        "e = np.arange(10, 20)\n",
        "e"
      ]
    },
    {
      "cell_type": "code",
      "execution_count": null,
      "id": "8a0325c9",
      "metadata": {
        "id": "8a0325c9",
        "outputId": "2f33dcf2-af3a-4fab-fd11-2bf8ae98912a"
      },
      "outputs": [
        {
          "data": {
            "text/plain": [
              "array([10, 12, 14, 16, 18])"
            ]
          },
          "execution_count": 42,
          "metadata": {},
          "output_type": "execute_result"
        }
      ],
      "source": [
        "f = np.arange(10, 20, 2)\n",
        "f"
      ]
    },
    {
      "cell_type": "code",
      "execution_count": null,
      "id": "268f0353",
      "metadata": {
        "id": "268f0353",
        "outputId": "dcbf4600-6fe0-41ab-b2bc-44773c4cf09e"
      },
      "outputs": [
        {
          "name": "stdout",
          "output_type": "stream",
          "text": [
            "(3, 4)\n",
            "[[2.83658379 5.18357007 3.76182424 2.43287666]\n",
            " [7.31660798 1.64804492 8.76554077 7.59109708]\n",
            " [2.32758506 3.06097462 9.51632432 8.38977823]]\n",
            "\n",
            "\n",
            "[[2.83658379 5.18357007]\n",
            " [3.76182424 2.43287666]\n",
            " [7.31660798 1.64804492]\n",
            " [8.76554077 7.59109708]\n",
            " [2.32758506 3.06097462]\n",
            " [9.51632432 8.38977823]]\n"
          ]
        }
      ],
      "source": [
        "g = np.random.uniform(1, 10, [3, 4])\n",
        "\n",
        "print(g.shape)\n",
        "print(g)\n",
        "print(\"\\n\")\n",
        "print(g.reshape([6, 2]))"
      ]
    },
    {
      "cell_type": "code",
      "execution_count": null,
      "id": "c82f6843",
      "metadata": {
        "id": "c82f6843"
      },
      "outputs": [],
      "source": [
        "array5 = np.array([ [8, 12, 20], [4, 42, 16], [32, 64, 9] ])"
      ]
    },
    {
      "cell_type": "code",
      "execution_count": null,
      "id": "6c1277bf",
      "metadata": {
        "id": "6c1277bf",
        "outputId": "a5752fca-7c0c-4434-bdac-63479a508ad3"
      },
      "outputs": [
        {
          "data": {
            "text/plain": [
              "array([[ 8, 12, 20],\n",
              "       [ 4, 42, 16],\n",
              "       [32, 64,  9]])"
            ]
          },
          "execution_count": 45,
          "metadata": {},
          "output_type": "execute_result"
        }
      ],
      "source": [
        "array5"
      ]
    },
    {
      "cell_type": "code",
      "execution_count": null,
      "id": "a6daf8f6",
      "metadata": {
        "id": "a6daf8f6",
        "outputId": "b88050a2-e1fd-476d-f32b-63d45f0a9d38"
      },
      "outputs": [
        {
          "data": {
            "text/plain": [
              "array([[ 4. ,  6. , 10. ],\n",
              "       [ 2. , 21. ,  8. ],\n",
              "       [16. , 32. ,  4.5]])"
            ]
          },
          "execution_count": 46,
          "metadata": {},
          "output_type": "execute_result"
        }
      ],
      "source": [
        "np.divide(array5, 2)"
      ]
    },
    {
      "cell_type": "code",
      "execution_count": null,
      "id": "090afa92",
      "metadata": {
        "id": "090afa92",
        "outputId": "f824899b-e649-475a-a207-0776f588fc70"
      },
      "outputs": [
        {
          "data": {
            "text/plain": [
              "array([[ 8, 12, 20],\n",
              "       [ 4, 42, 16],\n",
              "       [32, 64,  9]])"
            ]
          },
          "execution_count": 47,
          "metadata": {},
          "output_type": "execute_result"
        }
      ],
      "source": [
        "np.abs(array5)"
      ]
    },
    {
      "cell_type": "code",
      "execution_count": null,
      "id": "87717af1",
      "metadata": {
        "id": "87717af1",
        "outputId": "b6d717db-58e1-4941-f865-d9e020e60026"
      },
      "outputs": [
        {
          "data": {
            "text/plain": [
              "True"
            ]
          },
          "execution_count": 48,
          "metadata": {},
          "output_type": "execute_result"
        }
      ],
      "source": [
        "np.all(array5 >= 4)"
      ]
    },
    {
      "cell_type": "code",
      "execution_count": null,
      "id": "4c3cd191",
      "metadata": {
        "id": "4c3cd191",
        "outputId": "e1ac206c-e6c7-45c7-852d-0cca8a39cd7c"
      },
      "outputs": [
        {
          "data": {
            "text/plain": [
              "False"
            ]
          },
          "execution_count": 49,
          "metadata": {},
          "output_type": "execute_result"
        }
      ],
      "source": [
        "np.all(array5 == 4)"
      ]
    },
    {
      "cell_type": "code",
      "execution_count": null,
      "id": "71f0d9ba",
      "metadata": {
        "id": "71f0d9ba",
        "outputId": "062ac210-b0d6-4172-9e3b-76e6e6f700ff"
      },
      "outputs": [
        {
          "data": {
            "text/plain": [
              "True"
            ]
          },
          "execution_count": 50,
          "metadata": {},
          "output_type": "execute_result"
        }
      ],
      "source": [
        "np.any(array5 == 4)"
      ]
    },
    {
      "cell_type": "code",
      "execution_count": null,
      "id": "0fb99536",
      "metadata": {
        "id": "0fb99536",
        "outputId": "b43f1abf-eb88-4b47-fabe-6e3dfc1e0dba"
      },
      "outputs": [
        {
          "data": {
            "text/plain": [
              "True"
            ]
          },
          "execution_count": 51,
          "metadata": {},
          "output_type": "execute_result"
        }
      ],
      "source": [
        "np.any(array5 >= 10 )"
      ]
    },
    {
      "cell_type": "code",
      "execution_count": null,
      "id": "d041a689",
      "metadata": {
        "id": "d041a689",
        "outputId": "e9543810-244c-4e2b-de0a-9cc668dd1834"
      },
      "outputs": [
        {
          "data": {
            "text/plain": [
              "False"
            ]
          },
          "execution_count": 52,
          "metadata": {},
          "output_type": "execute_result"
        }
      ],
      "source": [
        "np.any(array5 >= 100 )"
      ]
    },
    {
      "cell_type": "code",
      "execution_count": null,
      "id": "fbe3dd14",
      "metadata": {
        "id": "fbe3dd14",
        "outputId": "b38da416-47bd-4b4e-ff76-084938f24a3e"
      },
      "outputs": [
        {
          "data": {
            "text/plain": [
              "4"
            ]
          },
          "execution_count": 53,
          "metadata": {},
          "output_type": "execute_result"
        }
      ],
      "source": [
        "np.min(array5)"
      ]
    },
    {
      "cell_type": "code",
      "execution_count": null,
      "id": "a343b8df",
      "metadata": {
        "id": "a343b8df",
        "outputId": "3d990124-ea24-4ca5-8b1f-908a5fcac8ca"
      },
      "outputs": [
        {
          "data": {
            "text/plain": [
              "64"
            ]
          },
          "execution_count": 54,
          "metadata": {},
          "output_type": "execute_result"
        }
      ],
      "source": [
        "np.max(array5)"
      ]
    },
    {
      "cell_type": "code",
      "execution_count": null,
      "id": "de0f8208",
      "metadata": {
        "id": "de0f8208",
        "outputId": "f3797d81-3747-4a81-9e36-e228bf1fa2bc"
      },
      "outputs": [
        {
          "data": {
            "text/plain": [
              "3"
            ]
          },
          "execution_count": 55,
          "metadata": {},
          "output_type": "execute_result"
        }
      ],
      "source": [
        "np.argmin(array5)"
      ]
    },
    {
      "cell_type": "code",
      "execution_count": null,
      "id": "68d9f031",
      "metadata": {
        "id": "68d9f031",
        "outputId": "89929cb5-88d5-4bc3-ff3e-f3ef16fa36b6"
      },
      "outputs": [
        {
          "data": {
            "text/plain": [
              "7"
            ]
          },
          "execution_count": 56,
          "metadata": {},
          "output_type": "execute_result"
        }
      ],
      "source": [
        "np.argmax(array5)"
      ]
    },
    {
      "cell_type": "code",
      "execution_count": null,
      "id": "f45034cb",
      "metadata": {
        "id": "f45034cb",
        "outputId": "04b6d51b-4711-4f9e-a6c3-ea8ce94bf610"
      },
      "outputs": [
        {
          "data": {
            "text/plain": [
              "array([[ 0.98935825, -0.53657292,  0.91294525],\n",
              "       [-0.7568025 , -0.91652155, -0.28790332],\n",
              "       [ 0.55142668,  0.92002604,  0.41211849]])"
            ]
          },
          "execution_count": 57,
          "metadata": {},
          "output_type": "execute_result"
        }
      ],
      "source": [
        "np.sin(array5)"
      ]
    },
    {
      "cell_type": "code",
      "execution_count": null,
      "id": "22d26625",
      "metadata": {
        "id": "22d26625",
        "outputId": "dc9c68a1-b1d0-4549-eeb3-62ad5660fc09"
      },
      "outputs": [
        {
          "data": {
            "text/plain": [
              "array([[-0.14550003,  0.84385396,  0.40808206],\n",
              "       [-0.65364362, -0.39998531, -0.95765948],\n",
              "       [ 0.83422336,  0.39185723, -0.91113026]])"
            ]
          },
          "execution_count": 58,
          "metadata": {},
          "output_type": "execute_result"
        }
      ],
      "source": [
        "np.cos(array5)"
      ]
    },
    {
      "cell_type": "code",
      "execution_count": null,
      "id": "f01afe83",
      "metadata": {
        "id": "f01afe83",
        "outputId": "87f0f7e4-0c71-4884-f415-67f5f4d763d5"
      },
      "outputs": [
        {
          "data": {
            "text/plain": [
              "array([[2.82842712, 3.46410162, 4.47213595],\n",
              "       [2.        , 6.4807407 , 4.        ],\n",
              "       [5.65685425, 8.        , 3.        ]])"
            ]
          },
          "execution_count": 59,
          "metadata": {},
          "output_type": "execute_result"
        }
      ],
      "source": [
        "np.sqrt(array5)"
      ]
    },
    {
      "cell_type": "code",
      "execution_count": null,
      "id": "46122249",
      "metadata": {
        "id": "46122249",
        "outputId": "8fa32896-366d-4cb0-fe46-2aeef79a8e17"
      },
      "outputs": [
        {
          "data": {
            "text/plain": [
              "23.0"
            ]
          },
          "execution_count": 60,
          "metadata": {},
          "output_type": "execute_result"
        }
      ],
      "source": [
        "np.average(array5)"
      ]
    },
    {
      "cell_type": "code",
      "execution_count": null,
      "id": "209f1118",
      "metadata": {
        "id": "209f1118",
        "outputId": "26c5690d-859c-4ea3-d2a1-74bbae6b8769"
      },
      "outputs": [
        {
          "data": {
            "text/plain": [
              "array([[ 8, 12, 20],\n",
              "       [ 4, 42, 16],\n",
              "       [32, 64,  9]])"
            ]
          },
          "execution_count": 61,
          "metadata": {},
          "output_type": "execute_result"
        }
      ],
      "source": [
        "array5"
      ]
    },
    {
      "cell_type": "code",
      "execution_count": null,
      "id": "45a945df",
      "metadata": {
        "id": "45a945df",
        "outputId": "8a4521d8-7159-412b-a354-b373d66dac6b"
      },
      "outputs": [
        {
          "data": {
            "text/plain": [
              "array([14.66666667, 39.33333333, 15.        ])"
            ]
          },
          "execution_count": 62,
          "metadata": {},
          "output_type": "execute_result"
        }
      ],
      "source": [
        "np.average(array5, axis=0)"
      ]
    },
    {
      "cell_type": "code",
      "execution_count": null,
      "id": "2f22eefa",
      "metadata": {
        "id": "2f22eefa",
        "outputId": "0e291840-6393-4ae0-ecc6-249346764423"
      },
      "outputs": [
        {
          "data": {
            "text/plain": [
              "array([13.33333333, 20.66666667, 35.        ])"
            ]
          },
          "execution_count": 63,
          "metadata": {},
          "output_type": "execute_result"
        }
      ],
      "source": [
        "np.average(array5, axis=1)"
      ]
    },
    {
      "cell_type": "code",
      "execution_count": null,
      "id": "4b0d054a",
      "metadata": {
        "id": "4b0d054a",
        "outputId": "98c29dba-a822-4dee-c6b3-5bdf20fdf359"
      },
      "outputs": [
        {
          "data": {
            "text/plain": [
              "207"
            ]
          },
          "execution_count": 64,
          "metadata": {},
          "output_type": "execute_result"
        }
      ],
      "source": [
        "np.sum(array5)"
      ]
    },
    {
      "cell_type": "code",
      "execution_count": null,
      "id": "3fc9e26a",
      "metadata": {
        "id": "3fc9e26a",
        "outputId": "199a44c8-d24d-42e8-d32b-81ff9907fdea"
      },
      "outputs": [
        {
          "data": {
            "text/plain": [
              "array([[ 8, 12, 20],\n",
              "       [ 4, 42, 16],\n",
              "       [32, 64,  9]])"
            ]
          },
          "execution_count": 65,
          "metadata": {},
          "output_type": "execute_result"
        }
      ],
      "source": [
        "array5"
      ]
    },
    {
      "cell_type": "code",
      "execution_count": null,
      "id": "4677ba03",
      "metadata": {
        "id": "4677ba03",
        "outputId": "aee850fb-cdd6-4217-ab21-c4b52148699c"
      },
      "outputs": [
        {
          "data": {
            "text/plain": [
              "array([ 44, 118,  45])"
            ]
          },
          "execution_count": 66,
          "metadata": {},
          "output_type": "execute_result"
        }
      ],
      "source": [
        "np.sum(array5, axis=0)"
      ]
    },
    {
      "cell_type": "code",
      "execution_count": null,
      "id": "ec4dfbea",
      "metadata": {
        "id": "ec4dfbea",
        "outputId": "9f10f22e-0d53-4248-ef35-317870db7c10"
      },
      "outputs": [
        {
          "data": {
            "text/plain": [
              "array([ 40,  62, 105])"
            ]
          },
          "execution_count": 67,
          "metadata": {},
          "output_type": "execute_result"
        }
      ],
      "source": [
        "np.sum(array5, axis=1)"
      ]
    },
    {
      "cell_type": "code",
      "execution_count": null,
      "id": "10c7503b",
      "metadata": {
        "id": "10c7503b",
        "outputId": "44617262-01c7-4835-fbb2-5d42335b2090"
      },
      "outputs": [
        {
          "data": {
            "text/plain": [
              "16.0"
            ]
          },
          "execution_count": 68,
          "metadata": {},
          "output_type": "execute_result"
        }
      ],
      "source": [
        "np.median(array5)"
      ]
    },
    {
      "cell_type": "code",
      "execution_count": null,
      "id": "9a2d98f2",
      "metadata": {
        "id": "9a2d98f2",
        "outputId": "2cf8c7eb-9405-40d2-b0ed-f5f5181825fa"
      },
      "outputs": [
        {
          "data": {
            "text/plain": [
              "2"
            ]
          },
          "execution_count": 69,
          "metadata": {},
          "output_type": "execute_result"
        }
      ],
      "source": [
        "np.ndim(array5)"
      ]
    },
    {
      "cell_type": "code",
      "execution_count": null,
      "id": "0348e4eb",
      "metadata": {
        "id": "0348e4eb",
        "outputId": "5bc0d915-e6da-4d54-f553-8dd88730f606"
      },
      "outputs": [
        {
          "data": {
            "text/plain": [
              "array([[ 8, 12, 20],\n",
              "       [ 4, 42, 16],\n",
              "       [32, 64,  9]])"
            ]
          },
          "execution_count": 70,
          "metadata": {},
          "output_type": "execute_result"
        }
      ],
      "source": [
        "array5"
      ]
    },
    {
      "cell_type": "code",
      "execution_count": null,
      "id": "fe5bce06",
      "metadata": {
        "id": "fe5bce06",
        "outputId": "93227c35-c987-4d02-a832-0c9e5073ef7a"
      },
      "outputs": [
        {
          "data": {
            "text/plain": [
              "array([[ 4, 12,  9],\n",
              "       [ 8, 42, 16],\n",
              "       [32, 64, 20]])"
            ]
          },
          "execution_count": 71,
          "metadata": {},
          "output_type": "execute_result"
        }
      ],
      "source": [
        "np.sort(array5, axis=0)"
      ]
    },
    {
      "cell_type": "code",
      "execution_count": null,
      "id": "3dd2c5be",
      "metadata": {
        "id": "3dd2c5be",
        "outputId": "47e2fb41-6f9a-469c-c994-c3fdd682ba40"
      },
      "outputs": [
        {
          "data": {
            "text/plain": [
              "array([[ 8, 12, 20],\n",
              "       [ 4, 16, 42],\n",
              "       [ 9, 32, 64]])"
            ]
          },
          "execution_count": 72,
          "metadata": {},
          "output_type": "execute_result"
        }
      ],
      "source": [
        "np.sort(array5, axis=1)"
      ]
    },
    {
      "cell_type": "code",
      "execution_count": null,
      "id": "675a76cb",
      "metadata": {
        "id": "675a76cb"
      },
      "outputs": [],
      "source": [
        "a = np.array([[8, 2, 12], [4, 15, 2]])\n",
        "b = np.array([[10, 20, 18], [14, 22, 6]])"
      ]
    },
    {
      "cell_type": "code",
      "execution_count": null,
      "id": "e29fb172",
      "metadata": {
        "id": "e29fb172",
        "outputId": "e089abb3-4a0b-4daf-ef8d-a03b6dee9e18"
      },
      "outputs": [
        {
          "data": {
            "text/plain": [
              "array([[ 8,  2, 12],\n",
              "       [ 4, 15,  2]])"
            ]
          },
          "execution_count": 74,
          "metadata": {},
          "output_type": "execute_result"
        }
      ],
      "source": [
        "a"
      ]
    },
    {
      "cell_type": "code",
      "execution_count": null,
      "id": "8cb207a4",
      "metadata": {
        "id": "8cb207a4",
        "outputId": "169d956a-083f-4dcb-92dc-2ca44ffb1a6b"
      },
      "outputs": [
        {
          "data": {
            "text/plain": [
              "array([[10, 20, 18],\n",
              "       [14, 22,  6]])"
            ]
          },
          "execution_count": 75,
          "metadata": {},
          "output_type": "execute_result"
        }
      ],
      "source": [
        "b"
      ]
    },
    {
      "cell_type": "code",
      "execution_count": null,
      "id": "25e9f814",
      "metadata": {
        "id": "25e9f814",
        "outputId": "df217a32-15ea-4578-9c52-04e7c69ffcf5"
      },
      "outputs": [
        {
          "data": {
            "text/plain": [
              "array([[18, 22, 30],\n",
              "       [18, 37,  8]])"
            ]
          },
          "execution_count": 76,
          "metadata": {},
          "output_type": "execute_result"
        }
      ],
      "source": [
        "a+b"
      ]
    },
    {
      "cell_type": "code",
      "execution_count": null,
      "id": "5633402b",
      "metadata": {
        "id": "5633402b",
        "outputId": "d0d14bf9-ff1b-4152-b925-252787127fd2"
      },
      "outputs": [
        {
          "data": {
            "text/plain": [
              "array([[ 2, 18,  6],\n",
              "       [10,  7,  4]])"
            ]
          },
          "execution_count": 77,
          "metadata": {},
          "output_type": "execute_result"
        }
      ],
      "source": [
        "b-a"
      ]
    },
    {
      "cell_type": "code",
      "execution_count": null,
      "id": "b2597441",
      "metadata": {
        "id": "b2597441",
        "outputId": "1c17be21-82e0-4f0d-8c9a-642c8ba503e7"
      },
      "outputs": [
        {
          "data": {
            "text/plain": [
              "array([[ 80,  40, 216],\n",
              "       [ 56, 330,  12]])"
            ]
          },
          "execution_count": 78,
          "metadata": {},
          "output_type": "execute_result"
        }
      ],
      "source": [
        "a*b"
      ]
    },
    {
      "cell_type": "code",
      "execution_count": null,
      "id": "9361d79b",
      "metadata": {
        "id": "9361d79b",
        "outputId": "16ec2d6d-d61a-46db-b4ea-26b5bf67b43d"
      },
      "outputs": [
        {
          "data": {
            "text/plain": [
              "array([[ 1.25      , 10.        ,  1.5       ],\n",
              "       [ 3.5       ,  1.46666667,  3.        ]])"
            ]
          },
          "execution_count": 79,
          "metadata": {},
          "output_type": "execute_result"
        }
      ],
      "source": [
        "b/a"
      ]
    },
    {
      "cell_type": "code",
      "execution_count": null,
      "id": "b41f1f6c",
      "metadata": {
        "id": "b41f1f6c",
        "outputId": "ab6bea28-9e7b-4a4b-d9ff-4d5d19143de0"
      },
      "outputs": [
        {
          "data": {
            "text/plain": [
              "array([[ 8,  2, 12],\n",
              "       [ 4, 15,  2]])"
            ]
          },
          "execution_count": 80,
          "metadata": {},
          "output_type": "execute_result"
        }
      ],
      "source": [
        "a"
      ]
    },
    {
      "cell_type": "code",
      "execution_count": null,
      "id": "e0d5ee0e",
      "metadata": {
        "id": "e0d5ee0e",
        "outputId": "a061339e-7e7a-481c-f040-a925eab2fa8c"
      },
      "outputs": [
        {
          "data": {
            "text/plain": [
              "array([[10, 20, 18],\n",
              "       [14, 22,  6]])"
            ]
          },
          "execution_count": 81,
          "metadata": {},
          "output_type": "execute_result"
        }
      ],
      "source": [
        "b"
      ]
    },
    {
      "cell_type": "code",
      "execution_count": null,
      "id": "687bf322",
      "metadata": {
        "id": "687bf322",
        "outputId": "a8616695-c49b-4e06-a180-2c5ea82d9049"
      },
      "outputs": [
        {
          "data": {
            "text/plain": [
              "array([[ 8,  2, 12],\n",
              "       [ 4, 15,  2],\n",
              "       [10, 20, 18],\n",
              "       [14, 22,  6]])"
            ]
          },
          "execution_count": 82,
          "metadata": {},
          "output_type": "execute_result"
        }
      ],
      "source": [
        "np.vstack( (a, b) )"
      ]
    },
    {
      "cell_type": "code",
      "execution_count": null,
      "id": "d3408e16",
      "metadata": {
        "id": "d3408e16",
        "outputId": "063470b5-6043-455d-fbe0-061c29efc25e"
      },
      "outputs": [
        {
          "data": {
            "text/plain": [
              "array([[ 8,  2, 12, 10, 20, 18],\n",
              "       [ 4, 15,  2, 14, 22,  6]])"
            ]
          },
          "execution_count": 83,
          "metadata": {},
          "output_type": "execute_result"
        }
      ],
      "source": [
        "np.hstack((a, b))"
      ]
    },
    {
      "cell_type": "code",
      "execution_count": null,
      "id": "6703bfad",
      "metadata": {
        "id": "6703bfad",
        "outputId": "7f04e314-2aa0-41e8-aafe-4e254c266f78"
      },
      "outputs": [
        {
          "data": {
            "text/plain": [
              "array([[ 8,  2, 12],\n",
              "       [ 4, 15,  2]])"
            ]
          },
          "execution_count": 84,
          "metadata": {},
          "output_type": "execute_result"
        }
      ],
      "source": [
        "a"
      ]
    },
    {
      "cell_type": "code",
      "execution_count": null,
      "id": "a82063d2",
      "metadata": {
        "id": "a82063d2",
        "outputId": "aa075873-5344-4b89-8465-00ba98d58ee6"
      },
      "outputs": [
        {
          "name": "stdout",
          "output_type": "stream",
          "text": [
            "[ 8  2 12]\n",
            "[ 4 15  2]\n"
          ]
        }
      ],
      "source": [
        "for i in a:\n",
        "    print( i )"
      ]
    },
    {
      "cell_type": "code",
      "execution_count": null,
      "id": "ade08c28",
      "metadata": {
        "id": "ade08c28"
      },
      "outputs": [],
      "source": [
        "L1 = []\n",
        "for i in a:\n",
        "    for j in i:\n",
        "        L1.append(j)"
      ]
    },
    {
      "cell_type": "code",
      "execution_count": null,
      "id": "3f0abc2a",
      "metadata": {
        "id": "3f0abc2a",
        "outputId": "d3c0dba4-9ad5-480c-9deb-466a4ebbf388"
      },
      "outputs": [
        {
          "name": "stdout",
          "output_type": "stream",
          "text": [
            "[8, 2, 12, 4, 15, 2]\n",
            "<class 'list'>\n"
          ]
        }
      ],
      "source": [
        "print(L1)\n",
        "print(type(L1))"
      ]
    },
    {
      "cell_type": "code",
      "execution_count": null,
      "id": "518a3f37",
      "metadata": {
        "id": "518a3f37",
        "outputId": "20078a00-ee22-4032-8706-5f6c74ad0cae"
      },
      "outputs": [
        {
          "data": {
            "text/plain": [
              "array([[ 8,  2, 12],\n",
              "       [ 4, 15,  2]])"
            ]
          },
          "execution_count": 88,
          "metadata": {},
          "output_type": "execute_result"
        }
      ],
      "source": [
        "a"
      ]
    },
    {
      "cell_type": "code",
      "execution_count": null,
      "id": "43475259",
      "metadata": {
        "id": "43475259",
        "outputId": "e18118c0-3208-419f-bd5f-114862bb2e86"
      },
      "outputs": [
        {
          "name": "stdout",
          "output_type": "stream",
          "text": [
            "(0, 0) 8\n",
            "(0, 1) 2\n",
            "(0, 2) 12\n",
            "(1, 0) 4\n",
            "(1, 1) 15\n",
            "(1, 2) 2\n"
          ]
        }
      ],
      "source": [
        "for idx, x in np.ndenumerate(a):\n",
        "    print(idx, x)"
      ]
    },
    {
      "cell_type": "code",
      "execution_count": null,
      "id": "7c5c770e",
      "metadata": {
        "id": "7c5c770e"
      },
      "outputs": [],
      "source": [
        ""
      ]
    },
    {
      "cell_type": "code",
      "execution_count": null,
      "id": "c6923c29",
      "metadata": {
        "id": "c6923c29"
      },
      "outputs": [],
      "source": [
        ""
      ]
    }
  ],
  "metadata": {
    "kernelspec": {
      "display_name": "Python 3",
      "language": "python",
      "name": "python3"
    },
    "language_info": {
      "codemirror_mode": {
        "name": "ipython",
        "version": 3
      },
      "file_extension": ".py",
      "mimetype": "text/x-python",
      "name": "python",
      "nbconvert_exporter": "python",
      "pygments_lexer": "ipython3",
      "version": "3.8.8"
    },
    "colab": {
      "name": "11_numpy.ipynb",
      "provenance": [],
      "include_colab_link": true
    }
  },
  "nbformat": 4,
  "nbformat_minor": 5
}
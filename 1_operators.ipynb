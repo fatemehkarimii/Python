{
  "nbformat": 4,
  "nbformat_minor": 0,
  "metadata": {
    "colab": {
      "name": "1_operators.ipynb",
      "provenance": [],
      "authorship_tag": "ABX9TyOyfeQfTjBU9Nsf61P3S3XZ",
      "include_colab_link": true
    },
    "kernelspec": {
      "name": "python3",
      "display_name": "Python 3"
    },
    "language_info": {
      "name": "python"
    }
  },
  "cells": [
    {
      "cell_type": "markdown",
      "metadata": {
        "id": "view-in-github",
        "colab_type": "text"
      },
      "source": [
        "<a href=\"https://colab.research.google.com/github/fatemehkarimii/Python/blob/main/1_operators.ipynb\" target=\"_parent\"><img src=\"https://colab.research.google.com/assets/colab-badge.svg\" alt=\"Open In Colab\"/></a>"
      ]
    },
    {
      "cell_type": "markdown",
      "source": [
        "operator"
      ],
      "metadata": {
        "id": "nGUqSgVqe3da"
      }
    },
    {
      "cell_type": "code",
      "source": [
        "a = 2\n",
        "b = 3\n",
        "c, d = 4, 5\n",
        "\n",
        "print(\"a\")\n",
        "print(a)\n",
        "print(\"a :\" , a)\n",
        "print(\"d :\" , d)"
      ],
      "metadata": {
        "colab": {
          "base_uri": "https://localhost:8080/"
        },
        "id": "UrZkLgHFi0ao",
        "outputId": "4f7bb37d-40c5-4cde-e27e-dbd72ba1c964"
      },
      "execution_count": null,
      "outputs": [
        {
          "output_type": "stream",
          "name": "stdout",
          "text": [
            "a\n",
            "2\n",
            "a : 2\n",
            "d : 5\n"
          ]
        }
      ]
    },
    {
      "cell_type": "code",
      "source": [
        "a + b "
      ],
      "metadata": {
        "colab": {
          "base_uri": "https://localhost:8080/"
        },
        "id": "n27TEJyWlhm5",
        "outputId": "035b8476-2422-40ba-e295-218c90495ba8"
      },
      "execution_count": null,
      "outputs": [
        {
          "output_type": "execute_result",
          "data": {
            "text/plain": [
              "5"
            ]
          },
          "metadata": {},
          "execution_count": 10
        }
      ]
    },
    {
      "cell_type": "code",
      "source": [
        "f = c + d "
      ],
      "metadata": {
        "id": "j0vy_JTWlbzf"
      },
      "execution_count": null,
      "outputs": []
    },
    {
      "cell_type": "code",
      "source": [
        "print(f\"a + b = {a + b}\")\n",
        "print(f\"c - d = {c - d}\")\n",
        "print(f\"a / b = {a / b}\")\n",
        "print(f\"c * d = {c * d}\")\n",
        "print(f\"a // b = {a // b}\")\n",
        "#df.to_csv(f'./user_{user}.csv')"
      ],
      "metadata": {
        "id": "DMHu-o_Sfmxv",
        "colab": {
          "base_uri": "https://localhost:8080/"
        },
        "outputId": "dc68fc40-093c-4554-ba97-7491f3236e83"
      },
      "execution_count": null,
      "outputs": [
        {
          "output_type": "stream",
          "name": "stdout",
          "text": [
            "a + b = 5\n",
            "c - d = -1\n",
            "a / b = 0.6666666666666666\n",
            "c * d = 20\n",
            "a // b = 0\n"
          ]
        }
      ]
    },
    {
      "cell_type": "code",
      "source": [
        "print(f\"6 + 5 = {6 + 5}\")\n",
        "print(f\"6 - 5 = {6 - 5}\")\n",
        "print(f\"6 * 5 = {6 * 5}\")\n",
        "print(f\"6 / 5 = {6 / 5}\")\n",
        "print(f\"6 // 5 = {6 // 5}\")\n",
        "print(f\"6 % 5 = {6 % 5}\")"
      ],
      "metadata": {
        "colab": {
          "base_uri": "https://localhost:8080/"
        },
        "id": "GgX6rYZLdm-z",
        "outputId": "2f513326-d45a-4135-a960-35b41c691e65"
      },
      "execution_count": null,
      "outputs": [
        {
          "output_type": "stream",
          "name": "stdout",
          "text": [
            "6 + 5 = 11\n",
            "6 - 5 = 1\n",
            "6 * 5 = 30\n",
            "6 / 5 = 1.2\n",
            "6 // 5 = 1\n",
            "6 % 5 = 1\n"
          ]
        }
      ]
    },
    {
      "cell_type": "code",
      "source": [
        "a, b, c, d = 1, 3.1, 5, 7 \n",
        "a += 5  # a = a + 5\n",
        "b -= 2  # b = b - 2 \n",
        "c *= 1  # c = c * 1\n",
        "d /= 3  # d = d / 3\n",
        "print(\"a :\" , a,\",b :\" , b,\",c :\" , c,\",d :\" , d)"
      ],
      "metadata": {
        "colab": {
          "base_uri": "https://localhost:8080/"
        },
        "id": "rHfvGboonG2T",
        "outputId": "7e33477c-9b0d-4f9b-c7a3-765df633681a"
      },
      "execution_count": null,
      "outputs": [
        {
          "output_type": "stream",
          "name": "stdout",
          "text": [
            "a : 6 ,b : 1.1 ,c : 5 ,d : 2.3333333333333335\n"
          ]
        }
      ]
    },
    {
      "cell_type": "code",
      "source": [
        " #(), *,/\n",
        " 10 - 8 * 3\n",
        " (4 + 8) / 6 "
      ],
      "metadata": {
        "colab": {
          "base_uri": "https://localhost:8080/"
        },
        "id": "6rLTm8nair2l",
        "outputId": "0312a53d-d47f-4400-dbbe-5c4b84e6c498"
      },
      "execution_count": null,
      "outputs": [
        {
          "output_type": "execute_result",
          "data": {
            "text/plain": [
              "-14"
            ]
          },
          "metadata": {},
          "execution_count": 12
        }
      ]
    },
    {
      "cell_type": "code",
      "source": [
        "  x = 2\n",
        "  y = 3\n",
        "  x == y"
      ],
      "metadata": {
        "colab": {
          "base_uri": "https://localhost:8080/"
        },
        "id": "HNAfsztPmJEd",
        "outputId": "d62d7703-2bf8-41e5-e892-46b411ab8dfa"
      },
      "execution_count": null,
      "outputs": [
        {
          "output_type": "execute_result",
          "data": {
            "text/plain": [
              "False"
            ]
          },
          "metadata": {},
          "execution_count": 15
        }
      ]
    },
    {
      "cell_type": "code",
      "source": [
        "  x = 0\n",
        "  y = 0\n",
        "  x == y"
      ],
      "metadata": {
        "colab": {
          "base_uri": "https://localhost:8080/"
        },
        "id": "sHCP9eJAovw9",
        "outputId": "4ed5d559-f850-44c7-826c-7708f2d3da16"
      },
      "execution_count": null,
      "outputs": [
        {
          "output_type": "execute_result",
          "data": {
            "text/plain": [
              "True"
            ]
          },
          "metadata": {},
          "execution_count": 17
        }
      ]
    },
    {
      "cell_type": "code",
      "source": [
        "print(0 == 0)\n",
        "print(7 == 9)\n",
        "print(1 != 1)\n",
        "print(1 != 2)"
      ],
      "metadata": {
        "colab": {
          "base_uri": "https://localhost:8080/"
        },
        "id": "PlZVcsjEo24D",
        "outputId": "7ded19f0-3ef8-4458-ee95-1943eca26d65"
      },
      "execution_count": null,
      "outputs": [
        {
          "output_type": "stream",
          "name": "stdout",
          "text": [
            "True\n",
            "False\n",
            "False\n",
            "True\n"
          ]
        }
      ]
    },
    {
      "cell_type": "code",
      "source": [
        "print(0 > 0)\n",
        "print(0 >= 0)\n",
        "print(7 <  9)\n",
        "print(1 <= 1)"
      ],
      "metadata": {
        "colab": {
          "base_uri": "https://localhost:8080/"
        },
        "id": "oFwxN-FMpQIs",
        "outputId": "48b83ca0-c6ae-457a-8c67-4b29751fe5f0"
      },
      "execution_count": null,
      "outputs": [
        {
          "output_type": "stream",
          "name": "stdout",
          "text": [
            "False\n",
            "True\n",
            "True\n",
            "True\n"
          ]
        }
      ]
    },
    {
      "cell_type": "code",
      "execution_count": null,
      "metadata": {
        "id": "HzvCK9NuUAx4",
        "colab": {
          "base_uri": "https://localhost:8080/"
        },
        "outputId": "57a46731-8e6a-4a6d-e342-6540c6522e5b"
      },
      "outputs": [
        {
          "output_type": "stream",
          "name": "stdout",
          "text": [
            "NOT 0 = True\n",
            "NOT 1 = False\n",
            " 0 AND 0 = 0\n",
            " 0 AND 1 = 0\n",
            " 1 AND 0 = 0\n",
            " 1 AND 1 = 1\n",
            " 0 NAND 0 = True\n",
            " 0 NAND 1 = True\n",
            " 1 NAND 0 = True\n",
            " 1 NAND 1 = False\n",
            " 0 OR 0 = 0\n",
            " 0 OR 1 = 1\n",
            " 1 OR 0 = 1\n",
            " 1 PR 1 = 1\n",
            " 0 NOR 0 = True\n",
            " 0 NOR 1 = False\n",
            " 1 NOR 0 = False\n",
            " 1 NOR 1 = False\n",
            " 0 XOR 0 = 0\n",
            " 0 XOR 1 = 1\n",
            " 1 XOR 0 = 1\n",
            " 1 XOR 1 = 0\n",
            " 0 XOR 0 = True\n",
            " 0 XOR 1 = False\n",
            " 1 XOR 0 = False\n",
            " 1 XOR 1 = True\n",
            " 0 XNOR 0 = False\n",
            " 0 XNOR 1 = True\n",
            " 1 XNOR 0 = True\n",
            " 1 XNOR 1 = False\n"
          ]
        }
      ],
      "source": [
        "# NOT\n",
        "print(f\"NOT 0 = {not 0}\")\n",
        "print(f\"NOT 1 = {not 1}\")\n",
        "\n",
        "print(not (2!= 6))\n",
        "print(not (12/6 ==3))\n",
        "print(not (7 < 9))\n",
        "\n",
        "# AND\n",
        "print(f\" 0 AND 0 = {0 & 0}\")\n",
        "print(f\" 0 AND 1 = {0 & 1}\")\n",
        "print(f\" 1 AND 0 = {1 & 0}\")\n",
        "print(f\" 1 AND 1 = {1 & 1}\")\n",
        "\n",
        "print(4>3 and 2!= 6)\n",
        "print(7-2 == 5  and 12/6 ==3)\n",
        "print(3==9 and 4!=6 and 7 < 9)\n",
        "\n",
        "\n",
        "# NAND\n",
        "print(f\" 0 NAND 0 = {not (0 & 0)}\")\n",
        "print(f\" 0 NAND 1 = {not (0 & 1)}\")\n",
        "print(f\" 1 NAND 0 = {not (1 & 0)}\")\n",
        "print(f\" 1 NAND 1 = {not (1 & 1)}\")\n",
        "\n",
        "print(not (3==9 and 4!=6 and 7 < 9))\n",
        "\n",
        "# OR \n",
        "print(f\" 0 OR 0 = {0 | 0}\")\n",
        "print(f\" 0 OR 1 = {0 | 1}\")\n",
        "print(f\" 1 OR 0 = {1 | 0}\")\n",
        "print(f\" 1 PR 1 = {1 | 1}\")\n",
        "\n",
        "print(4>3 or 2!= 6)\n",
        "print(7-2 == 5  or 12/6 ==3)\n",
        "print(3==9 or 4!=6 or 7 < 9)\n",
        "\n",
        "\n",
        "# NOR\n",
        "print(f\" 0 NOR 0 = {not (0 | 0)}\")\n",
        "print(f\" 0 NOR 1 = {not (0 | 1)}\")\n",
        "print(f\" 1 NOR 0 = {not (1 | 0)}\")\n",
        "print(f\" 1 NOR 1 = {not (1 | 1)}\")\n",
        "print(not (3==9 or 4!=6 or 7 < 9))\n",
        "\n",
        "# XOR\n",
        "print(f\" 0 XOR 0 = {0 ^ 0}\")\n",
        "print(f\" 0 XOR 1 = {0 ^ 1}\")\n",
        "print(f\" 1 XOR 0 = {1 ^ 0}\")\n",
        "print(f\" 1 XOR 1 = {1 ^ 1}\")\n",
        "\n",
        "# XOR\n",
        "print(f\" 0 XOR 0 = {0 == 0}\")\n",
        "print(f\" 0 XOR 1 = {0 == 1}\")\n",
        "print(f\" 1 XOR 0 = {1 == 0}\")\n",
        "print(f\" 1 XOR 1 = {1 == 1}\")\n",
        "\n",
        "# XNOR\n",
        "print(f\" 0 XNOR 0 = {not (0 == 0)}\")\n",
        "print(f\" 0 XNOR 1 = {not (0 == 1)}\")\n",
        "print(f\" 1 XNOR 0 = {not (1 == 0)}\")\n",
        "print(f\" 1 XNOR 1 = {not (1 == 1)}\")"
      ]
    },
    {
      "cell_type": "code",
      "source": [
        "print(f\" a = {int(3)}\")\n",
        "print(f\"b = {int(3.4)}\")\n",
        "print(f\"c = {float (3)}\")"
      ],
      "metadata": {
        "colab": {
          "base_uri": "https://localhost:8080/"
        },
        "id": "Us2wYKHhpukZ",
        "outputId": "089403ef-4456-4c21-f47a-ccfe89d11cd0"
      },
      "execution_count": null,
      "outputs": [
        {
          "output_type": "stream",
          "name": "stdout",
          "text": [
            " a = 3\n",
            "b = 3\n",
            "c = 3.0\n"
          ]
        }
      ]
    },
    {
      "cell_type": "code",
      "source": [
        "x = int(3.2) + float(8) / int(2.8)\n",
        "print('x is', x)\n",
        "print('type(x) is', type(x))"
      ],
      "metadata": {
        "colab": {
          "base_uri": "https://localhost:8080/"
        },
        "id": "ZF_X6hNbAn2t",
        "outputId": "826d7044-e020-4bc1-eaad-5c0bd6446e62"
      },
      "execution_count": null,
      "outputs": [
        {
          "output_type": "stream",
          "name": "stdout",
          "text": [
            "x is 7.0\n",
            "type(x) is <class 'float'>\n"
          ]
        }
      ]
    },
    {
      "cell_type": "code",
      "source": [
        "int(8) / int(2.8)"
      ],
      "metadata": {
        "id": "yMk1JnlWi7hz"
      },
      "execution_count": null,
      "outputs": []
    },
    {
      "cell_type": "code",
      "source": [
        "print('type(True) is', type(True))\n",
        "print('type(False) is', type(False))\n",
        "print('type(2==5) is', type(2==5))\n",
        "print('type(2) is', type(2))\n",
        "print('type(2.) is', type(2.))\n",
        "print('type(\"2\") is', type(\"2\")) # \" '1' \", ' \"2\" '"
      ],
      "metadata": {
        "colab": {
          "base_uri": "https://localhost:8080/"
        },
        "id": "9QFakCwrA6km",
        "outputId": "beb7cb57-09df-4f26-eb9f-dbbf3f2b93e0"
      },
      "execution_count": null,
      "outputs": [
        {
          "output_type": "stream",
          "name": "stdout",
          "text": [
            "type(True) is <class 'bool'>\n",
            "type(False) is <class 'bool'>\n",
            "type(2==5) is <class 'bool'>\n",
            "type(2) is <class 'int'>\n",
            "type(2.) is <class 'float'>\n",
            "type(\"2\") is <class 'str'>\n"
          ]
        }
      ]
    },
    {
      "cell_type": "markdown",
      "source": [
        "String"
      ],
      "metadata": {
        "id": "v3CcqRc1CB0K"
      }
    },
    {
      "cell_type": "code",
      "source": [
        "str1 = 'welcome '\n",
        "str2 = 'to '\n",
        "str3 = 'python!'\n",
        "str4 = str1 + str2 + str3\n",
        "\n",
        "print(str4)                 #welcome to python!\n",
        "\n",
        "print(2*str4)               #welcome to python!welcome to python!\n",
        "# print(str4 + 2)---> str + int  Error \n",
        "\n",
        "print(len(str1))            #8\n",
        "\n",
        "print(str1[6])              #e\n",
        "print(str1[:])              #welcome\n",
        "print(str1[0:])             #welcome\n",
        "print(str1[:2])             #we\n",
        "print(str1[2:])             #lcome\n",
        "print(str1[2:5])            #lco\n",
        "print(str3[:-1])            #python\n",
        "print(str3[4:-1])           #on\n",
        "print(str1[:-5])            #wel\n",
        "print(str1[-1])             #space\n",
        "print(str1[-3])             #m"
      ],
      "metadata": {
        "colab": {
          "base_uri": "https://localhost:8080/"
        },
        "id": "p3sJ_kN8B73k",
        "outputId": "4b8de202-d497-4b97-bf0b-108bdd2dafe1"
      },
      "execution_count": null,
      "outputs": [
        {
          "output_type": "stream",
          "name": "stdout",
          "text": [
            "welcome to python!\n",
            "welcome to python!welcome to python!\n",
            "8\n",
            "e\n",
            "welcome \n",
            "welcome \n",
            "we\n",
            "lcome \n",
            "lco\n",
            "python\n",
            "on\n",
            "wel\n",
            " \n",
            "m\n"
          ]
        }
      ]
    },
    {
      "cell_type": "code",
      "source": [
        "str3.find('p')  # index\n",
        "str3.find('l')  # -1"
      ],
      "metadata": {
        "colab": {
          "base_uri": "https://localhost:8080/"
        },
        "id": "ug4wmWB9R_0e",
        "outputId": "9f632151-21cb-4e9d-af69-91f2d0c6e1a4"
      },
      "execution_count": null,
      "outputs": [
        {
          "output_type": "execute_result",
          "data": {
            "text/plain": [
              "0"
            ]
          },
          "metadata": {},
          "execution_count": 11
        }
      ]
    },
    {
      "cell_type": "code",
      "source": [
        "age = input(\" please enter your age: \")"
      ],
      "metadata": {
        "colab": {
          "base_uri": "https://localhost:8080/"
        },
        "id": "rndjPY6gJ_Qk",
        "outputId": "34a85e2b-790c-43e7-ef9c-5b0fd05ef348"
      },
      "execution_count": null,
      "outputs": [
        {
          "name": "stdout",
          "output_type": "stream",
          "text": [
            " please enter your age: 27\n"
          ]
        }
      ]
    },
    {
      "cell_type": "code",
      "source": [
        "print('age: ',age)\n",
        "print(\"type(age) is\" ,type(age))\n",
        "int(age)"
      ],
      "metadata": {
        "colab": {
          "base_uri": "https://localhost:8080/"
        },
        "id": "7S_ahcPaKRjl",
        "outputId": "cd50142b-b23f-405f-e610-f0f930f76059"
      },
      "execution_count": null,
      "outputs": [
        {
          "output_type": "stream",
          "name": "stdout",
          "text": [
            "age:  27\n",
            "type(age) is <class 'str'>\n"
          ]
        },
        {
          "output_type": "execute_result",
          "data": {
            "text/plain": [
              "27"
            ]
          },
          "metadata": {},
          "execution_count": 42
        }
      ]
    },
    {
      "cell_type": "code",
      "source": [
        "str1 = \"PYTHON\"\n",
        "str1.lower()"
      ],
      "metadata": {
        "colab": {
          "base_uri": "https://localhost:8080/",
          "height": 36
        },
        "id": "pQ3FGSkOKwb3",
        "outputId": "014ac2bb-64a6-4e98-a011-a9cef2b2c024"
      },
      "execution_count": null,
      "outputs": [
        {
          "output_type": "execute_result",
          "data": {
            "text/plain": [
              "'python'"
            ],
            "application/vnd.google.colaboratory.intrinsic+json": {
              "type": "string"
            }
          },
          "metadata": {},
          "execution_count": 63
        }
      ]
    },
    {
      "cell_type": "code",
      "source": [
        "str1 = \"python\"\n",
        "str1.islower()"
      ],
      "metadata": {
        "colab": {
          "base_uri": "https://localhost:8080/"
        },
        "id": "72FcgdtNf31l",
        "outputId": "31ea211b-57c6-4a5b-90fb-0561951c07c2"
      },
      "execution_count": null,
      "outputs": [
        {
          "output_type": "execute_result",
          "data": {
            "text/plain": [
              "True"
            ]
          },
          "metadata": {},
          "execution_count": 64
        }
      ]
    },
    {
      "cell_type": "code",
      "source": [
        "str1 = \"python\"\n",
        "str1.upper()"
      ],
      "metadata": {
        "id": "RsSWYOKWgGk5"
      },
      "execution_count": null,
      "outputs": []
    },
    {
      "cell_type": "code",
      "source": [
        "str1 = \"PYTHON\"\n",
        "str1.isupper()"
      ],
      "metadata": {
        "colab": {
          "base_uri": "https://localhost:8080/"
        },
        "id": "ByYXyrPZgKZc",
        "outputId": "42aae3ec-aec2-4310-8cff-0e626c26db17"
      },
      "execution_count": null,
      "outputs": [
        {
          "output_type": "execute_result",
          "data": {
            "text/plain": [
              "False"
            ]
          },
          "metadata": {},
          "execution_count": 65
        }
      ]
    },
    {
      "cell_type": "code",
      "source": [
        "str1 = \" \"\n",
        "str1.isspace()"
      ],
      "metadata": {
        "colab": {
          "base_uri": "https://localhost:8080/"
        },
        "id": "OFv9P719gTwE",
        "outputId": "4fed497f-5954-4acd-e52e-3d6b3f6a199b"
      },
      "execution_count": null,
      "outputs": [
        {
          "output_type": "execute_result",
          "data": {
            "text/plain": [
              "True"
            ]
          },
          "metadata": {},
          "execution_count": 66
        }
      ]
    },
    {
      "cell_type": "code",
      "source": [
        "str1 = \"pyton\"\n",
        "str1.startswith('p')\n",
        "str1.endswith('n')"
      ],
      "metadata": {
        "colab": {
          "base_uri": "https://localhost:8080/"
        },
        "id": "YSqybJbhggkQ",
        "outputId": "c51a5c2d-c0e0-45db-a9af-fb51e9f43eff"
      },
      "execution_count": null,
      "outputs": [
        {
          "output_type": "execute_result",
          "data": {
            "text/plain": [
              "True"
            ]
          },
          "metadata": {},
          "execution_count": 69
        }
      ]
    },
    {
      "cell_type": "code",
      "source": [
        "str1 = \"Machine learning and Deep learning\"\n",
        "str2 = str1.replace(\"Machine learning\", \"Ai\")\n",
        "print(str1)\n",
        "print(str2)"
      ],
      "metadata": {
        "colab": {
          "base_uri": "https://localhost:8080/"
        },
        "id": "Q_bVS6IhgzUw",
        "outputId": "57e74102-2df0-42e2-ed2d-5969dcd53017"
      },
      "execution_count": null,
      "outputs": [
        {
          "output_type": "stream",
          "name": "stdout",
          "text": [
            "Machine learning and Deep learning\n",
            "Ai and Deep learning\n"
          ]
        }
      ]
    },
    {
      "cell_type": "code",
      "source": [
        "str1 = \"012345\"\n",
        "str1.isdigit()"
      ],
      "metadata": {
        "colab": {
          "base_uri": "https://localhost:8080/"
        },
        "id": "fM_un5t-jXEn",
        "outputId": "095d6da0-a321-4e25-cbc8-ed272122764b"
      },
      "execution_count": null,
      "outputs": [
        {
          "output_type": "execute_result",
          "data": {
            "text/plain": [
              "True"
            ]
          },
          "metadata": {},
          "execution_count": 82
        }
      ]
    },
    {
      "cell_type": "code",
      "source": [
        "str1.TAB"
      ],
      "metadata": {
        "id": "R6yLxh8gphWf"
      },
      "execution_count": null,
      "outputs": []
    },
    {
      "cell_type": "markdown",
      "source": [
        "Mathematics"
      ],
      "metadata": {
        "id": "-_xBzv7ijj5o"
      }
    },
    {
      "cell_type": "code",
      "source": [
        "import math\n",
        "\n",
        "print(f'2^3: {math.pow(2,3)}')\n",
        "print(f'sqrt(4): {math.sqrt(4)}')\n",
        "print(f'sin(30): {math.sin(30)}')\n",
        "print(f'cos(0): {math.cos(40)}')   #angle is radian\n",
        "print(f'e: {math.e}')\n",
        "print(f'4!: {math.factorial(4)}')\n",
        "print(f'pi: {math.pi}')\n",
        "print(f'log10(600): {math.log10(600)}')\n",
        "print(f'log2(600): {math.log2(36)}')\n",
        "print(f'abs(-3): {math.fabs(-3)}')\n",
        "print(f'floor: {math.floor(3.8)}')  #round down\n",
        "print(f'ciel: {math.ceil(3.3)}')    #round up "
      ],
      "metadata": {
        "colab": {
          "base_uri": "https://localhost:8080/"
        },
        "id": "m1mr4jTqjgiq",
        "outputId": "d3b55e89-a9a0-4ae0-efa1-6ddf5b262adc"
      },
      "execution_count": null,
      "outputs": [
        {
          "output_type": "stream",
          "name": "stdout",
          "text": [
            "2^3: 8.0\n",
            "sqrt(4): 2.0\n",
            "sin(30): -0.9880316240928618\n",
            "cos(0): -0.6669380616522619\n",
            "e: 2.718281828459045\n",
            "4!: 24\n",
            "pi: 3.141592653589793\n",
            "log10(600): 2.7781512503836434\n",
            "log2(600): 5.169925001442312\n",
            "abs(-3): 3.0\n",
            "floor: 3\n",
            "ciel: 4\n"
          ]
        }
      ]
    },
    {
      "cell_type": "code",
      "source": [
        "from math import tanh\n",
        "tanh(1)"
      ],
      "metadata": {
        "colab": {
          "base_uri": "https://localhost:8080/"
        },
        "id": "K_cDlSWFpCOW",
        "outputId": "31af9613-cad3-4b4a-8024-3e2d7554f0ec"
      },
      "execution_count": null,
      "outputs": [
        {
          "output_type": "execute_result",
          "data": {
            "text/plain": [
              "0.7615941559557649"
            ]
          },
          "metadata": {},
          "execution_count": 90
        }
      ]
    },
    {
      "cell_type": "code",
      "source": [
        "math.TAB"
      ],
      "metadata": {
        "id": "sOIVQ0espbvJ"
      },
      "execution_count": null,
      "outputs": []
    },
    {
      "cell_type": "code",
      "source": [
        "#@title practice 1\n",
        "a = 0\n",
        "b = 0\n",
        "\n",
        "x = a & b\n",
        "y = (not a) & (not b)\n",
        "z = x | y\n",
        "z"
      ],
      "metadata": {
        "id": "y1l2Yw0Fxqxy",
        "colab": {
          "base_uri": "https://localhost:8080/"
        },
        "outputId": "4967d884-18ef-4b3f-cd1d-bac5928bb0f0"
      },
      "execution_count": null,
      "outputs": [
        {
          "output_type": "execute_result",
          "data": {
            "text/plain": [
              "1"
            ]
          },
          "metadata": {},
          "execution_count": 12
        }
      ]
    },
    {
      "cell_type": "code",
      "source": [
        "#@title practice 2\n",
        "# 1/1! + 2/2! + 3/3!\n",
        "\n",
        "import math\n",
        "\n",
        "x = (1/math.factorial(1)) + (2/math.factorial(2)) + (3/math.factorial(3))"
      ],
      "metadata": {
        "id": "tTi6Tm4dx4Ho"
      },
      "execution_count": null,
      "outputs": []
    },
    {
      "cell_type": "code",
      "source": [
        "a = 2\n",
        "b = 4\n",
        "c = 3\n",
        "\n",
        "p = (a + b + c) / 2\n",
        "area = math.sqrt(p *(p-a) * (p-b) * (p-c))\n",
        "area"
      ],
      "metadata": {
        "id": "73yOnHUUyA1C"
      },
      "execution_count": null,
      "outputs": []
    },
    {
      "cell_type": "code",
      "source": [
        "x = 8\n",
        "a,b,c,d = 0,10,0, 10\n",
        "Result =  ((x-a)/(b-a)) * ((d-c) + c)\n",
        "Result"
      ],
      "metadata": {
        "id": "6pRrUzsKyHs9"
      },
      "execution_count": null,
      "outputs": []
    },
    {
      "cell_type": "code",
      "source": [
        "# a = b\n",
        "# c = ?\n",
        "\n",
        "#1 = 1000\n",
        "#1.5 = ?\n",
        "\n",
        "a = 1\n",
        "b = 1000\n",
        "c = 1.5\n",
        "\n",
        "Result = (b*c) / a\n",
        "\n",
        "Result\n",
        "\n",
        "#3 = 8\n",
        "#12 = ?\n",
        "a,b,c = 3,8,12\n",
        "\n",
        "Result = (b*c) / a\n",
        "Result"
      ],
      "metadata": {
        "id": "LloGlr8syOwY"
      },
      "execution_count": null,
      "outputs": []
    },
    {
      "cell_type": "code",
      "source": [
        "Phone = \"09331367233\"\n",
        "Irancell = Phone[0:3] == \"093\"\n",
        "IR_MCI = Phone[0:3] == \"091\"\n",
        "Ritell = Phone[0:3] == \"090\"\n",
        "\n",
        "print(f\"Irancell: {Irancell}\")\n",
        "print(f\"IR_MCI: {IR_MCI}\")\n",
        "print(f\"Ritell: {Ritell}\")"
      ],
      "metadata": {
        "id": "i5NOTI-myTih"
      },
      "execution_count": null,
      "outputs": []
    },
    {
      "cell_type": "code",
      "source": [
        "S2 = \"hi, This is Fatemeh. I am going to review python language!\"\n",
        "\n",
        "name = \"Fatemeh\" in S2\n",
        "python = \"python\" in S2\n",
        "CSharp = \"c#\" in S2\n",
        "Matlab = \"matlab\" in S2\n",
        "\n",
        "\n",
        "print(f\"name: {name}\")\n",
        "print(f\"python: {python}\")\n",
        "print(f\"CSharp: {CSharp}\")\n",
        "print(f\"Matlab: {Matlab}\")"
      ],
      "metadata": {
        "id": "3CZYgMMjyXm9",
        "colab": {
          "base_uri": "https://localhost:8080/"
        },
        "outputId": "78fc7c71-7dc4-45d3-8589-a119bce8b948"
      },
      "execution_count": null,
      "outputs": [
        {
          "output_type": "stream",
          "name": "stdout",
          "text": [
            "name: True\n",
            "python: True\n",
            "CSharp: False\n",
            "Matlab: False\n"
          ]
        }
      ]
    },
    {
      "cell_type": "code",
      "source": [
        "text = '''\n",
        "python\n",
        "is\n",
        "best!\n",
        "'''\n",
        "text = text.replace(\"\\n\", ' ')\n",
        "text.split(' ')"
      ],
      "metadata": {
        "id": "dbhu1cjGybYW",
        "colab": {
          "base_uri": "https://localhost:8080/"
        },
        "outputId": "16dd35cc-163b-471e-f3d1-7d47fcb50f44"
      },
      "execution_count": null,
      "outputs": [
        {
          "output_type": "execute_result",
          "data": {
            "text/plain": [
              "['', 'python', 'is', 'best!', '']"
            ]
          },
          "metadata": {},
          "execution_count": 14
        }
      ]
    }
  ]
}
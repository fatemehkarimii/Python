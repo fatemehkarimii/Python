{
  "nbformat": 4,
  "nbformat_minor": 0,
  "metadata": {
    "colab": {
      "name": "2_condition.ipynb",
      "provenance": [],
      "authorship_tag": "ABX9TyNi5PcP7CN65bbpjfmc2HLd",
      "include_colab_link": true
    },
    "kernelspec": {
      "name": "python3",
      "display_name": "Python 3"
    },
    "language_info": {
      "name": "python"
    }
  },
  "cells": [
    {
      "cell_type": "markdown",
      "metadata": {
        "id": "view-in-github",
        "colab_type": "text"
      },
      "source": [
        "<a href=\"https://colab.research.google.com/github/fatemehkarimii/Python/blob/main/2_condition.ipynb\" target=\"_parent\"><img src=\"https://colab.research.google.com/assets/colab-badge.svg\" alt=\"Open In Colab\"/></a>"
      ]
    },
    {
      "cell_type": "markdown",
      "metadata": {
        "id": "de7QSlhdPcng"
      },
      "source": [
        "# condition"
      ]
    },
    {
      "cell_type": "markdown",
      "metadata": {
        "id": "3-4bZj45Pcnn"
      },
      "source": [
        "# if else\n"
      ]
    },
    {
      "cell_type": "code",
      "source": [
        "if True:\n",
        "   print('statement1')\n",
        "elif True: \n",
        "    print(\"statement2\")\n",
        "else:\n",
        "   print('statement3')\n",
        "######\n",
        "# if False:\n",
        "#    print('statement1')\n",
        "# else:\n",
        "#    print('statement4')"
      ],
      "metadata": {
        "colab": {
          "base_uri": "https://localhost:8080/"
        },
        "id": "WGZoQRY5n8i7",
        "outputId": "32f94385-af2f-4623-b917-d7d4f88ba7b6"
      },
      "execution_count": null,
      "outputs": [
        {
          "output_type": "stream",
          "name": "stdout",
          "text": [
            "statement1\n"
          ]
        }
      ]
    },
    {
      "cell_type": "code",
      "metadata": {
        "id": "Z3xFRU0vPcno",
        "colab": {
          "base_uri": "https://localhost:8080/"
        },
        "outputId": "fb08650d-7700-4f7a-ca12-646fe8e1670d"
      },
      "source": [
        "number1 , number2 = 4, 6\n",
        "\n",
        "if number1 > number2:\n",
        "    print(\"number1\")\n",
        "else:\n",
        "    print(\"number2\")"
      ],
      "execution_count": null,
      "outputs": [
        {
          "output_type": "stream",
          "name": "stdout",
          "text": [
            "number2\n"
          ]
        }
      ]
    },
    {
      "cell_type": "code",
      "metadata": {
        "id": "vdZ6BpBnPcnr",
        "colab": {
          "base_uri": "https://localhost:8080/"
        },
        "outputId": "02707909-5aea-4a5d-cc39-73cdd00faff7"
      },
      "source": [
        "number = input(\"please enter a number: \")\n",
        "\n",
        "number = int(number)\n",
        "\n",
        "if number %2 == 0:\n",
        "    print(\"even\")\n",
        "else:\n",
        "    print(\"odd\")"
      ],
      "execution_count": null,
      "outputs": [
        {
          "output_type": "stream",
          "name": "stdout",
          "text": [
            "please enter a number: 65\n",
            "odd\n"
          ]
        }
      ]
    },
    {
      "cell_type": "code",
      "metadata": {
        "id": "EL-JnKy4Pcns",
        "colab": {
          "base_uri": "https://localhost:8080/"
        },
        "outputId": "a51d4203-0a11-408e-cae9-655477e81924"
      },
      "source": [
        "phone = \"09331367233\"\n",
        "\n",
        "if phone[:3] == \"093\":\n",
        "    print(\"ایرانسل\")\n",
        "elif phone[:3] == \"091\":\n",
        "    print(\"همراه اول\")\n",
        "elif phone[:3] == \"090\":\n",
        "    print(\"رایتل\")"
      ],
      "execution_count": null,
      "outputs": [
        {
          "output_type": "stream",
          "name": "stdout",
          "text": [
            "ایرانسل\n"
          ]
        }
      ]
    },
    {
      "cell_type": "code",
      "metadata": {
        "id": "Rc_RmufuPcns",
        "colab": {
          "base_uri": "https://localhost:8080/"
        },
        "outputId": "91835feb-cee7-4196-f681-c7f77d1c40b1"
      },
      "source": [
        "phone = \"09331367233\"\n",
        "\n",
        "if len(phone) == 11:\n",
        "    if phone[:3] == \"093\":\n",
        "        print(\"ایرانسل\")\n",
        "    elif phone[:3] == \"0912\":\n",
        "        print(\"همراه اول\")\n",
        "    elif phone[:3] == \"090\":\n",
        "        print(\"رایتل\")\n",
        "    else:\n",
        "        print(\"شماره تلفن وارد شده اشتباه می باشد\")\n",
        "else:\n",
        "    print(\"شماره تلفن وارد شده اشتباه می باشد\")"
      ],
      "execution_count": null,
      "outputs": [
        {
          "output_type": "stream",
          "name": "stdout",
          "text": [
            "ایرانسل\n"
          ]
        }
      ]
    },
    {
      "cell_type": "code",
      "metadata": {
        "id": "_IPm7_aZPcnu"
      },
      "source": [
        "phone = \"09331367233\"\n",
        "\n",
        "if len(phone) == 11 and phone.isdigit():\n",
        "    if phone[:3] == \"093\":\n",
        "        print(\"ایرانسل\")\n",
        "    elif phone[:3] == \"091\":\n",
        "        print(\"همراه اول\")\n",
        "    elif phone[:3] == \"090\":\n",
        "        print(\"رایتل\")\n",
        "    else:\n",
        "        print(\"شماره تلفن وارد شده اشتباه می باشد\")\n",
        "else:\n",
        "    print(\"شماره تلفن وارد شده اشتباه می باشد\")"
      ],
      "execution_count": null,
      "outputs": []
    },
    {
      "cell_type": "code",
      "metadata": {
        "id": "MXtmWAeKPcnv",
        "colab": {
          "base_uri": "https://localhost:8080/",
          "height": 36
        },
        "outputId": "380f5f4b-8c94-4a7a-de58-8258d6972b80"
      },
      "source": [
        "gender = \"پسر\"\n",
        "height = 174\n",
        "weight = 78\n",
        "eye = \"آبی\"\n",
        "\n",
        "name= \"\"\n",
        "\n",
        "if gender == \"دختر\":\n",
        "    if height == 175 and weight == 80 and eye == 'قهوه ای':\n",
        "        name = \"رویا\"\n",
        "    elif height == 168 and weight == 70 and eye == 'مشکی':\n",
        "        name = \"ترانه\"\n",
        "    elif height == 180 and weight == 75 and eye == 'آبی':\n",
        "        name = \"بهار\"\n",
        "    else:\n",
        "        name = \"نتیجه ای یافت نشد\"\n",
        "    \n",
        "elif gender == \"پسر\":\n",
        "    if height == 184 and weight == 87 and eye == 'قهوه ای':\n",
        "        name = \"رسول\"\n",
        "    elif height == 178 and weight == 70 and eye == 'مشکی':\n",
        "        name = \"محسن\"\n",
        "    elif height == 174 and weight == 78 and eye == 'آبی':\n",
        "        name = \"مهران\"\n",
        "    else:\n",
        "        name = \"نتیجه ای یافت نشد\"\n",
        "        \n",
        "else:\n",
        "    name = \"نتیجه ای یافت نشد\"\n",
        "    \n",
        "name"
      ],
      "execution_count": null,
      "outputs": [
        {
          "output_type": "execute_result",
          "data": {
            "text/plain": [
              "'مهران'"
            ],
            "application/vnd.google.colaboratory.intrinsic+json": {
              "type": "string"
            }
          },
          "metadata": {},
          "execution_count": 8
        }
      ]
    },
    {
      "cell_type": "code",
      "metadata": {
        "id": "OUlBKSk8Pcnw"
      },
      "source": [
        "a, b, c = 10, 51, 10\n",
        "\n",
        "delta = b**2 - 4 * a * c\n",
        "if delta < 0:\n",
        "    print (\"not root\")\n",
        "elif delta == 0:\n",
        "    print(f\"root: {-b / (2*a)}\")\n",
        "else:\n",
        "    print(f\"x1: {(-b + math.sqrt(delta)) / (2*a)}\")\n",
        "    print(f\"x2: {(-b - math.sqrt(delta)) / (2*a)}\")"
      ],
      "execution_count": null,
      "outputs": []
    },
    {
      "cell_type": "code",
      "metadata": {
        "id": "eF31UYZsPcnx",
        "colab": {
          "base_uri": "https://localhost:8080/"
        },
        "outputId": "fa3d224c-f3ef-4c00-cddc-0a9567f92255"
      },
      "source": [
        "ans1 = input(\"بهترین زبان برنامه نویسی برای هوش مصنوعی؟\")\n",
        "ans2 = input(\"برنامه نویس ها به چی معتاد هستند؟\")\n",
        "ans3 = input(\"نسخه توسعه یافته شبکه های عصبی مصنوعی چیست؟\")\n",
        "ans4 = input(\"یکی از کتابخانه های معروف شبکه های عصبی؟\")"
      ],
      "execution_count": null,
      "outputs": [
        {
          "name": "stdout",
          "output_type": "stream",
          "text": [
            "بهترین زبان برنامه نویسی برای هوش مصنوعی؟پایتون\n",
            "برنامه نویس ها به چی معتاد هستند؟ت\n",
            "نسخه توسعه یافته شبکه های عصبی مصنوعی چیست؟ت\n",
            "یکی از کتابخانه های معروف شبکه های عصبی؟ن\n"
          ]
        }
      ]
    },
    {
      "cell_type": "code",
      "metadata": {
        "id": "0Rd45JTQPcny",
        "colab": {
          "base_uri": "https://localhost:8080/"
        },
        "outputId": "579d76ff-e208-461e-c93e-801d6a198001"
      },
      "source": [
        "answer1 = \"پایتون\"\n",
        "answer2 = \"قهوه\"\n",
        "answer2_2 = \"شکلات تلخ\"\n",
        "answer3 = \"شبکه های عصبی عمیق\"\n",
        "answer3_2 = \"یادگیری عمیق\"\n",
        "answer4 = \"tensorflow\"\n",
        "answer4_2 = \"keras\"\n",
        "answer4_3 = \"pytorch\"\n",
        "score = 0\n",
        "s1, s2, s3, s4 = False, False, False, False\n",
        "\n",
        "if ans1 == answer1:\n",
        "    score += 4\n",
        "    s1 = True\n",
        "if ans2 == answer2 or ans2 == answer2_2:\n",
        "    score += 4\n",
        "    s2 = True\n",
        "if ans3 == answer3 or ans3 == answer3_2:\n",
        "    score += 6\n",
        "    s3 = True\n",
        "if ans4 == answer4_2 or ans4 == answer4_2 or ans4 == answer4_2:\n",
        "    score +=6\n",
        "    s4 = True\n",
        "\n",
        "print(\"your score: \", score)\n",
        "print(\"------------------\")\n",
        "print(\"question1: \", s1)\n",
        "print(\"question2: \", s2)\n",
        "print(\"question3: \", s3)\n",
        "print(\"question4: \", s4)"
      ],
      "execution_count": null,
      "outputs": [
        {
          "output_type": "stream",
          "name": "stdout",
          "text": [
            "your score:  4\n",
            "------------------\n",
            "question1:  True\n",
            "question2:  False\n",
            "question3:  False\n",
            "question4:  False\n"
          ]
        }
      ]
    },
    {
      "cell_type": "markdown",
      "metadata": {
        "id": "uCvBeyLgPcn0"
      },
      "source": [
        "while"
      ]
    },
    {
      "cell_type": "code",
      "metadata": {
        "id": "sunDzemwPcn0"
      },
      "source": [
        "i = 1\n",
        "while ( i <= 10 ):\n",
        "    print(i)\n",
        "    i+=1     # i = i+1\n"
      ],
      "execution_count": null,
      "outputs": []
    },
    {
      "cell_type": "code",
      "metadata": {
        "id": "azgQtQRlPcn1",
        "colab": {
          "base_uri": "https://localhost:8080/"
        },
        "outputId": "b6490588-baf3-4ca8-d93f-acd99b30f711"
      },
      "source": [
        "i = 1\n",
        "while ( i <= 10 ):\n",
        "    if i % 2 ==0:\n",
        "        print(i)\n",
        "    i = i+1"
      ],
      "execution_count": null,
      "outputs": [
        {
          "output_type": "stream",
          "name": "stdout",
          "text": [
            "2\n",
            "4\n",
            "6\n",
            "8\n",
            "10\n"
          ]
        }
      ]
    },
    {
      "cell_type": "code",
      "metadata": {
        "id": "7kx-QQ0ZPcn1",
        "colab": {
          "base_uri": "https://localhost:8080/"
        },
        "outputId": "e1cf2840-b248-4552-9e04-71607539d795"
      },
      "source": [
        "_Max = 4\n",
        "i = 0\n",
        "_Sum = 0\n",
        "\n",
        "\n",
        "while( i <= _Max ):\n",
        "    _Sum += i\n",
        "    i += 1\n",
        "\n",
        "print(_Sum)"
      ],
      "execution_count": null,
      "outputs": [
        {
          "output_type": "stream",
          "name": "stdout",
          "text": [
            "10\n"
          ]
        }
      ]
    },
    {
      "cell_type": "code",
      "metadata": {
        "id": "3E81Y94dPcn2",
        "colab": {
          "base_uri": "https://localhost:8080/"
        },
        "outputId": "9f630e5f-7a38-4bbe-c12f-9fab5889e4d6"
      },
      "source": [
        "x1, x2 = 0, 10\n",
        "while( x1 != 10 and x2 != 0):\n",
        "    print(\"***\")\n",
        "    x1 += 2\n",
        "    x2 -= 1\n",
        "print(\"x1:\", x1, '\\n' \"x2:\", x2)"
      ],
      "execution_count": null,
      "outputs": [
        {
          "output_type": "stream",
          "name": "stdout",
          "text": [
            "***\n",
            "***\n",
            "***\n",
            "***\n",
            "***\n",
            "x1: 10 \n",
            "x2: 5\n"
          ]
        }
      ]
    },
    {
      "cell_type": "code",
      "metadata": {
        "id": "JlD_e6uwPcn2",
        "outputId": "fb9cb5cf-7269-44e4-c24c-4e5b5313ff2f",
        "colab": {
          "base_uri": "https://localhost:8080/"
        }
      },
      "source": [
        "PASSWORD = 123\n",
        "password = int(input(\"لطفا رمز ورود را وارد نمایید:\"))\n",
        "if password!= PASSWORD:\n",
        "     print(\"رمز ورود اشتباهه عزیزم\")\n",
        "else:\n",
        "    print(\"اینم از کد: Pinkato\")\n",
        "\n",
        "while password!= PASSWORD:\n",
        "    password = int(input(\"لطفا رمز ورود را وارد نمایید:\"))\n",
        "    print(\"رمز ورود اشتباهه عزیزم\")\n",
        "print(\"اینم از کد: Pinkato\")"
      ],
      "execution_count": null,
      "outputs": [
        {
          "output_type": "stream",
          "name": "stdout",
          "text": [
            "لطفا رمز ورود را وارد نمایید:678\n",
            "رمز ورود اشتباهه عزیزم\n",
            "لطفا رمز ورود را وارد نمایید:123\n",
            "رمز ورود اشتباهه عزیزم\n",
            "اینم از کد: Pinkato\n"
          ]
        }
      ]
    },
    {
      "cell_type": "code",
      "metadata": {
        "id": "3T_28rhxPcn3",
        "outputId": "7437b93b-bc9d-42f5-928c-92f69bd2bc3e"
      },
      "source": [
        "import random as rand\n",
        "x = rand.randint(1,10)\n",
        "\n",
        "while (True):\n",
        "    password = int(input(\"لطفا رمز ورود را وارد نمایید:\"))\n",
        "    if password == x:\n",
        "        print(\"آفرین گلم\")\n",
        "        break\n",
        "    else:\n",
        "        print(\"اشتباه\")"
      ],
      "execution_count": null,
      "outputs": [
        {
          "name": "stdout",
          "output_type": "stream",
          "text": [
            "لطفا رمز ورود را وارد نمایید:5\n",
            "اشتباه\n",
            "لطفا رمز ورود را وارد نمایید:6\n",
            "اشتباه\n",
            "لطفا رمز ورود را وارد نمایید:7\n",
            "اشتباه\n",
            "لطفا رمز ورود را وارد نمایید:8\n",
            "اشتباه\n",
            "لطفا رمز ورود را وارد نمایید:9\n",
            "آفرین گلم\n"
          ]
        }
      ]
    },
    {
      "cell_type": "code",
      "metadata": {
        "id": "0ratRed_Pcn4",
        "outputId": "6088bc5c-179f-48d5-eeed-abc007b1e4d4",
        "colab": {
          "base_uri": "https://localhost:8080/"
        }
      },
      "source": [
        "import math\n",
        "round(math.sqrt(542),5)"
      ],
      "execution_count": null,
      "outputs": [
        {
          "output_type": "execute_result",
          "data": {
            "text/plain": [
              "23.28089"
            ]
          },
          "metadata": {},
          "execution_count": 19
        }
      ]
    },
    {
      "cell_type": "code",
      "source": [
        "import random as rand\n",
        "# rand.randint(1,10)\n",
        "# rand.randint(1,100)\n",
        "rand.randint(-900,1)"
      ],
      "metadata": {
        "colab": {
          "base_uri": "https://localhost:8080/"
        },
        "id": "6f5C-sb56lA6",
        "outputId": "e9bc5798-603b-47f9-8b07-4dc04e833560"
      },
      "execution_count": null,
      "outputs": [
        {
          "output_type": "execute_result",
          "data": {
            "text/plain": [
              "-744"
            ]
          },
          "metadata": {},
          "execution_count": 43
        }
      ]
    },
    {
      "cell_type": "code",
      "metadata": {
        "collapsed": true,
        "id": "YohI_vUtPcn4",
        "outputId": "a82cfe13-c411-4b7e-8936-a6046aca9397"
      },
      "source": [
        "import random as rand\n",
        "import math\n",
        "\n",
        "x1 = rand.randint(1,1000)\n",
        "while(True):\n",
        "    q1 = float(input(f\"sqrt {x1}: \"))\n",
        "    if round(q1, 2) == round(math.sqrt(x1), 1):\n",
        "        print(\"آفرین گلم\")\n",
        "        break\n",
        "    else:\n",
        "        print(\"اشتباه\")\n",
        "print(\"سوال اول به پایان رسید.\")\n",
        "                   \n",
        "x2 = rand.randint(1,10)\n",
        "while(True):\n",
        "    q2 = float(input(f\"factorial {x2}\"))\n",
        "    if round(q2, 2) == round(math.factorial(x2),2):\n",
        "        print(\"آفرین گلم\")\n",
        "        break\n",
        "    else:\n",
        "        print(\"اشتباه\")   \n",
        "print(\"سوال دوم به پایان رسید.\")\n",
        "\n",
        "x3 = rand.randint(1,10)\n",
        "while(True):\n",
        "    q3 = float(input(f\"fabs {x3}\"))\n",
        "    if round(q3) == round(math.fabs(x3),2):\n",
        "        print(\"آفرین گلم\")\n",
        "        break\n",
        "    else:\n",
        "        print(\"اشتباه\")\n",
        "print(\"سوال سوم به پایان رسید.\")\n",
        "\n",
        "print(\"آفرین به همه سوالات جواب دادی\")"
      ],
      "execution_count": null,
      "outputs": [
        {
          "name": "stdout",
          "output_type": "stream",
          "text": [
            "sqrt 537: 23.18\n",
            "اشتباه\n",
            "sqrt 537: 23.17\n",
            "آفرین گلم\n",
            "سوال اول به پایان رسید.\n"
          ]
        },
        {
          "ename": "KeyboardInterrupt",
          "evalue": "Interrupted by user",
          "output_type": "error",
          "traceback": [
            "\u001b[1;31m---------------------------------------------------------------------------\u001b[0m",
            "\u001b[1;31mKeyboardInterrupt\u001b[0m                         Traceback (most recent call last)",
            "\u001b[1;32m<ipython-input-22-bd1cc634e90f>\u001b[0m in \u001b[0;36m<module>\u001b[1;34m\u001b[0m\n\u001b[0;32m     14\u001b[0m \u001b[0mx2\u001b[0m \u001b[1;33m=\u001b[0m \u001b[0mrand\u001b[0m\u001b[1;33m.\u001b[0m\u001b[0mrandint\u001b[0m\u001b[1;33m(\u001b[0m\u001b[1;36m1\u001b[0m\u001b[1;33m,\u001b[0m\u001b[1;36m10\u001b[0m\u001b[1;33m)\u001b[0m\u001b[1;33m\u001b[0m\u001b[1;33m\u001b[0m\u001b[0m\n\u001b[0;32m     15\u001b[0m \u001b[1;32mwhile\u001b[0m\u001b[1;33m(\u001b[0m\u001b[1;32mTrue\u001b[0m\u001b[1;33m)\u001b[0m\u001b[1;33m:\u001b[0m\u001b[1;33m\u001b[0m\u001b[1;33m\u001b[0m\u001b[0m\n\u001b[1;32m---> 16\u001b[1;33m     \u001b[0mq2\u001b[0m \u001b[1;33m=\u001b[0m \u001b[0mfloat\u001b[0m\u001b[1;33m(\u001b[0m\u001b[0minput\u001b[0m\u001b[1;33m(\u001b[0m\u001b[1;34mf\"factorial {x2}\"\u001b[0m\u001b[1;33m)\u001b[0m\u001b[1;33m)\u001b[0m\u001b[1;33m\u001b[0m\u001b[1;33m\u001b[0m\u001b[0m\n\u001b[0m\u001b[0;32m     17\u001b[0m     \u001b[1;32mif\u001b[0m \u001b[0mround\u001b[0m\u001b[1;33m(\u001b[0m\u001b[0mq2\u001b[0m\u001b[1;33m,\u001b[0m \u001b[1;36m2\u001b[0m\u001b[1;33m)\u001b[0m \u001b[1;33m==\u001b[0m \u001b[0mround\u001b[0m\u001b[1;33m(\u001b[0m\u001b[0mmath\u001b[0m\u001b[1;33m.\u001b[0m\u001b[0mfactorial\u001b[0m\u001b[1;33m(\u001b[0m\u001b[0mx2\u001b[0m\u001b[1;33m)\u001b[0m\u001b[1;33m,\u001b[0m\u001b[1;36m2\u001b[0m\u001b[1;33m)\u001b[0m\u001b[1;33m:\u001b[0m\u001b[1;33m\u001b[0m\u001b[1;33m\u001b[0m\u001b[0m\n\u001b[0;32m     18\u001b[0m         \u001b[0mprint\u001b[0m\u001b[1;33m(\u001b[0m\u001b[1;34m\"آفرین گلم\"\u001b[0m\u001b[1;33m)\u001b[0m\u001b[1;33m\u001b[0m\u001b[1;33m\u001b[0m\u001b[0m\n",
            "\u001b[1;32m~\\anaconda3\\lib\\site-packages\\ipykernel\\kernelbase.py\u001b[0m in \u001b[0;36mraw_input\u001b[1;34m(self, prompt)\u001b[0m\n\u001b[0;32m    858\u001b[0m                 \u001b[1;34m\"raw_input was called, but this frontend does not support input requests.\"\u001b[0m\u001b[1;33m\u001b[0m\u001b[1;33m\u001b[0m\u001b[0m\n\u001b[0;32m    859\u001b[0m             )\n\u001b[1;32m--> 860\u001b[1;33m         return self._input_request(str(prompt),\n\u001b[0m\u001b[0;32m    861\u001b[0m             \u001b[0mself\u001b[0m\u001b[1;33m.\u001b[0m\u001b[0m_parent_ident\u001b[0m\u001b[1;33m,\u001b[0m\u001b[1;33m\u001b[0m\u001b[1;33m\u001b[0m\u001b[0m\n\u001b[0;32m    862\u001b[0m             \u001b[0mself\u001b[0m\u001b[1;33m.\u001b[0m\u001b[0m_parent_header\u001b[0m\u001b[1;33m,\u001b[0m\u001b[1;33m\u001b[0m\u001b[1;33m\u001b[0m\u001b[0m\n",
            "\u001b[1;32m~\\anaconda3\\lib\\site-packages\\ipykernel\\kernelbase.py\u001b[0m in \u001b[0;36m_input_request\u001b[1;34m(self, prompt, ident, parent, password)\u001b[0m\n\u001b[0;32m    902\u001b[0m             \u001b[1;32mexcept\u001b[0m \u001b[0mKeyboardInterrupt\u001b[0m\u001b[1;33m:\u001b[0m\u001b[1;33m\u001b[0m\u001b[1;33m\u001b[0m\u001b[0m\n\u001b[0;32m    903\u001b[0m                 \u001b[1;31m# re-raise KeyboardInterrupt, to truncate traceback\u001b[0m\u001b[1;33m\u001b[0m\u001b[1;33m\u001b[0m\u001b[1;33m\u001b[0m\u001b[0m\n\u001b[1;32m--> 904\u001b[1;33m                 \u001b[1;32mraise\u001b[0m \u001b[0mKeyboardInterrupt\u001b[0m\u001b[1;33m(\u001b[0m\u001b[1;34m\"Interrupted by user\"\u001b[0m\u001b[1;33m)\u001b[0m \u001b[1;32mfrom\u001b[0m \u001b[1;32mNone\u001b[0m\u001b[1;33m\u001b[0m\u001b[1;33m\u001b[0m\u001b[0m\n\u001b[0m\u001b[0;32m    905\u001b[0m             \u001b[1;32mexcept\u001b[0m \u001b[0mException\u001b[0m \u001b[1;32mas\u001b[0m \u001b[0me\u001b[0m\u001b[1;33m:\u001b[0m\u001b[1;33m\u001b[0m\u001b[1;33m\u001b[0m\u001b[0m\n\u001b[0;32m    906\u001b[0m                 \u001b[0mself\u001b[0m\u001b[1;33m.\u001b[0m\u001b[0mlog\u001b[0m\u001b[1;33m.\u001b[0m\u001b[0mwarning\u001b[0m\u001b[1;33m(\u001b[0m\u001b[1;34m\"Invalid Message:\"\u001b[0m\u001b[1;33m,\u001b[0m \u001b[0mexc_info\u001b[0m\u001b[1;33m=\u001b[0m\u001b[1;32mTrue\u001b[0m\u001b[1;33m)\u001b[0m\u001b[1;33m\u001b[0m\u001b[1;33m\u001b[0m\u001b[0m\n",
            "\u001b[1;31mKeyboardInterrupt\u001b[0m: Interrupted by user"
          ]
        }
      ]
    },
    {
      "cell_type": "markdown",
      "metadata": {
        "id": "8ZMAemJAPcn5"
      },
      "source": [
        "# for"
      ]
    },
    {
      "cell_type": "code",
      "metadata": {
        "id": "8z2Y-BWHPcn5",
        "colab": {
          "base_uri": "https://localhost:8080/"
        },
        "outputId": "7d4d9c50-eacd-4a4c-d98e-9b8b7676f38f"
      },
      "source": [
        "for i in range(10):\n",
        "    print(i)"
      ],
      "execution_count": null,
      "outputs": [
        {
          "output_type": "stream",
          "name": "stdout",
          "text": [
            "0\n",
            "1\n",
            "2\n",
            "3\n",
            "4\n",
            "5\n",
            "6\n",
            "7\n",
            "8\n",
            "9\n"
          ]
        }
      ]
    },
    {
      "cell_type": "code",
      "metadata": {
        "id": "GwBFsazAPcn5",
        "colab": {
          "base_uri": "https://localhost:8080/"
        },
        "outputId": "19145877-65e5-4741-a410-b5a887b3d67b"
      },
      "source": [
        "for i in range(0, 10, 2):\n",
        "    print(i)"
      ],
      "execution_count": null,
      "outputs": [
        {
          "output_type": "stream",
          "name": "stdout",
          "text": [
            "0\n",
            "2\n",
            "4\n",
            "6\n",
            "8\n"
          ]
        }
      ]
    },
    {
      "cell_type": "code",
      "metadata": {
        "id": "l6Z1FSTFPcn6",
        "colab": {
          "base_uri": "https://localhost:8080/"
        },
        "outputId": "cbf5d0fd-fc60-4711-9438-d0bdd53fab05"
      },
      "source": [
        "for i in range(10, 0, -1):\n",
        "    print(i)"
      ],
      "execution_count": null,
      "outputs": [
        {
          "output_type": "stream",
          "name": "stdout",
          "text": [
            "10\n",
            "9\n",
            "8\n",
            "7\n",
            "6\n",
            "5\n",
            "4\n",
            "3\n",
            "2\n",
            "1\n"
          ]
        }
      ]
    },
    {
      "cell_type": "code",
      "metadata": {
        "id": "YtfMkEKdPcn6",
        "colab": {
          "base_uri": "https://localhost:8080/"
        },
        "outputId": "e5b6fbcf-2535-4867-8705-f8593931a8ec"
      },
      "source": [
        "for i in range(10, 0, -2):\n",
        "    print(i)"
      ],
      "execution_count": null,
      "outputs": [
        {
          "output_type": "stream",
          "name": "stdout",
          "text": [
            "10\n",
            "8\n",
            "6\n",
            "4\n",
            "2\n"
          ]
        }
      ]
    },
    {
      "cell_type": "code",
      "metadata": {
        "id": "l9W-TwcbPcn6",
        "colab": {
          "base_uri": "https://localhost:8080/"
        },
        "outputId": "f7770b62-1003-4a75-a165-7a03db1cad4e"
      },
      "source": [
        "import math \n",
        "\n",
        "for i in range(10):\n",
        "    print(f\"factorial {i} : {math.factorial(i)}\")"
      ],
      "execution_count": null,
      "outputs": [
        {
          "output_type": "stream",
          "name": "stdout",
          "text": [
            "factorial 0 : 1\n",
            "factorial 1 : 1\n",
            "factorial 2 : 2\n",
            "factorial 3 : 6\n",
            "factorial 4 : 24\n",
            "factorial 5 : 120\n",
            "factorial 6 : 720\n",
            "factorial 7 : 5040\n",
            "factorial 8 : 40320\n",
            "factorial 9 : 362880\n"
          ]
        }
      ]
    },
    {
      "cell_type": "code",
      "metadata": {
        "id": "pmkuQEPJPcn6",
        "colab": {
          "base_uri": "https://localhost:8080/"
        },
        "outputId": "adde0b27-70b1-4386-a97f-0d32707fafb9"
      },
      "source": [
        "for i in range(10):\n",
        "    for j in range(10):\n",
        "        print(f\"{i} * {j} : {i*j}\")\n",
        "    print(\"\\n\")"
      ],
      "execution_count": null,
      "outputs": [
        {
          "output_type": "stream",
          "name": "stdout",
          "text": [
            "0 * 0 : 0\n",
            "0 * 1 : 0\n",
            "0 * 2 : 0\n",
            "0 * 3 : 0\n",
            "0 * 4 : 0\n",
            "0 * 5 : 0\n",
            "0 * 6 : 0\n",
            "0 * 7 : 0\n",
            "0 * 8 : 0\n",
            "0 * 9 : 0\n",
            "\n",
            "\n",
            "1 * 0 : 0\n",
            "1 * 1 : 1\n",
            "1 * 2 : 2\n",
            "1 * 3 : 3\n",
            "1 * 4 : 4\n",
            "1 * 5 : 5\n",
            "1 * 6 : 6\n",
            "1 * 7 : 7\n",
            "1 * 8 : 8\n",
            "1 * 9 : 9\n",
            "\n",
            "\n",
            "2 * 0 : 0\n",
            "2 * 1 : 2\n",
            "2 * 2 : 4\n",
            "2 * 3 : 6\n",
            "2 * 4 : 8\n",
            "2 * 5 : 10\n",
            "2 * 6 : 12\n",
            "2 * 7 : 14\n",
            "2 * 8 : 16\n",
            "2 * 9 : 18\n",
            "\n",
            "\n",
            "3 * 0 : 0\n",
            "3 * 1 : 3\n",
            "3 * 2 : 6\n",
            "3 * 3 : 9\n",
            "3 * 4 : 12\n",
            "3 * 5 : 15\n",
            "3 * 6 : 18\n",
            "3 * 7 : 21\n",
            "3 * 8 : 24\n",
            "3 * 9 : 27\n",
            "\n",
            "\n",
            "4 * 0 : 0\n",
            "4 * 1 : 4\n",
            "4 * 2 : 8\n",
            "4 * 3 : 12\n",
            "4 * 4 : 16\n",
            "4 * 5 : 20\n",
            "4 * 6 : 24\n",
            "4 * 7 : 28\n",
            "4 * 8 : 32\n",
            "4 * 9 : 36\n",
            "\n",
            "\n",
            "5 * 0 : 0\n",
            "5 * 1 : 5\n",
            "5 * 2 : 10\n",
            "5 * 3 : 15\n",
            "5 * 4 : 20\n",
            "5 * 5 : 25\n",
            "5 * 6 : 30\n",
            "5 * 7 : 35\n",
            "5 * 8 : 40\n",
            "5 * 9 : 45\n",
            "\n",
            "\n",
            "6 * 0 : 0\n",
            "6 * 1 : 6\n",
            "6 * 2 : 12\n",
            "6 * 3 : 18\n",
            "6 * 4 : 24\n",
            "6 * 5 : 30\n",
            "6 * 6 : 36\n",
            "6 * 7 : 42\n",
            "6 * 8 : 48\n",
            "6 * 9 : 54\n",
            "\n",
            "\n",
            "7 * 0 : 0\n",
            "7 * 1 : 7\n",
            "7 * 2 : 14\n",
            "7 * 3 : 21\n",
            "7 * 4 : 28\n",
            "7 * 5 : 35\n",
            "7 * 6 : 42\n",
            "7 * 7 : 49\n",
            "7 * 8 : 56\n",
            "7 * 9 : 63\n",
            "\n",
            "\n",
            "8 * 0 : 0\n",
            "8 * 1 : 8\n",
            "8 * 2 : 16\n",
            "8 * 3 : 24\n",
            "8 * 4 : 32\n",
            "8 * 5 : 40\n",
            "8 * 6 : 48\n",
            "8 * 7 : 56\n",
            "8 * 8 : 64\n",
            "8 * 9 : 72\n",
            "\n",
            "\n",
            "9 * 0 : 0\n",
            "9 * 1 : 9\n",
            "9 * 2 : 18\n",
            "9 * 3 : 27\n",
            "9 * 4 : 36\n",
            "9 * 5 : 45\n",
            "9 * 6 : 54\n",
            "9 * 7 : 63\n",
            "9 * 8 : 72\n",
            "9 * 9 : 81\n",
            "\n",
            "\n"
          ]
        }
      ]
    },
    {
      "cell_type": "code",
      "metadata": {
        "id": "JpK5ojCRPcn7",
        "colab": {
          "base_uri": "https://localhost:8080/"
        },
        "outputId": "b24e3b85-8ac4-40e3-ea4a-7fe76fda7d1e"
      },
      "source": [
        "for i in range(10):\n",
        "    for j in range(10):\n",
        "        print(f\"{i}^{j} : {math.pow(i,j)}\")\n",
        "    print(\"\\n\")"
      ],
      "execution_count": null,
      "outputs": [
        {
          "output_type": "stream",
          "name": "stdout",
          "text": [
            "0^0 : 1.0\n",
            "0^1 : 0.0\n",
            "0^2 : 0.0\n",
            "0^3 : 0.0\n",
            "0^4 : 0.0\n",
            "0^5 : 0.0\n",
            "0^6 : 0.0\n",
            "0^7 : 0.0\n",
            "0^8 : 0.0\n",
            "0^9 : 0.0\n",
            "\n",
            "\n",
            "1^0 : 1.0\n",
            "1^1 : 1.0\n",
            "1^2 : 1.0\n",
            "1^3 : 1.0\n",
            "1^4 : 1.0\n",
            "1^5 : 1.0\n",
            "1^6 : 1.0\n",
            "1^7 : 1.0\n",
            "1^8 : 1.0\n",
            "1^9 : 1.0\n",
            "\n",
            "\n",
            "2^0 : 1.0\n",
            "2^1 : 2.0\n",
            "2^2 : 4.0\n",
            "2^3 : 8.0\n",
            "2^4 : 16.0\n",
            "2^5 : 32.0\n",
            "2^6 : 64.0\n",
            "2^7 : 128.0\n",
            "2^8 : 256.0\n",
            "2^9 : 512.0\n",
            "\n",
            "\n",
            "3^0 : 1.0\n",
            "3^1 : 3.0\n",
            "3^2 : 9.0\n",
            "3^3 : 27.0\n",
            "3^4 : 81.0\n",
            "3^5 : 243.0\n",
            "3^6 : 729.0\n",
            "3^7 : 2187.0\n",
            "3^8 : 6561.0\n",
            "3^9 : 19683.0\n",
            "\n",
            "\n",
            "4^0 : 1.0\n",
            "4^1 : 4.0\n",
            "4^2 : 16.0\n",
            "4^3 : 64.0\n",
            "4^4 : 256.0\n",
            "4^5 : 1024.0\n",
            "4^6 : 4096.0\n",
            "4^7 : 16384.0\n",
            "4^8 : 65536.0\n",
            "4^9 : 262144.0\n",
            "\n",
            "\n",
            "5^0 : 1.0\n",
            "5^1 : 5.0\n",
            "5^2 : 25.0\n",
            "5^3 : 125.0\n",
            "5^4 : 625.0\n",
            "5^5 : 3125.0\n",
            "5^6 : 15625.0\n",
            "5^7 : 78125.0\n",
            "5^8 : 390625.0\n",
            "5^9 : 1953125.0\n",
            "\n",
            "\n",
            "6^0 : 1.0\n",
            "6^1 : 6.0\n",
            "6^2 : 36.0\n",
            "6^3 : 216.0\n",
            "6^4 : 1296.0\n",
            "6^5 : 7776.0\n",
            "6^6 : 46656.0\n",
            "6^7 : 279936.0\n",
            "6^8 : 1679616.0\n",
            "6^9 : 10077696.0\n",
            "\n",
            "\n",
            "7^0 : 1.0\n",
            "7^1 : 7.0\n",
            "7^2 : 49.0\n",
            "7^3 : 343.0\n",
            "7^4 : 2401.0\n",
            "7^5 : 16807.0\n",
            "7^6 : 117649.0\n",
            "7^7 : 823543.0\n",
            "7^8 : 5764801.0\n",
            "7^9 : 40353607.0\n",
            "\n",
            "\n",
            "8^0 : 1.0\n",
            "8^1 : 8.0\n",
            "8^2 : 64.0\n",
            "8^3 : 512.0\n",
            "8^4 : 4096.0\n",
            "8^5 : 32768.0\n",
            "8^6 : 262144.0\n",
            "8^7 : 2097152.0\n",
            "8^8 : 16777216.0\n",
            "8^9 : 134217728.0\n",
            "\n",
            "\n",
            "9^0 : 1.0\n",
            "9^1 : 9.0\n",
            "9^2 : 81.0\n",
            "9^3 : 729.0\n",
            "9^4 : 6561.0\n",
            "9^5 : 59049.0\n",
            "9^6 : 531441.0\n",
            "9^7 : 4782969.0\n",
            "9^8 : 43046721.0\n",
            "9^9 : 387420489.0\n",
            "\n",
            "\n"
          ]
        }
      ]
    },
    {
      "cell_type": "code",
      "metadata": {
        "id": "bxoXLV-8Pcn7",
        "colab": {
          "base_uri": "https://localhost:8080/"
        },
        "outputId": "6aec0efc-080a-4a99-c841-a308336dc4e5"
      },
      "source": [
        "for i in range(10):\n",
        "    for j in range(10):\n",
        "        if i*j >=30 and i*j <=50:\n",
        "            print(f\"{i} * {j} : {i*j}\")\n",
        "    print(\"\\n\")"
      ],
      "execution_count": null,
      "outputs": [
        {
          "output_type": "stream",
          "name": "stdout",
          "text": [
            "\n",
            "\n",
            "\n",
            "\n",
            "\n",
            "\n",
            "\n",
            "\n",
            "4 * 8 : 32\n",
            "4 * 9 : 36\n",
            "\n",
            "\n",
            "5 * 6 : 30\n",
            "5 * 7 : 35\n",
            "5 * 8 : 40\n",
            "5 * 9 : 45\n",
            "\n",
            "\n",
            "6 * 5 : 30\n",
            "6 * 6 : 36\n",
            "6 * 7 : 42\n",
            "6 * 8 : 48\n",
            "\n",
            "\n",
            "7 * 5 : 35\n",
            "7 * 6 : 42\n",
            "7 * 7 : 49\n",
            "\n",
            "\n",
            "8 * 4 : 32\n",
            "8 * 5 : 40\n",
            "8 * 6 : 48\n",
            "\n",
            "\n",
            "9 * 4 : 36\n",
            "9 * 5 : 45\n",
            "\n",
            "\n"
          ]
        }
      ]
    },
    {
      "cell_type": "code",
      "metadata": {
        "id": "QTn_6mTyPcn7",
        "colab": {
          "base_uri": "https://localhost:8080/"
        },
        "outputId": "988503bc-bd2b-4a75-d9fd-6e33e731c8c0"
      },
      "source": [
        "text = \"Hi friends, my name is Ali Nazarizadeh\"\n",
        "for i in text:\n",
        "    print(i)"
      ],
      "execution_count": null,
      "outputs": [
        {
          "output_type": "stream",
          "name": "stdout",
          "text": [
            "H\n",
            "i\n",
            " \n",
            "f\n",
            "r\n",
            "i\n",
            "e\n",
            "n\n",
            "d\n",
            "s\n",
            ",\n",
            " \n",
            "m\n",
            "y\n",
            " \n",
            "n\n",
            "a\n",
            "m\n",
            "e\n",
            " \n",
            "i\n",
            "s\n",
            " \n",
            "A\n",
            "l\n",
            "i\n",
            " \n",
            "N\n",
            "a\n",
            "z\n",
            "a\n",
            "r\n",
            "i\n",
            "z\n",
            "a\n",
            "d\n",
            "e\n",
            "h\n"
          ]
        }
      ]
    },
    {
      "cell_type": "code",
      "metadata": {
        "id": "q5Noxh3XPcn8",
        "colab": {
          "base_uri": "https://localhost:8080/"
        },
        "outputId": "dc363826-ce1d-4616-cbbd-5e26885a611c"
      },
      "source": [
        "for i in range(len(text)):\n",
        "    print(text[i])"
      ],
      "execution_count": null,
      "outputs": [
        {
          "output_type": "stream",
          "name": "stdout",
          "text": [
            "H\n",
            "i\n",
            " \n",
            "f\n",
            "r\n",
            "i\n",
            "e\n",
            "n\n",
            "d\n",
            "s\n",
            ",\n",
            " \n",
            "m\n",
            "y\n",
            " \n",
            "n\n",
            "a\n",
            "m\n",
            "e\n",
            " \n",
            "i\n",
            "s\n",
            " \n",
            "A\n",
            "l\n",
            "i\n",
            " \n",
            "N\n",
            "a\n",
            "z\n",
            "a\n",
            "r\n",
            "i\n",
            "z\n",
            "a\n",
            "d\n",
            "e\n",
            "h\n"
          ]
        }
      ]
    },
    {
      "cell_type": "code",
      "metadata": {
        "id": "ZLrv683xPcn8",
        "colab": {
          "base_uri": "https://localhost:8080/"
        },
        "outputId": "262c2354-640b-42aa-b7f5-f25a013512cb"
      },
      "source": [
        "a = [4, 2, 3, 9, 7, 5]\n",
        "len(a)"
      ],
      "execution_count": null,
      "outputs": [
        {
          "output_type": "execute_result",
          "data": {
            "text/plain": [
              "6"
            ]
          },
          "metadata": {},
          "execution_count": 19
        }
      ]
    },
    {
      "cell_type": "code",
      "metadata": {
        "id": "vOy_8J-WPcn8",
        "colab": {
          "base_uri": "https://localhost:8080/"
        },
        "outputId": "4a20e89b-62b3-471b-9f77-9144f03eaebc"
      },
      "source": [
        "for i in a:\n",
        "    print(i)"
      ],
      "execution_count": null,
      "outputs": [
        {
          "output_type": "stream",
          "name": "stdout",
          "text": [
            "4\n",
            "2\n",
            "3\n",
            "9\n",
            "7\n",
            "5\n"
          ]
        }
      ]
    },
    {
      "cell_type": "code",
      "metadata": {
        "id": "DBzcX1_tPcn8",
        "colab": {
          "base_uri": "https://localhost:8080/"
        },
        "outputId": "82462351-b422-4557-8f5d-add5e0ff0f51"
      },
      "source": [
        "for i in range(len(a)):\n",
        "    print(a[i])"
      ],
      "execution_count": null,
      "outputs": [
        {
          "output_type": "stream",
          "name": "stdout",
          "text": [
            "4\n",
            "2\n",
            "3\n",
            "9\n",
            "7\n",
            "5\n"
          ]
        }
      ]
    },
    {
      "cell_type": "code",
      "metadata": {
        "id": "P2B9det_Pcn9"
      },
      "source": [
        "#x^1/1! + x^3/3! + x^5/5! + ... n\n",
        "import math\n",
        "n = 1\n",
        "x = 3\n",
        "m = 1\n",
        "sum = 0\n",
        "for i in range(n):\n",
        "    y = (x**(i+1)) / math.factorial(m)\n",
        "    m += 2\n",
        "    sum += y"
      ],
      "execution_count": null,
      "outputs": []
    }
  ]
}
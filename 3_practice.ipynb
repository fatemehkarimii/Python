{
  "nbformat": 4,
  "nbformat_minor": 0,
  "metadata": {
    "colab": {
      "name": "3_practice.ipynb",
      "provenance": [],
      "collapsed_sections": [],
      "authorship_tag": "ABX9TyPSKT1DGiDbvhLZ0XaC3EVh",
      "include_colab_link": true
    },
    "kernelspec": {
      "name": "python3",
      "display_name": "Python 3"
    },
    "language_info": {
      "name": "python"
    }
  },
  "cells": [
    {
      "cell_type": "markdown",
      "metadata": {
        "id": "view-in-github",
        "colab_type": "text"
      },
      "source": [
        "<a href=\"https://colab.research.google.com/github/fatemehkarimii/Python-Tutorial/blob/main/3_practice.ipynb\" target=\"_parent\"><img src=\"https://colab.research.google.com/assets/colab-badge.svg\" alt=\"Open In Colab\"/></a>"
      ]
    },
    {
      "cell_type": "code",
      "execution_count": null,
      "metadata": {
        "colab": {
          "base_uri": "https://localhost:8080/"
        },
        "id": "UGEUX-OTCOrE",
        "outputId": "5a2b825f-cf45-4b3e-d78a-55bc2ddc2113"
      },
      "outputs": [
        {
          "output_type": "stream",
          "name": "stdout",
          "text": [
            "please enter a number: 6\n",
            "1\n",
            "2\n",
            "3\n",
            "5\n"
          ]
        }
      ],
      "source": [
        "#@title fibonacci\n",
        "# 0, 1, 1, 2, 3, 5, 8, 13, 21\n",
        "a = int(input(\"please enter a number: \"))\n",
        "f = 0\n",
        "l = 1\n",
        "\n",
        "for i in range(2, a):\n",
        "    F_New = f + l\n",
        "    print(F_New)\n",
        "    f = l\n",
        "    l = F_New\n"
      ]
    },
    {
      "cell_type": "code",
      "source": [
        "#@title Prime number\n",
        "number = 18\n",
        "\n",
        "if number <= 1:\n",
        "    prime = False\n",
        "if number == 2:\n",
        "    prime = True\n",
        "    \n",
        "elif number >= 3:\n",
        "    for i in range(2, number):\n",
        "        if (number % i) == 0:\n",
        "            prime = False\n",
        "            break   # prime = false\n",
        "        else:\n",
        "            prime = True\n",
        "\n",
        "prime"
      ],
      "metadata": {
        "colab": {
          "base_uri": "https://localhost:8080/"
        },
        "id": "7inrJAmZDVVT",
        "outputId": "2e074c81-77f6-4ef0-aecb-6ae13806b0d8"
      },
      "execution_count": null,
      "outputs": [
        {
          "output_type": "execute_result",
          "data": {
            "text/plain": [
              "False"
            ]
          },
          "metadata": {},
          "execution_count": 8
        }
      ]
    },
    {
      "cell_type": "code",
      "source": [
        "#@title C(n,r)\n",
        "import math\n",
        "n =4\n",
        "r = 2\n",
        "x = math.factorial(r) * math.factorial(n-r) \n",
        "Combinations = math.factorial(n) / x\n",
        "Combinations"
      ],
      "metadata": {
        "id": "Eyht_tmQEh0o"
      },
      "execution_count": null,
      "outputs": []
    },
    {
      "cell_type": "code",
      "source": [
        "# سنگ کاغذ قیچی\n",
        "import random\n",
        "\n",
        "Score_Ali, Score_Christopher = 0, 0\n",
        "\n",
        "while (True):\n",
        "    Ali = input(\"Sang, Kakhaz, Gheychi\")\n",
        "    Christopher = random.randint(1, 3)\n",
        "\n",
        "    if Christopher == 1:\n",
        "        Christopher = \"Sang\"\n",
        "    elif Christopher == 2:\n",
        "        Christopher = \"Kakhaz\"\n",
        "    elif Christopher == 3:\n",
        "        Christopher = \"Gheychi\"\n",
        "        \n",
        "    if Ali == Christopher:\n",
        "        Score_Ali = Score_Ali\n",
        "        Score_Christopher = Score_Christopher\n",
        "        \n",
        "    elif Ali == \"Sang\" and Christopher == \"Kakhaz\":\n",
        "        Score_Christopher += 1\n",
        "        \n",
        "    elif Ali == \"Sang\" and Christopher == \"Gheychi\":\n",
        "        Score_Ali += 1\n",
        "\n",
        "    elif Ali == \"Kakhaz\" and Christopher == \"Sang\":\n",
        "        Score_Ali += 1\n",
        "   \n",
        "    elif Ali == \"Kakhaz\" and Christopher == \"Gheychi\":\n",
        "        Score_Christopher += 1\n",
        "\n",
        "    elif Ali == \"Gheychi\" and Christopher == \"Sang\":\n",
        "        Score_Christopher += 1\n",
        "\n",
        "    elif Ali == \"Gheychi\" and Christopher == \"Kakhaz\":\n",
        "        Score_Ali += 1\n",
        "        \n",
        "    print(f\"Ali: {Ali}\")\n",
        "    print(f\"Christopher: {Christopher}\")\n",
        "    print(\"*** Score ***\")\n",
        "    print(f\"Score_Ali: {Score_Ali}\")\n",
        "    print(f\"Score_Christopher: {Score_Christopher} \\n\")\n",
        "    \n",
        "    if Ali == \"n\":\n",
        "        break\n"
      ],
      "metadata": {
        "id": "yarDs3ZoE3ai"
      },
      "execution_count": null,
      "outputs": []
    }
  ]
}
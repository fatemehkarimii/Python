{
  "cells": [
    {
      "cell_type": "markdown",
      "metadata": {
        "id": "view-in-github",
        "colab_type": "text"
      },
      "source": [
        "<a href=\"https://colab.research.google.com/github/fatemehkarimii/Python-Tutorial/blob/main/4_set.ipynb\" target=\"_parent\"><img src=\"https://colab.research.google.com/assets/colab-badge.svg\" alt=\"Open In Colab\"/></a>"
      ]
    },
    {
      "cell_type": "markdown",
      "metadata": {
        "id": "6FZsQC3J1-Yg"
      },
      "source": [
        "# set"
      ]
    },
    {
      "cell_type": "code",
      "execution_count": null,
      "metadata": {
        "colab": {
          "base_uri": "https://localhost:8080/"
        },
        "id": "e04eaWvB1-Yo",
        "outputId": "6c3dfe0f-31c6-4b6d-d2e4-1eee709f9170"
      },
      "outputs": [
        {
          "output_type": "stream",
          "name": "stdout",
          "text": [
            "{1, 2, 3, 4, 5}\n",
            "len: 5\n",
            "<class 'set'>\n"
          ]
        }
      ],
      "source": [
        "S1 = {2,3,5,1,4}\n",
        "\n",
        "print(S1)\n",
        "print(\"len:\", len(S1))\n",
        "print(type(S1))\n"
      ]
    },
    {
      "cell_type": "code",
      "execution_count": null,
      "metadata": {
        "colab": {
          "base_uri": "https://localhost:8080/"
        },
        "id": "LzTcueAW1-Yt",
        "outputId": "ff0d0c0d-1d38-4c21-d4c1-0f26255cec02"
      },
      "outputs": [
        {
          "output_type": "stream",
          "name": "stdout",
          "text": [
            "{1, 2, 3, 4, 5}\n",
            "len: 5\n",
            "<class 'set'>\n"
          ]
        }
      ],
      "source": [
        "S2 = {2, 3, 5, 1, 4, 4}\n",
        "\n",
        "print(S2)\n",
        "print(\"len:\", len(S2))\n",
        "print(type(S2))"
      ]
    },
    {
      "cell_type": "code",
      "execution_count": null,
      "metadata": {
        "colab": {
          "base_uri": "https://localhost:8080/"
        },
        "id": "S8NhG83i1-Yv",
        "outputId": "235c5f56-7803-4e85-a980-fa8c360657e5"
      },
      "outputs": [
        {
          "output_type": "stream",
          "name": "stdout",
          "text": [
            "{'karimi', 1995, 'fatemeh'}\n",
            "len: 3\n",
            "<class 'set'>\n"
          ]
        }
      ],
      "source": [
        "S3 = {'fatemeh','karimi',1995}\n",
        "\n",
        "print(S3)\n",
        "print(\"len:\", len(S3))\n",
        "print(type(S3))"
      ]
    },
    {
      "cell_type": "code",
      "execution_count": null,
      "metadata": {
        "colab": {
          "base_uri": "https://localhost:8080/"
        },
        "id": "x7IVeldP1-Yw",
        "outputId": "d86d8cb5-a7c1-4042-f9b6-93138a3ae7bd"
      },
      "outputs": [
        {
          "output_type": "stream",
          "name": "stdout",
          "text": [
            "{2, 3, 4, 'l', 'a', 'i'}\n",
            "len: 6\n",
            "<class 'set'>\n"
          ]
        }
      ],
      "source": [
        "S4 = {4, 'a', 'l', 'i', 2, 3}\n",
        "\n",
        "print(S4)\n",
        "print(\"len:\", len(S4))\n",
        "print(type(S4))"
      ]
    },
    {
      "cell_type": "code",
      "execution_count": null,
      "metadata": {
        "colab": {
          "base_uri": "https://localhost:8080/"
        },
        "id": "IEFTn8la1-Yx",
        "outputId": "f2094dfa-3299-4ebd-b79c-40d4016a4fe1"
      },
      "outputs": [
        {
          "output_type": "execute_result",
          "data": {
            "text/plain": [
              "{0, 2, 4, 6, 8, 10}"
            ]
          },
          "metadata": {},
          "execution_count": 5
        }
      ],
      "source": [
        "S5 = {0, 2, 4, 6, 8}\n",
        "\n",
        "S5.add(10)\n",
        "S5"
      ]
    },
    {
      "cell_type": "code",
      "execution_count": null,
      "metadata": {
        "id": "IDdclCo41-Yy"
      },
      "outputs": [],
      "source": [
        "S5.clear()"
      ]
    },
    {
      "cell_type": "code",
      "execution_count": null,
      "metadata": {
        "colab": {
          "base_uri": "https://localhost:8080/"
        },
        "id": "Ecf_NAmP1-Y0",
        "outputId": "c3df858a-68e3-4afe-94c9-d117038bf97a"
      },
      "outputs": [
        {
          "output_type": "execute_result",
          "data": {
            "text/plain": [
              "set()"
            ]
          },
          "metadata": {},
          "execution_count": 7
        }
      ],
      "source": [
        "S5"
      ]
    },
    {
      "cell_type": "code",
      "execution_count": null,
      "metadata": {
        "id": "uteb0W7a1-Y1"
      },
      "outputs": [],
      "source": [
        "S5 = {0, 2, 4, 6, 8}\n",
        "S6 = S5.copy()"
      ]
    },
    {
      "cell_type": "code",
      "execution_count": null,
      "metadata": {
        "colab": {
          "base_uri": "https://localhost:8080/"
        },
        "id": "qZqGCUF41-Y2",
        "outputId": "e1b148f3-6649-4542-d943-f3e767427b30"
      },
      "outputs": [
        {
          "output_type": "execute_result",
          "data": {
            "text/plain": [
              "{0, 2, 4, 6, 8}"
            ]
          },
          "metadata": {},
          "execution_count": 9
        }
      ],
      "source": [
        "S6"
      ]
    },
    {
      "cell_type": "code",
      "execution_count": null,
      "metadata": {
        "id": "iOY5Yl8b1-Y3"
      },
      "outputs": [],
      "source": [
        "S7 = set()"
      ]
    },
    {
      "cell_type": "code",
      "execution_count": null,
      "metadata": {
        "colab": {
          "base_uri": "https://localhost:8080/"
        },
        "id": "5UfGWulK1-Y4",
        "outputId": "96ea0b0f-1ef6-4d09-e670-c64614bdccf3"
      },
      "outputs": [
        {
          "output_type": "execute_result",
          "data": {
            "text/plain": [
              "set"
            ]
          },
          "metadata": {},
          "execution_count": 11
        }
      ],
      "source": [
        "type(S7)"
      ]
    },
    {
      "cell_type": "code",
      "execution_count": null,
      "metadata": {
        "colab": {
          "base_uri": "https://localhost:8080/"
        },
        "id": "0PfsMb451-Y5",
        "outputId": "1df0cc67-8fda-4e46-c6fa-c535cfba0a1c"
      },
      "outputs": [
        {
          "output_type": "execute_result",
          "data": {
            "text/plain": [
              "{4}"
            ]
          },
          "metadata": {},
          "execution_count": 12
        }
      ],
      "source": [
        "S7.add(4)\n",
        "S7"
      ]
    },
    {
      "cell_type": "code",
      "execution_count": null,
      "metadata": {
        "colab": {
          "base_uri": "https://localhost:8080/"
        },
        "id": "Klggi1jJ1-Y6",
        "outputId": "f29c4427-7efd-4cf4-956d-9dfc5fa97c2f"
      },
      "outputs": [
        {
          "output_type": "execute_result",
          "data": {
            "text/plain": [
              "{2, 3, 4, 5, 6, 8, 9}"
            ]
          },
          "metadata": {},
          "execution_count": 13
        }
      ],
      "source": [
        "S8 = set({2, 5, 8, 9, 6})\n",
        "S9 = set({6, 3, 2, 4})\n",
        "\n",
        "S8.union(S9)"
      ]
    },
    {
      "cell_type": "code",
      "execution_count": null,
      "metadata": {
        "colab": {
          "base_uri": "https://localhost:8080/"
        },
        "id": "tlr6GX_y1-Y7",
        "outputId": "77acce22-c90e-4571-94d9-7308ef96263b"
      },
      "outputs": [
        {
          "output_type": "execute_result",
          "data": {
            "text/plain": [
              "{2, 6}"
            ]
          },
          "metadata": {},
          "execution_count": 14
        }
      ],
      "source": [
        "S8.intersection(S9)"
      ]
    },
    {
      "cell_type": "code",
      "execution_count": null,
      "metadata": {
        "colab": {
          "base_uri": "https://localhost:8080/"
        },
        "id": "PBRmk_sL1-Y7",
        "outputId": "5970639a-a673-403e-98af-3ad47f897078"
      },
      "outputs": [
        {
          "output_type": "execute_result",
          "data": {
            "text/plain": [
              "{5, 8, 9}"
            ]
          },
          "metadata": {},
          "execution_count": 15
        }
      ],
      "source": [
        "S8.difference(S9)"
      ]
    },
    {
      "cell_type": "code",
      "execution_count": null,
      "metadata": {
        "colab": {
          "base_uri": "https://localhost:8080/"
        },
        "id": "LPWloycQ1-Y8",
        "outputId": "9c9a6f6b-e904-40cd-d605-9f9020eace3a"
      },
      "outputs": [
        {
          "output_type": "execute_result",
          "data": {
            "text/plain": [
              "{5, 8, 9}"
            ]
          },
          "metadata": {},
          "execution_count": 16
        }
      ],
      "source": [
        "S8 - S9"
      ]
    },
    {
      "cell_type": "code",
      "execution_count": null,
      "metadata": {
        "colab": {
          "base_uri": "https://localhost:8080/"
        },
        "id": "vhBc9eGU1-Y9",
        "outputId": "171ee8b5-742f-41c3-dea6-bb18f5f2b4cf"
      },
      "outputs": [
        {
          "output_type": "execute_result",
          "data": {
            "text/plain": [
              "{3, 4}"
            ]
          },
          "metadata": {},
          "execution_count": 17
        }
      ],
      "source": [
        "S9.difference(S8)"
      ]
    },
    {
      "cell_type": "code",
      "execution_count": null,
      "metadata": {
        "colab": {
          "base_uri": "https://localhost:8080/"
        },
        "id": "yBb3Ih571-Y-",
        "outputId": "1d518f2d-3f6d-492f-81f7-ce48250b79ff"
      },
      "outputs": [
        {
          "output_type": "execute_result",
          "data": {
            "text/plain": [
              "{3, 4}"
            ]
          },
          "metadata": {},
          "execution_count": 18
        }
      ],
      "source": [
        "S9 - S8"
      ]
    },
    {
      "cell_type": "code",
      "execution_count": null,
      "metadata": {
        "colab": {
          "base_uri": "https://localhost:8080/"
        },
        "id": "nn5yuoQQ1-Y-",
        "outputId": "6fa52a57-80df-4089-c250-fe1ce6ac0261"
      },
      "outputs": [
        {
          "output_type": "execute_result",
          "data": {
            "text/plain": [
              "True"
            ]
          },
          "metadata": {},
          "execution_count": 19
        }
      ],
      "source": [
        "sub = {2, 6}\n",
        "sub.issubset(S8)"
      ]
    },
    {
      "cell_type": "code",
      "execution_count": null,
      "metadata": {
        "colab": {
          "base_uri": "https://localhost:8080/"
        },
        "id": "gBnqTwwf1-Y_",
        "outputId": "839aa242-8716-4966-d2c6-b6492d6ec4e4"
      },
      "outputs": [
        {
          "output_type": "execute_result",
          "data": {
            "text/plain": [
              "2"
            ]
          },
          "metadata": {},
          "execution_count": 20
        }
      ],
      "source": [
        "S8.pop()"
      ]
    },
    {
      "cell_type": "code",
      "execution_count": null,
      "metadata": {
        "colab": {
          "base_uri": "https://localhost:8080/"
        },
        "id": "aovsHCW41-ZA",
        "outputId": "54cd0c82-cd87-4fca-f1ac-5c6311ccec8c"
      },
      "outputs": [
        {
          "output_type": "execute_result",
          "data": {
            "text/plain": [
              "{5, 6, 8, 9}"
            ]
          },
          "metadata": {},
          "execution_count": 21
        }
      ],
      "source": [
        "S8"
      ]
    },
    {
      "cell_type": "code",
      "execution_count": null,
      "metadata": {
        "colab": {
          "base_uri": "https://localhost:8080/"
        },
        "id": "gpWF1Iyl1-ZB",
        "outputId": "6063543e-bf57-4df7-ac19-bf0bd6104bdc"
      },
      "outputs": [
        {
          "output_type": "execute_result",
          "data": {
            "text/plain": [
              "{2, 5, 6, 8, 9}"
            ]
          },
          "metadata": {},
          "execution_count": 22
        }
      ],
      "source": [
        "S8.add(2)\n",
        "S8"
      ]
    },
    {
      "cell_type": "code",
      "execution_count": null,
      "metadata": {
        "colab": {
          "base_uri": "https://localhost:8080/"
        },
        "id": "pc2s09v71-ZB",
        "outputId": "6387392d-565f-4753-e368-cfbe843a1c49"
      },
      "outputs": [
        {
          "output_type": "execute_result",
          "data": {
            "text/plain": [
              "{2, 4, 5, 6, 8, 9}"
            ]
          },
          "metadata": {},
          "execution_count": 23
        }
      ],
      "source": [
        "S8.add(4)\n",
        "S8"
      ]
    },
    {
      "cell_type": "code",
      "execution_count": null,
      "metadata": {
        "colab": {
          "base_uri": "https://localhost:8080/"
        },
        "id": "OoYOobqv1-ZC",
        "outputId": "e436308b-309e-4b35-f25f-95a79a118d65"
      },
      "outputs": [
        {
          "output_type": "execute_result",
          "data": {
            "text/plain": [
              "{2, 5, 6, 8, 9}"
            ]
          },
          "metadata": {},
          "execution_count": 24
        }
      ],
      "source": [
        "S8.remove(4)\n",
        "S8"
      ]
    },
    {
      "cell_type": "code",
      "execution_count": null,
      "metadata": {
        "colab": {
          "base_uri": "https://localhost:8080/"
        },
        "id": "alxRuDZR1-ZD",
        "outputId": "2149970a-72d3-47cd-c5c6-9c85d5701c52"
      },
      "outputs": [
        {
          "output_type": "execute_result",
          "data": {
            "text/plain": [
              "5"
            ]
          },
          "metadata": {},
          "execution_count": 25
        }
      ],
      "source": [
        "len(S8)"
      ]
    },
    {
      "cell_type": "code",
      "execution_count": null,
      "metadata": {
        "colab": {
          "base_uri": "https://localhost:8080/"
        },
        "id": "RxZ-ULqW1-ZE",
        "outputId": "8045a707-36b9-4e41-f1ee-729b5c81269e"
      },
      "outputs": [
        {
          "output_type": "execute_result",
          "data": {
            "text/plain": [
              "{1, 2, 3, 4, 5, 6, 7}"
            ]
          },
          "metadata": {},
          "execution_count": 26
        }
      ],
      "source": [
        "S10 = {1, 2, 3, 5}\n",
        "S10.update({4, 6, 7})\n",
        "S10"
      ]
    },
    {
      "cell_type": "code",
      "execution_count": null,
      "metadata": {
        "colab": {
          "base_uri": "https://localhost:8080/"
        },
        "id": "GCeGeaNO1-ZF",
        "outputId": "964ac3e9-07ad-4c67-b9b6-db9f91f39e15"
      },
      "outputs": [
        {
          "output_type": "stream",
          "name": "stdout",
          "text": [
            "1\n",
            "2\n",
            "3\n",
            "4\n",
            "5\n",
            "6\n",
            "7\n"
          ]
        }
      ],
      "source": [
        "for i in S10:\n",
        "    print(i)"
      ]
    }
  ],
  "metadata": {
    "kernelspec": {
      "display_name": "Python 3",
      "language": "python",
      "name": "python3"
    },
    "language_info": {
      "codemirror_mode": {
        "name": "ipython",
        "version": 3
      },
      "file_extension": ".py",
      "mimetype": "text/x-python",
      "name": "python",
      "nbconvert_exporter": "python",
      "pygments_lexer": "ipython3",
      "version": "3.8.8"
    },
    "colab": {
      "name": "4_set.ipynb",
      "provenance": [],
      "include_colab_link": true
    }
  },
  "nbformat": 4,
  "nbformat_minor": 0
}
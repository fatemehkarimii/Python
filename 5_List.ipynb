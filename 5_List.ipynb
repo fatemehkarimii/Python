{
  "nbformat": 4,
  "nbformat_minor": 0,
  "metadata": {
    "kernelspec": {
      "display_name": "Python 3",
      "language": "python",
      "name": "python3"
    },
    "language_info": {
      "codemirror_mode": {
        "name": "ipython",
        "version": 3
      },
      "file_extension": ".py",
      "mimetype": "text/x-python",
      "name": "python",
      "nbconvert_exporter": "python",
      "pygments_lexer": "ipython3",
      "version": "3.8.8"
    },
    "colab": {
      "name": "5_List.ipynb",
      "provenance": [],
      "collapsed_sections": [],
      "include_colab_link": true
    }
  },
  "cells": [
    {
      "cell_type": "markdown",
      "metadata": {
        "id": "view-in-github",
        "colab_type": "text"
      },
      "source": [
        "<a href=\"https://colab.research.google.com/github/fatemehkarimii/Python-Tutorial/blob/main/5_List.ipynb\" target=\"_parent\"><img src=\"https://colab.research.google.com/assets/colab-badge.svg\" alt=\"Open In Colab\"/></a>"
      ]
    },
    {
      "cell_type": "markdown",
      "metadata": {
        "id": "y4tedrESbHG6"
      },
      "source": [
        "# list"
      ]
    },
    {
      "cell_type": "code",
      "metadata": {
        "id": "y7-4HfKUbHHD",
        "outputId": "37d87913-0b76-42c2-e5c2-72da4051bf95"
      },
      "source": [
        "L1 = [1, 2, 3, 4, 4]\n",
        "\n",
        "print(L1)\n",
        "print(\"len:\", len(L1))\n",
        "print(type(L1))"
      ],
      "execution_count": null,
      "outputs": [
        {
          "name": "stdout",
          "output_type": "stream",
          "text": [
            "[1, 2, 3, 4, 4]\n",
            "len: 5\n",
            "<class 'list'>\n"
          ]
        }
      ]
    },
    {
      "cell_type": "code",
      "metadata": {
        "id": "Z_dMv59jbHHG",
        "outputId": "cd9655fc-69d1-4636-9ded-07cc8ce09627"
      },
      "source": [
        "L2 = [1, 'a', 'c', 2]\n",
        "\n",
        "print(L2)\n",
        "print(\"len:\", len(L2))\n",
        "print(type(L2))"
      ],
      "execution_count": null,
      "outputs": [
        {
          "name": "stdout",
          "output_type": "stream",
          "text": [
            "[1, 'a', 'c', 2]\n",
            "len: 4\n",
            "<class 'list'>\n"
          ]
        }
      ]
    },
    {
      "cell_type": "code",
      "metadata": {
        "id": "a9Qgrh1ybHHH",
        "outputId": "6ec75166-79cc-49b4-963c-7ac0747dbed4"
      },
      "source": [
        "L1.append(5)\n",
        "L1"
      ],
      "execution_count": null,
      "outputs": [
        {
          "data": {
            "text/plain": [
              "[1, 2, 3, 4, 4, 5]"
            ]
          },
          "execution_count": 3,
          "metadata": {},
          "output_type": "execute_result"
        }
      ]
    },
    {
      "cell_type": "code",
      "metadata": {
        "id": "JRdvzlAybHHI",
        "outputId": "239fba13-6960-4ddf-f384-01ab1079e920"
      },
      "source": [
        "L1.clear()\n",
        "L1"
      ],
      "execution_count": null,
      "outputs": [
        {
          "data": {
            "text/plain": [
              "[]"
            ]
          },
          "execution_count": 4,
          "metadata": {},
          "output_type": "execute_result"
        }
      ]
    },
    {
      "cell_type": "code",
      "metadata": {
        "id": "98JrgC2lbHHJ",
        "outputId": "b3e54427-94cf-44d6-873a-745469e88db4"
      },
      "source": [
        "L1.append(6)\n",
        "L1"
      ],
      "execution_count": null,
      "outputs": [
        {
          "data": {
            "text/plain": [
              "[2, 6]"
            ]
          },
          "execution_count": 7,
          "metadata": {},
          "output_type": "execute_result"
        }
      ]
    },
    {
      "cell_type": "code",
      "metadata": {
        "id": "O5rytZ2pbHHK",
        "outputId": "1c81ad62-6031-4db2-adf7-ac3e0b5b0f17"
      },
      "source": [
        "L1.append([2])\n",
        "L1"
      ],
      "execution_count": null,
      "outputs": [
        {
          "data": {
            "text/plain": [
              "[2, 6, [2]]"
            ]
          },
          "execution_count": 8,
          "metadata": {},
          "output_type": "execute_result"
        }
      ]
    },
    {
      "cell_type": "code",
      "metadata": {
        "id": "_Z0KvyptbHHL",
        "outputId": "b2ca3345-ab59-43b6-925d-2f49ad48e0fc"
      },
      "source": [
        "L1.append([1, 2, 3])\n",
        "L1"
      ],
      "execution_count": null,
      "outputs": [
        {
          "data": {
            "text/plain": [
              "[2, 6, [2], [1, 2, 3]]"
            ]
          },
          "execution_count": 9,
          "metadata": {},
          "output_type": "execute_result"
        }
      ]
    },
    {
      "cell_type": "code",
      "metadata": {
        "id": "nN-qX1VjbHHM",
        "outputId": "0ba3784a-a9d1-47ed-c408-267a43c08ada"
      },
      "source": [
        "L1.extend([5, 3, 6, 1])\n",
        "L1"
      ],
      "execution_count": null,
      "outputs": [
        {
          "data": {
            "text/plain": [
              "[2, 6, [2], [1, 2, 3], 5, 3, 6, 1]"
            ]
          },
          "execution_count": 10,
          "metadata": {},
          "output_type": "execute_result"
        }
      ]
    },
    {
      "cell_type": "code",
      "metadata": {
        "id": "3DTRhT76bHHN",
        "outputId": "be242d7e-09b5-48a3-c1f3-6a6031efd67d"
      },
      "source": [
        "a = [2, 4, 6]\n",
        "L1.extend(a)\n",
        "L1"
      ],
      "execution_count": null,
      "outputs": [
        {
          "data": {
            "text/plain": [
              "[2, 6, [2], [1, 2, 3], 5, 3, 6, 1, 2, 4, 6]"
            ]
          },
          "execution_count": 11,
          "metadata": {},
          "output_type": "execute_result"
        }
      ]
    },
    {
      "cell_type": "code",
      "metadata": {
        "id": "hnsY3Mv9bHHO",
        "outputId": "65e360d3-1caa-4d7d-90bc-1c7b9a9f2a05"
      },
      "source": [
        "a = [2, 4, 6]\n",
        "L1.extend([a])\n",
        "L1"
      ],
      "execution_count": null,
      "outputs": [
        {
          "data": {
            "text/plain": [
              "[2, 6, [2], [1, 2, 3], 5, 3, 6, 1, 2, 4, 6, [2, 4, 6]]"
            ]
          },
          "execution_count": 12,
          "metadata": {},
          "output_type": "execute_result"
        }
      ]
    },
    {
      "cell_type": "code",
      "metadata": {
        "id": "K1FXNKEKbHHP",
        "outputId": "e3136400-1552-4704-8a33-4786369741a7"
      },
      "source": [
        "L2 = list([8, 9])\n",
        "L2"
      ],
      "execution_count": null,
      "outputs": [
        {
          "data": {
            "text/plain": [
              "[8, 9]"
            ]
          },
          "execution_count": 13,
          "metadata": {},
          "output_type": "execute_result"
        }
      ]
    },
    {
      "cell_type": "code",
      "metadata": {
        "id": "r0t2LTYAbHHP",
        "outputId": "6db7dd59-f00c-4125-fca3-07f6c34c5a33"
      },
      "source": [
        "L3 = L1 + L2\n",
        "L3"
      ],
      "execution_count": null,
      "outputs": [
        {
          "data": {
            "text/plain": [
              "[2, 6, [2], [1, 2, 3], 5, 3, 6, 1, 2, 4, 6, [2, 4, 6], 8, 9]"
            ]
          },
          "execution_count": 14,
          "metadata": {},
          "output_type": "execute_result"
        }
      ]
    },
    {
      "cell_type": "code",
      "metadata": {
        "id": "Duo678XkbHHQ",
        "outputId": "ca5e9d18-9e48-4f18-9eb9-fb1b0d49866a"
      },
      "source": [
        "L4 = [\"python\", \"C#\", \"django\", \"c++\", \"python\"]\n",
        "L5 = L4\n",
        "L5"
      ],
      "execution_count": null,
      "outputs": [
        {
          "data": {
            "text/plain": [
              "['python', 'C#', 'django', 'c++', 'python']"
            ]
          },
          "execution_count": 15,
          "metadata": {},
          "output_type": "execute_result"
        }
      ]
    },
    {
      "cell_type": "code",
      "metadata": {
        "id": "2ETTxtKlbHHQ",
        "outputId": "cd8b899e-a9f2-4d74-fb22-1598bbbc31cf"
      },
      "source": [
        "L6 = L4.copy()\n",
        "L6"
      ],
      "execution_count": null,
      "outputs": [
        {
          "data": {
            "text/plain": [
              "['python', 'C#', 'django', 'c++', 'python']"
            ]
          },
          "execution_count": 16,
          "metadata": {},
          "output_type": "execute_result"
        }
      ]
    },
    {
      "cell_type": "code",
      "metadata": {
        "id": "3-ehGYgLbHHR",
        "outputId": "3c939982-0fe8-4676-9ec0-8cd322a3e8d8"
      },
      "source": [
        "L4.count(\"python\")"
      ],
      "execution_count": null,
      "outputs": [
        {
          "data": {
            "text/plain": [
              "2"
            ]
          },
          "execution_count": 17,
          "metadata": {},
          "output_type": "execute_result"
        }
      ]
    },
    {
      "cell_type": "code",
      "metadata": {
        "id": "yBpcVnKwbHHR",
        "outputId": "869c5668-7ecb-4f84-dedd-5852ea11ce24"
      },
      "source": [
        "L4.index(\"C#\")"
      ],
      "execution_count": null,
      "outputs": [
        {
          "data": {
            "text/plain": [
              "1"
            ]
          },
          "execution_count": 18,
          "metadata": {},
          "output_type": "execute_result"
        }
      ]
    },
    {
      "cell_type": "code",
      "metadata": {
        "id": "f8EkFeEgbHHS",
        "outputId": "a8eea406-5edc-4393-ee3a-8fdd9517a4bb"
      },
      "source": [
        "L4.index(\"python\")"
      ],
      "execution_count": null,
      "outputs": [
        {
          "data": {
            "text/plain": [
              "0"
            ]
          },
          "execution_count": 19,
          "metadata": {},
          "output_type": "execute_result"
        }
      ]
    },
    {
      "cell_type": "code",
      "metadata": {
        "id": "pVe90IuhbHHS",
        "outputId": "99cf371f-2339-4953-e34d-53f3e158553f"
      },
      "source": [
        "L4"
      ],
      "execution_count": null,
      "outputs": [
        {
          "data": {
            "text/plain": [
              "['python', 'C#', 'django', 'c++', 'python']"
            ]
          },
          "execution_count": 20,
          "metadata": {},
          "output_type": "execute_result"
        }
      ]
    },
    {
      "cell_type": "code",
      "metadata": {
        "id": "OmMu3CWcbHHT",
        "outputId": "bf2ffa9a-dab7-4c85-b24a-5ebaf06ee0c4"
      },
      "source": [
        "L4.insert(1, \"matlab\")\n",
        "L4"
      ],
      "execution_count": null,
      "outputs": [
        {
          "data": {
            "text/plain": [
              "['python', 'matlab', 'C#', 'django', 'c++', 'python']"
            ]
          },
          "execution_count": 21,
          "metadata": {},
          "output_type": "execute_result"
        }
      ]
    },
    {
      "cell_type": "code",
      "metadata": {
        "id": "jlurXpq7bHHT",
        "outputId": "e303ec46-6140-4326-d105-9ba5dc9b1a06"
      },
      "source": [
        "L4.pop()\n",
        "L4"
      ],
      "execution_count": null,
      "outputs": [
        {
          "data": {
            "text/plain": [
              "['python', 'matlab', 'C#', 'django', 'c++']"
            ]
          },
          "execution_count": 22,
          "metadata": {},
          "output_type": "execute_result"
        }
      ]
    },
    {
      "cell_type": "code",
      "metadata": {
        "id": "kcmqjtV3bHHU",
        "outputId": "114d8bb8-6bdb-4f11-95e8-d0f3a0cf4f7a"
      },
      "source": [
        "L4.pop(3)"
      ],
      "execution_count": null,
      "outputs": [
        {
          "data": {
            "text/plain": [
              "'django'"
            ]
          },
          "execution_count": 23,
          "metadata": {},
          "output_type": "execute_result"
        }
      ]
    },
    {
      "cell_type": "code",
      "metadata": {
        "id": "hwukI-VZbHHU",
        "outputId": "35d17ed5-20e3-46d0-89d9-00af70f3b7ad"
      },
      "source": [
        "L4.remove(\"python\")\n",
        "L4"
      ],
      "execution_count": null,
      "outputs": [
        {
          "data": {
            "text/plain": [
              "['matlab', 'C#', 'c++']"
            ]
          },
          "execution_count": 24,
          "metadata": {},
          "output_type": "execute_result"
        }
      ]
    },
    {
      "cell_type": "code",
      "metadata": {
        "id": "adqOcCsYbHHV",
        "outputId": "7a79efe5-89a9-43d9-cf91-bb6c21ebd25f"
      },
      "source": [
        "L4.reverse()\n",
        "L4"
      ],
      "execution_count": null,
      "outputs": [
        {
          "data": {
            "text/plain": [
              "['c++', 'C#', 'matlab']"
            ]
          },
          "execution_count": 25,
          "metadata": {},
          "output_type": "execute_result"
        }
      ]
    },
    {
      "cell_type": "code",
      "metadata": {
        "id": "muBDKoDkbHHV",
        "outputId": "061a3330-6a63-4c74-f041-fa0dd0f20961"
      },
      "source": [
        "L4.sort()\n",
        "L4"
      ],
      "execution_count": null,
      "outputs": [
        {
          "data": {
            "text/plain": [
              "['C#', 'c++', 'matlab']"
            ]
          },
          "execution_count": 26,
          "metadata": {},
          "output_type": "execute_result"
        }
      ]
    },
    {
      "cell_type": "code",
      "metadata": {
        "id": "BDY-tAXEbHHV",
        "outputId": "3eca1759-d0d0-49cf-cceb-c348367e16b1"
      },
      "source": [
        "L5 = [6, 4, 2, 5]\n",
        "L5.sort()\n",
        "L5"
      ],
      "execution_count": null,
      "outputs": [
        {
          "data": {
            "text/plain": [
              "[2, 4, 5, 6]"
            ]
          },
          "execution_count": 27,
          "metadata": {},
          "output_type": "execute_result"
        }
      ]
    },
    {
      "cell_type": "code",
      "metadata": {
        "id": "W2yhb9F7bHHW",
        "outputId": "c9b5ac2c-8852-4fce-a798-dece88372a4b"
      },
      "source": [
        "a1 = \"python\"\n",
        "a2 = \"java\"\n",
        "a3 = 2\n",
        "a4 = 6\n",
        "a5 = \"C#\"\n",
        "\n",
        "L6 = [a1, a2, a3, a4, a5]\n",
        "\n",
        "print(L6)\n",
        "print(type(L6))\n",
        "print(len(L6))"
      ],
      "execution_count": null,
      "outputs": [
        {
          "name": "stdout",
          "output_type": "stream",
          "text": [
            "['python', 'java', 2, 6, 'C#']\n",
            "<class 'list'>\n",
            "5\n"
          ]
        }
      ]
    },
    {
      "cell_type": "code",
      "metadata": {
        "id": "9B-OUxDSbHHW",
        "outputId": "e48b351f-cd7a-4353-9be3-13b5d0c31345"
      },
      "source": [
        "L6[1]"
      ],
      "execution_count": null,
      "outputs": [
        {
          "data": {
            "text/plain": [
              "'java'"
            ]
          },
          "execution_count": 29,
          "metadata": {},
          "output_type": "execute_result"
        }
      ]
    },
    {
      "cell_type": "code",
      "metadata": {
        "id": "PxPj8BIfbHHW",
        "outputId": "fec20516-5391-4ef7-f198-360ab0305c7c"
      },
      "source": [
        "L6[1] = \"matlab\"\n",
        "L6"
      ],
      "execution_count": null,
      "outputs": [
        {
          "data": {
            "text/plain": [
              "['python', 'matlab', 2, 6, 'C#']"
            ]
          },
          "execution_count": 30,
          "metadata": {},
          "output_type": "execute_result"
        }
      ]
    },
    {
      "cell_type": "code",
      "metadata": {
        "id": "GECSNZnWbHHX",
        "outputId": "cf828553-8705-47c1-e384-fbb234abf61c"
      },
      "source": [
        "L6[2:]"
      ],
      "execution_count": null,
      "outputs": [
        {
          "data": {
            "text/plain": [
              "[2, 6, 'C#']"
            ]
          },
          "execution_count": 31,
          "metadata": {},
          "output_type": "execute_result"
        }
      ]
    },
    {
      "cell_type": "code",
      "metadata": {
        "id": "z5SBiUi_bHHX",
        "outputId": "02f65ca1-93f3-4e33-c8ec-493018d6f7d8"
      },
      "source": [
        "L6[2:]"
      ],
      "execution_count": null,
      "outputs": [
        {
          "data": {
            "text/plain": [
              "['matlab', 2, 6]"
            ]
          },
          "execution_count": 32,
          "metadata": {},
          "output_type": "execute_result"
        }
      ]
    },
    {
      "cell_type": "code",
      "metadata": {
        "id": "h6YWjZGXbHHX",
        "outputId": "6adea12b-6e6b-4663-8320-939f024d3df1"
      },
      "source": [
        "L6[-1]"
      ],
      "execution_count": null,
      "outputs": [
        {
          "data": {
            "text/plain": [
              "'C#'"
            ]
          },
          "execution_count": 33,
          "metadata": {},
          "output_type": "execute_result"
        }
      ]
    },
    {
      "cell_type": "code",
      "metadata": {
        "id": "ou2GQ2N1bHHX",
        "outputId": "57dac122-0346-4b6b-937d-cbeb109f2d4e"
      },
      "source": [
        "L6[:-1]"
      ],
      "execution_count": null,
      "outputs": [
        {
          "data": {
            "text/plain": [
              "['python', 'matlab', 2, 6]"
            ]
          },
          "execution_count": 34,
          "metadata": {},
          "output_type": "execute_result"
        }
      ]
    },
    {
      "cell_type": "code",
      "metadata": {
        "id": "d65Iidu6bHHY",
        "outputId": "cd5019b6-477f-409c-b260-32eaa3b7f4d5"
      },
      "source": [
        "L6[1:3]"
      ],
      "execution_count": null,
      "outputs": [
        {
          "data": {
            "text/plain": [
              "['matlab', 2]"
            ]
          },
          "execution_count": 35,
          "metadata": {},
          "output_type": "execute_result"
        }
      ]
    },
    {
      "cell_type": "code",
      "metadata": {
        "id": "96Nce-ejbHHY",
        "outputId": "0fd61ea9-a903-4409-f41f-4835cc9aaaef"
      },
      "source": [
        "\"c++\" in L6"
      ],
      "execution_count": null,
      "outputs": [
        {
          "data": {
            "text/plain": [
              "False"
            ]
          },
          "execution_count": 36,
          "metadata": {},
          "output_type": "execute_result"
        }
      ]
    },
    {
      "cell_type": "code",
      "metadata": {
        "id": "INzSWr1kbHHY",
        "outputId": "b5a68f8d-ec95-4b13-8a37-f4d75fbdd5b6"
      },
      "source": [
        "x = \"matlab\"\n",
        "x in L6"
      ],
      "execution_count": null,
      "outputs": [
        {
          "data": {
            "text/plain": [
              "True"
            ]
          },
          "execution_count": 37,
          "metadata": {},
          "output_type": "execute_result"
        }
      ]
    },
    {
      "cell_type": "code",
      "metadata": {
        "id": "Xbppbk_TbHHZ",
        "outputId": "5a608331-8511-47ea-dfbd-08f2cd0d9358"
      },
      "source": [
        "L7 = [[1,3,5,7,9] , [0,2,4,6,8]]\n",
        "\n",
        "print(L7)\n",
        "print(len(L7))\n",
        "print(type(L7))"
      ],
      "execution_count": null,
      "outputs": [
        {
          "name": "stdout",
          "output_type": "stream",
          "text": [
            "[[1, 3, 5, 7, 9], [0, 2, 4, 6, 8]]\n",
            "2\n",
            "<class 'list'>\n"
          ]
        }
      ]
    },
    {
      "cell_type": "code",
      "metadata": {
        "id": "tAUUSUSQbHHe",
        "outputId": "ef922fc3-59d3-48ca-b2b2-0184f582b1d9"
      },
      "source": [
        "L7[1]"
      ],
      "execution_count": null,
      "outputs": [
        {
          "data": {
            "text/plain": [
              "[0, 2, 4, 6, 8]"
            ]
          },
          "execution_count": 39,
          "metadata": {},
          "output_type": "execute_result"
        }
      ]
    },
    {
      "cell_type": "code",
      "metadata": {
        "id": "1N5w7Z50bHHf",
        "outputId": "2ab80df5-72cc-42b8-e108-0187543d9c53"
      },
      "source": [
        "L7[1][2]"
      ],
      "execution_count": null,
      "outputs": [
        {
          "data": {
            "text/plain": [
              "4"
            ]
          },
          "execution_count": 40,
          "metadata": {},
          "output_type": "execute_result"
        }
      ]
    },
    {
      "cell_type": "code",
      "metadata": {
        "id": "EsdOrUHcbHHg",
        "outputId": "2b0b7b75-490e-4743-c140-fe193d4a7daf"
      },
      "source": [
        "for i in L7:\n",
        "    print(i)"
      ],
      "execution_count": null,
      "outputs": [
        {
          "name": "stdout",
          "output_type": "stream",
          "text": [
            "[1, 3, 5, 7, 9]\n",
            "[0, 2, 4, 6, 8]\n"
          ]
        }
      ]
    },
    {
      "cell_type": "code",
      "metadata": {
        "id": "RGNjaOR7bHHg",
        "outputId": "0539bd80-7283-41bf-d988-8c34aa8f8ba1"
      },
      "source": [
        "#numbers= []\n",
        "#for i in range(10):\n",
        "#    numbers.append(i)\n",
        "\n",
        "numbers = [i for i in range(10)]\n",
        "numbers"
      ],
      "execution_count": null,
      "outputs": [
        {
          "data": {
            "text/plain": [
              "[0, 1, 2, 3, 4, 5, 6, 7, 8, 9]"
            ]
          },
          "execution_count": 44,
          "metadata": {},
          "output_type": "execute_result"
        }
      ]
    },
    {
      "cell_type": "code",
      "metadata": {
        "id": "KP8yR7eVbHHh",
        "outputId": "18535a35-67a6-4d65-96d7-918c6e505641"
      },
      "source": [
        "#numbers = []\n",
        "#for i in range(10):\n",
        "#    numbers.append(i*2)\n",
        "\n",
        "numbers = [i*2 for i in range(10)]\n",
        "numbers"
      ],
      "execution_count": null,
      "outputs": [
        {
          "data": {
            "text/plain": [
              "[0, 2, 4, 6, 8, 10, 12, 14, 16, 18]"
            ]
          },
          "execution_count": 45,
          "metadata": {},
          "output_type": "execute_result"
        }
      ]
    },
    {
      "cell_type": "code",
      "metadata": {
        "id": "ahuxsqlbbHHh",
        "outputId": "2cbb21a9-9453-41ee-af18-13c1c13a65e2"
      },
      "source": [
        "#even = []\n",
        "#for i in range(10):\n",
        "#    if i%2 == 0:\n",
        "#        even.append(i)\n",
        "        \n",
        "even = [i for i in range(10) if i%2 == 0]\n",
        "\n",
        "print(f\"even: {even}\")"
      ],
      "execution_count": null,
      "outputs": [
        {
          "name": "stdout",
          "output_type": "stream",
          "text": [
            "even: [0, 2, 4, 6, 8]\n"
          ]
        }
      ]
    },
    {
      "cell_type": "code",
      "metadata": {
        "id": "L6a35-NwbHHh",
        "outputId": "2590f737-9134-4786-966a-e0f4abd72b8a"
      },
      "source": [
        "import math\n",
        "List = [1, 2, 3, 4, 5, 6, 7, 8, 9, 10]\n",
        "\n",
        "#factorial = []\n",
        "#for i in List:\n",
        "#    if i%2 ==0:\n",
        "#        factorial.append(math.factorial(i))\n",
        "\n",
        "factorial = [math.factorial(i) for i in List if i%2 ==0] \n",
        "factorial"
      ],
      "execution_count": null,
      "outputs": [
        {
          "data": {
            "text/plain": [
              "[2, 24, 720, 40320, 3628800]"
            ]
          },
          "execution_count": 47,
          "metadata": {},
          "output_type": "execute_result"
        }
      ]
    },
    {
      "cell_type": "code",
      "metadata": {
        "collapsed": true,
        "id": "dPfAeNy9bHHi",
        "outputId": "6399d3ab-f8b3-49f1-ecf6-576f6f19f4aa"
      },
      "source": [
        "#product = []\n",
        "#for i in range(10):\n",
        "#    for j in range(10):\n",
        "#        product.append(i*j)\n",
        "\n",
        "product = [i*j for i in range(10) for j in range(10)]\n",
        "product "
      ],
      "execution_count": null,
      "outputs": [
        {
          "data": {
            "text/plain": [
              "[0,\n",
              " 0,\n",
              " 0,\n",
              " 0,\n",
              " 0,\n",
              " 0,\n",
              " 0,\n",
              " 0,\n",
              " 0,\n",
              " 0,\n",
              " 0,\n",
              " 1,\n",
              " 2,\n",
              " 3,\n",
              " 4,\n",
              " 5,\n",
              " 6,\n",
              " 7,\n",
              " 8,\n",
              " 9,\n",
              " 0,\n",
              " 2,\n",
              " 4,\n",
              " 6,\n",
              " 8,\n",
              " 10,\n",
              " 12,\n",
              " 14,\n",
              " 16,\n",
              " 18,\n",
              " 0,\n",
              " 3,\n",
              " 6,\n",
              " 9,\n",
              " 12,\n",
              " 15,\n",
              " 18,\n",
              " 21,\n",
              " 24,\n",
              " 27,\n",
              " 0,\n",
              " 4,\n",
              " 8,\n",
              " 12,\n",
              " 16,\n",
              " 20,\n",
              " 24,\n",
              " 28,\n",
              " 32,\n",
              " 36,\n",
              " 0,\n",
              " 5,\n",
              " 10,\n",
              " 15,\n",
              " 20,\n",
              " 25,\n",
              " 30,\n",
              " 35,\n",
              " 40,\n",
              " 45,\n",
              " 0,\n",
              " 6,\n",
              " 12,\n",
              " 18,\n",
              " 24,\n",
              " 30,\n",
              " 36,\n",
              " 42,\n",
              " 48,\n",
              " 54,\n",
              " 0,\n",
              " 7,\n",
              " 14,\n",
              " 21,\n",
              " 28,\n",
              " 35,\n",
              " 42,\n",
              " 49,\n",
              " 56,\n",
              " 63,\n",
              " 0,\n",
              " 8,\n",
              " 16,\n",
              " 24,\n",
              " 32,\n",
              " 40,\n",
              " 48,\n",
              " 56,\n",
              " 64,\n",
              " 72,\n",
              " 0,\n",
              " 9,\n",
              " 18,\n",
              " 27,\n",
              " 36,\n",
              " 45,\n",
              " 54,\n",
              " 63,\n",
              " 72,\n",
              " 81]"
            ]
          },
          "execution_count": 48,
          "metadata": {},
          "output_type": "execute_result"
        }
      ]
    },
    {
      "cell_type": "code",
      "metadata": {
        "id": "HdihloJnbHHi"
      },
      "source": [
        "#numbers = []\n",
        "#for i in range(10):\n",
        "#    if i%2 ==0:\n",
        "#        numbers.append(i)\n",
        "#   else:\n",
        "#       numbers.append(i*10)\n",
        "\n",
        "numbers = [i if i%2 ==0 else i*10 for i in range(10)]\n",
        "numbers"
      ],
      "execution_count": null,
      "outputs": []
    },
    {
      "cell_type": "code",
      "metadata": {
        "id": "Q6_i4ywobHHi"
      },
      "source": [
        "#product = []\n",
        "#for i in range(10):\n",
        "#    for j in range(10):\n",
        "#        if i*j >= 50:\n",
        "#            product.append(i*j)\n",
        "#        else:\n",
        "#            product.append(0)\n",
        "\n",
        "product = [i*j if i*j >=50 else 0 for i in range(10) for j in range(10)]\n",
        "product "
      ],
      "execution_count": null,
      "outputs": []
    },
    {
      "cell_type": "code",
      "metadata": {
        "id": "5s3CiFPBbHHi"
      },
      "source": [
        "product = [ [i*j for j in range(10) ] for i in range(5) ]"
      ],
      "execution_count": null,
      "outputs": []
    },
    {
      "cell_type": "code",
      "metadata": {
        "id": "rwQst169bHHj",
        "outputId": "0e6e7ea1-51f0-46bd-ef8d-d88a2c308c84"
      },
      "source": [
        "product"
      ],
      "execution_count": null,
      "outputs": [
        {
          "data": {
            "text/plain": [
              "[[0, 0, 0, 0, 0, 0, 0, 0, 0, 0],\n",
              " [0, 1, 2, 3, 4, 5, 6, 7, 8, 9],\n",
              " [0, 2, 4, 6, 8, 10, 12, 14, 16, 18],\n",
              " [0, 3, 6, 9, 12, 15, 18, 21, 24, 27],\n",
              " [0, 4, 8, 12, 16, 20, 24, 28, 32, 36]]"
            ]
          },
          "execution_count": 50,
          "metadata": {},
          "output_type": "execute_result"
        }
      ]
    },
    {
      "cell_type": "code",
      "metadata": {
        "id": "hPObs8adbHHj",
        "outputId": "2b3a6496-f5d2-42f1-8cbb-a1b77ed7c806"
      },
      "source": [
        "print(type(product))\n",
        "print(len(product))"
      ],
      "execution_count": null,
      "outputs": [
        {
          "name": "stdout",
          "output_type": "stream",
          "text": [
            "<class 'list'>\n",
            "5\n"
          ]
        }
      ]
    },
    {
      "cell_type": "code",
      "metadata": {
        "id": "2cO2sXa6bHHj"
      },
      "source": [
        "product2 = [ [i*j for j in range(10) if i*j >=50 ] for i in range(10) ]"
      ],
      "execution_count": null,
      "outputs": []
    },
    {
      "cell_type": "code",
      "metadata": {
        "id": "rnDh18NLbHHj",
        "outputId": "8622241a-1b92-4d76-cee0-d112e4863dcf"
      },
      "source": [
        "product2"
      ],
      "execution_count": null,
      "outputs": [
        {
          "data": {
            "text/plain": [
              "[[], [], [], [], [], [], [54], [56, 63], [56, 64, 72], [54, 63, 72, 81]]"
            ]
          },
          "execution_count": 53,
          "metadata": {},
          "output_type": "execute_result"
        }
      ]
    },
    {
      "cell_type": "code",
      "metadata": {
        "id": "p6onpRxCbHHk",
        "outputId": "58a19e6a-3e71-4506-dc76-35dfc5614654"
      },
      "source": [
        "print(type(product2))\n",
        "print(len(product2))"
      ],
      "execution_count": null,
      "outputs": [
        {
          "name": "stdout",
          "output_type": "stream",
          "text": [
            "<class 'list'>\n",
            "10\n"
          ]
        }
      ]
    },
    {
      "cell_type": "code",
      "metadata": {
        "id": "gkaHGNSNbHHk",
        "outputId": "94108792-7ae7-496d-916d-c02743497fca"
      },
      "source": [
        "product2[7][0]"
      ],
      "execution_count": null,
      "outputs": [
        {
          "data": {
            "text/plain": [
              "56"
            ]
          },
          "execution_count": 55,
          "metadata": {},
          "output_type": "execute_result"
        }
      ]
    },
    {
      "cell_type": "code",
      "metadata": {
        "id": "yQXYtJkKbHHk"
      },
      "source": [
        "product3 = [ [i*j  if i*j >=50 else 0 for j in range(10) ] for i in range(10) ]"
      ],
      "execution_count": null,
      "outputs": []
    },
    {
      "cell_type": "code",
      "metadata": {
        "id": "enZXM2cAbHHl",
        "outputId": "21a81d2f-6885-4243-de70-5dea29cd3de9"
      },
      "source": [
        "product3"
      ],
      "execution_count": null,
      "outputs": [
        {
          "data": {
            "text/plain": [
              "[[0, 0, 0, 0, 0, 0, 0, 0, 0, 0],\n",
              " [0, 0, 0, 0, 0, 0, 0, 0, 0, 0],\n",
              " [0, 0, 0, 0, 0, 0, 0, 0, 0, 0],\n",
              " [0, 0, 0, 0, 0, 0, 0, 0, 0, 0],\n",
              " [0, 0, 0, 0, 0, 0, 0, 0, 0, 0],\n",
              " [0, 0, 0, 0, 0, 0, 0, 0, 0, 0],\n",
              " [0, 0, 0, 0, 0, 0, 0, 0, 0, 54],\n",
              " [0, 0, 0, 0, 0, 0, 0, 0, 56, 63],\n",
              " [0, 0, 0, 0, 0, 0, 0, 56, 64, 72],\n",
              " [0, 0, 0, 0, 0, 0, 54, 63, 72, 81]]"
            ]
          },
          "execution_count": 57,
          "metadata": {},
          "output_type": "execute_result"
        }
      ]
    },
    {
      "cell_type": "code",
      "metadata": {
        "id": "4Mv-lNqpbHHl",
        "outputId": "bcd6e260-65ed-4f85-c745-046bdca9b1d9"
      },
      "source": [
        "print(type(product3))\n",
        "print(len(product3))"
      ],
      "execution_count": null,
      "outputs": [
        {
          "name": "stdout",
          "output_type": "stream",
          "text": [
            "<class 'list'>\n",
            "10\n"
          ]
        }
      ]
    },
    {
      "cell_type": "code",
      "metadata": {
        "id": "xWKXKWrVbHHl",
        "outputId": "31b621e1-7519-4632-ebe1-949854f9dc0e"
      },
      "source": [
        "product3[8]"
      ],
      "execution_count": null,
      "outputs": [
        {
          "data": {
            "text/plain": [
              "[0, 0, 0, 0, 0, 0, 0, 56, 64, 72]"
            ]
          },
          "execution_count": 59,
          "metadata": {},
          "output_type": "execute_result"
        }
      ]
    },
    {
      "cell_type": "code",
      "metadata": {
        "id": "8i6CXrWnbHHl",
        "outputId": "16e89a86-f727-4c85-b5c9-5b924afa7be1"
      },
      "source": [
        "product3[8][9]"
      ],
      "execution_count": null,
      "outputs": [
        {
          "data": {
            "text/plain": [
              "72"
            ]
          },
          "execution_count": 60,
          "metadata": {},
          "output_type": "execute_result"
        }
      ]
    },
    {
      "cell_type": "code",
      "metadata": {
        "id": "Z18YEx_kbHHm"
      },
      "source": [
        "product3."
      ],
      "execution_count": null,
      "outputs": []
    }
  ]
}
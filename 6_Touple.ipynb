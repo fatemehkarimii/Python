{
  "nbformat": 4,
  "nbformat_minor": 0,
  "metadata": {
    "kernelspec": {
      "display_name": "Python 3",
      "language": "python",
      "name": "python3"
    },
    "language_info": {
      "codemirror_mode": {
        "name": "ipython",
        "version": 3
      },
      "file_extension": ".py",
      "mimetype": "text/x-python",
      "name": "python",
      "nbconvert_exporter": "python",
      "pygments_lexer": "ipython3",
      "version": "3.8.8"
    },
    "colab": {
      "name": "6_Touple.ipynb",
      "provenance": [],
      "include_colab_link": true
    }
  },
  "cells": [
    {
      "cell_type": "markdown",
      "metadata": {
        "id": "view-in-github",
        "colab_type": "text"
      },
      "source": [
        "<a href=\"https://colab.research.google.com/github/fatemehkarimii/Python-Tutorial/blob/main/6_Touple.ipynb\" target=\"_parent\"><img src=\"https://colab.research.google.com/assets/colab-badge.svg\" alt=\"Open In Colab\"/></a>"
      ]
    },
    {
      "cell_type": "markdown",
      "metadata": {
        "id": "1Q4ynljK-4ny"
      },
      "source": [
        "# tuple"
      ]
    },
    {
      "cell_type": "code",
      "metadata": {
        "colab": {
          "base_uri": "https://localhost:8080/"
        },
        "id": "SHRHH1Zv-4oF",
        "outputId": "6674bb67-371a-4ab6-bf0c-572b88ed3f0d"
      },
      "source": [
        "T1 = (4, 2, 5, 8, 4)\n",
        "\n",
        "print(T1)\n",
        "print(type(T1))\n",
        "print(\"len:\", len(T1))"
      ],
      "execution_count": null,
      "outputs": [
        {
          "output_type": "stream",
          "name": "stdout",
          "text": [
            "(4, 2, 5, 8, 4)\n",
            "<class 'tuple'>\n",
            "len: 5\n"
          ]
        }
      ]
    },
    {
      "cell_type": "code",
      "metadata": {
        "colab": {
          "base_uri": "https://localhost:8080/"
        },
        "id": "JNuXHzx--4oM",
        "outputId": "b74138db-c9d0-4881-e00b-3e9786f02dcb"
      },
      "source": [
        "T = (2)\n",
        "type(T)"
      ],
      "execution_count": null,
      "outputs": [
        {
          "output_type": "execute_result",
          "data": {
            "text/plain": [
              "int"
            ]
          },
          "metadata": {},
          "execution_count": 1
        }
      ]
    },
    {
      "cell_type": "code",
      "metadata": {
        "colab": {
          "base_uri": "https://localhost:8080/"
        },
        "id": "cyVOmaNM-4oO",
        "outputId": "6a02a9d8-d66f-4f5b-e7b6-39cbda6c9f4e"
      },
      "source": [
        "T = (2,)\n",
        "type(T)"
      ],
      "execution_count": null,
      "outputs": [
        {
          "output_type": "execute_result",
          "data": {
            "text/plain": [
              "tuple"
            ]
          },
          "metadata": {},
          "execution_count": 2
        }
      ]
    },
    {
      "cell_type": "code",
      "metadata": {
        "colab": {
          "base_uri": "https://localhost:8080/"
        },
        "id": "R5J_AxOr-4oQ",
        "outputId": "b375f2d9-217a-446b-d9aa-c5663f58e261"
      },
      "source": [
        "T1.count(4)"
      ],
      "execution_count": null,
      "outputs": [
        {
          "output_type": "execute_result",
          "data": {
            "text/plain": [
              "2"
            ]
          },
          "metadata": {},
          "execution_count": 5
        }
      ]
    },
    {
      "cell_type": "code",
      "metadata": {
        "id": "mgAEf1H8-4oS"
      },
      "source": [
        "T1.count(2)"
      ],
      "execution_count": null,
      "outputs": []
    },
    {
      "cell_type": "code",
      "metadata": {
        "id": "mm9LWP8A-4oV"
      },
      "source": [
        "T1.index(4) "
      ],
      "execution_count": null,
      "outputs": []
    },
    {
      "cell_type": "code",
      "metadata": {
        "id": "Cqmjvne3-4oY"
      },
      "source": [
        "T1.index(5)"
      ],
      "execution_count": null,
      "outputs": []
    },
    {
      "cell_type": "code",
      "metadata": {
        "id": "b6mbu_RF-4ob"
      },
      "source": [
        "T1[0]"
      ],
      "execution_count": null,
      "outputs": []
    },
    {
      "cell_type": "code",
      "metadata": {
        "id": "J0hPa4pL-4of"
      },
      "source": [
        "T1[0] = 5"
      ],
      "execution_count": null,
      "outputs": []
    },
    {
      "cell_type": "code",
      "metadata": {
        "id": "3aRgeO_u-4oh"
      },
      "source": [
        "print(f\"min : {min(T1)}\")\n",
        "print(f\"max : {max(T1)}\")\n",
        "print(f\"sum : {sum(T1)}\")\n",
        "print(f\"sorted : {sorted(T1)}\")"
      ],
      "execution_count": null,
      "outputs": []
    },
    {
      "cell_type": "code",
      "metadata": {
        "id": "3c5mGXrg-4oj"
      },
      "source": [
        "T2 = tuple([1, 2])\n",
        "\n",
        "print(T2)\n",
        "print(type(T2))\n",
        "print(f\"len: {len(T2)}\")"
      ],
      "execution_count": null,
      "outputs": []
    },
    {
      "cell_type": "code",
      "metadata": {
        "id": "-oz2nEkC-4ol"
      },
      "source": [
        "2 in T2"
      ],
      "execution_count": null,
      "outputs": []
    },
    {
      "cell_type": "code",
      "metadata": {
        "id": "wSaSPab2-4on"
      },
      "source": [
        "T2 = tuple(['s', 'k', 2, 6, 'f'])\n",
        "T2"
      ],
      "execution_count": null,
      "outputs": []
    },
    {
      "cell_type": "code",
      "metadata": {
        "colab": {
          "base_uri": "https://localhost:8080/"
        },
        "id": "3J6ieKn1-4op",
        "outputId": "b77a744e-4591-46ff-8659-f71a01f2f5b5"
      },
      "source": [
        "T3 = (12, 8, 'a', 's', 5, \"Hi\", \"Python\", [2, 4, 6], {5, 3, 8}, (9, 'h', 6))\n",
        "\n",
        "print(len(T3))\n",
        "print(T3)"
      ],
      "execution_count": null,
      "outputs": [
        {
          "output_type": "stream",
          "name": "stdout",
          "text": [
            "10\n",
            "(12, 8, 'a', 's', 5, 'Hi', 'Python', [2, 4, 6], {8, 3, 5}, (9, 'h', 6))\n"
          ]
        }
      ]
    },
    {
      "cell_type": "code",
      "metadata": {
        "id": "0hXGQczJ-4oq"
      },
      "source": [
        "for i in T3:\n",
        "    print(i)"
      ],
      "execution_count": null,
      "outputs": []
    },
    {
      "cell_type": "code",
      "metadata": {
        "id": "QXlhWMNX-4os"
      },
      "source": [
        "for i in range(len(T3)):\n",
        "    print(T3[i])"
      ],
      "execution_count": null,
      "outputs": []
    },
    {
      "cell_type": "code",
      "metadata": {
        "id": "pIMWqP8n-4ot"
      },
      "source": [
        "T3[7]"
      ],
      "execution_count": null,
      "outputs": []
    },
    {
      "cell_type": "code",
      "metadata": {
        "id": "PvaCgTBE-4ou"
      },
      "source": [
        "T3[7][1]"
      ],
      "execution_count": null,
      "outputs": []
    },
    {
      "cell_type": "code",
      "metadata": {
        "colab": {
          "base_uri": "https://localhost:8080/"
        },
        "id": "BQg5DUWN-4ov",
        "outputId": "56d9dd0e-e8f1-4fe2-89c8-8cc9ae2013ff"
      },
      "source": [
        "T3[5:8]"
      ],
      "execution_count": null,
      "outputs": [
        {
          "output_type": "execute_result",
          "data": {
            "text/plain": [
              "('Hi', 'Python', [2, 4, 6])"
            ]
          },
          "metadata": {},
          "execution_count": 7
        }
      ]
    },
    {
      "cell_type": "code",
      "metadata": {
        "id": "g1TIb2yp-4ow"
      },
      "source": [
        "T3[-1]"
      ],
      "execution_count": null,
      "outputs": []
    },
    {
      "cell_type": "code",
      "metadata": {
        "id": "aLAbGpfD-4ox"
      },
      "source": [
        "T3[-2]"
      ],
      "execution_count": null,
      "outputs": []
    },
    {
      "cell_type": "code",
      "metadata": {
        "id": "WHtlyo-l-4ox"
      },
      "source": [
        "del T3"
      ],
      "execution_count": null,
      "outputs": []
    },
    {
      "cell_type": "code",
      "metadata": {
        "id": "0AvXXGsI-4o0"
      },
      "source": [
        "T4 = (2, 'h', [2,4, 6], \"Hi\")\n",
        "T5 = ('New3',)\n",
        "T4 += T5\n",
        "T4"
      ],
      "execution_count": null,
      "outputs": []
    },
    {
      "cell_type": "code",
      "metadata": {
        "id": "2nxOTixx-4o0"
      },
      "source": [
        "import math\n",
        "\n",
        "T6 = (2, 4, 6, 8, 10)\n",
        "\n",
        "for i in  T6:\n",
        "    print(math.factorial(i))"
      ],
      "execution_count": null,
      "outputs": []
    }
  ]
}
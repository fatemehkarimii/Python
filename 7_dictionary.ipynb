{
  "nbformat": 4,
  "nbformat_minor": 0,
  "metadata": {
    "kernelspec": {
      "display_name": "Python 3",
      "language": "python",
      "name": "python3"
    },
    "language_info": {
      "codemirror_mode": {
        "name": "ipython",
        "version": 3
      },
      "file_extension": ".py",
      "mimetype": "text/x-python",
      "name": "python",
      "nbconvert_exporter": "python",
      "pygments_lexer": "ipython3",
      "version": "3.8.8"
    },
    "colab": {
      "name": "7_dictionary.ipynb",
      "provenance": [],
      "include_colab_link": true
    }
  },
  "cells": [
    {
      "cell_type": "markdown",
      "metadata": {
        "id": "view-in-github",
        "colab_type": "text"
      },
      "source": [
        "<a href=\"https://colab.research.google.com/github/fatemehkarimii/Python-Tutorial/blob/main/7_dictionary.ipynb\" target=\"_parent\"><img src=\"https://colab.research.google.com/assets/colab-badge.svg\" alt=\"Open In Colab\"/></a>"
      ]
    },
    {
      "cell_type": "markdown",
      "metadata": {
        "id": "YRdJ-FOUBE6t"
      },
      "source": [
        "# Dictionary"
      ]
    },
    {
      "cell_type": "code",
      "metadata": {
        "id": "9NN3tB1jBE62",
        "outputId": "b635aad7-b977-4555-b824-6c9c1c539898",
        "colab": {
          "base_uri": "https://localhost:8080/"
        }
      },
      "source": [
        "D1 = {\n",
        "    \"name\" : \"Ali\",\n",
        "    \"family\" : \"Nazarizadeh\",\n",
        "    \"age\" : 25,\n",
        "    \"city\" : \"Kermanshah\"\n",
        "     }\n",
        "\n",
        "# List = [\"Ali\", \"Nazarizadeh\", 25, \"Kermanshah\"]\n",
        "\n",
        "print(D1)\n",
        "print(\"len:\", len(D1))\n",
        "print(type(D1))"
      ],
      "execution_count": 1,
      "outputs": [
        {
          "output_type": "stream",
          "name": "stdout",
          "text": [
            "{'name': 'Ali', 'family': 'Nazarizadeh', 'age': 25, 'city': 'Kermanshah'}\n",
            "len: 4\n",
            "<class 'dict'>\n"
          ]
        }
      ]
    },
    {
      "cell_type": "code",
      "metadata": {
        "id": "9SSM95k6BE65",
        "outputId": "7d6d6748-fb75-4819-d4db-551545aa9998"
      },
      "source": [
        "name = [\"Rasoul\", \"Ali\", \"Javad\"]\n",
        "number = [16, 17, 14]\n",
        "\n",
        "D2 = {\n",
        "    \"name\": name,\n",
        "    \"number\" : number\n",
        "}\n",
        "\n",
        "print(D2)\n",
        "print(\"len:\", len(D2))\n",
        "print(type(D2))"
      ],
      "execution_count": null,
      "outputs": [
        {
          "name": "stdout",
          "output_type": "stream",
          "text": [
            "{'name': ['Rasoul', 'Ali', 'Javad'], 'number': [16, 17, 14]}\n",
            "len: 2\n",
            "<class 'dict'>\n"
          ]
        }
      ]
    },
    {
      "cell_type": "code",
      "metadata": {
        "id": "1lFz3LZXBE67",
        "outputId": "38015249-ce44-4f67-841b-538662ece2c2"
      },
      "source": [
        "even = [i for i in range(10) if i%2 == 0]\n",
        "odd = [i for i in range(10) if i%2 != 0]\n",
        "\n",
        "D2 = {\n",
        "    \"even\": even,\n",
        "    \"odd\": odd\n",
        "}\n",
        "\n",
        "print(D2)\n",
        "print(\"len:\", len(D2))\n",
        "print(type(D2))"
      ],
      "execution_count": null,
      "outputs": [
        {
          "name": "stdout",
          "output_type": "stream",
          "text": [
            "{'x1': [0, 2, 4, 6, 8], 'x2': [1, 3, 5, 7, 9]}\n",
            "len: 2\n",
            "<class 'dict'>\n"
          ]
        }
      ]
    },
    {
      "cell_type": "code",
      "metadata": {
        "id": "FY-0URDhBE67",
        "outputId": "b1690c3e-8fda-4264-a0f7-fda6d57d922e"
      },
      "source": [
        "Set = {2, 5, 8, 3}\n",
        "List = [\"Ali\", 5, [2, 8, 9], {2, 8, \"Reza\"}]\n",
        "Tuple = (\"python\", 19, 25)\n",
        "Dict = {\n",
        "    \"Course\": \n",
        "    {\n",
        "        \"Python\": [\"Ali\", \"Sina\", \"Mehran\", \"Bahar\"],\n",
        "        \"Java\": [\"Farhad\", \"Bahar\"]\n",
        "    }\n",
        "}\n",
        "\n",
        "D3 = {\n",
        "    \"Set\": Set,\n",
        "    \"List\": List,\n",
        "    \"Tuple\": Tuple,\n",
        "    \"Dict\": Dict\n",
        "}\n",
        "\n",
        "len(D3)"
      ],
      "execution_count": null,
      "outputs": [
        {
          "data": {
            "text/plain": [
              "4"
            ]
          },
          "execution_count": 4,
          "metadata": {},
          "output_type": "execute_result"
        }
      ]
    },
    {
      "cell_type": "code",
      "metadata": {
        "id": "ftub2e_CBE68",
        "outputId": "fecd8bbc-e00b-43d5-a530-50a0569fede0"
      },
      "source": [
        "D3"
      ],
      "execution_count": null,
      "outputs": [
        {
          "data": {
            "text/plain": [
              "{'Set': {2, 3, 5, 8},\n",
              " 'List': ['Ali', 5, [2, 8, 9], {2, 8, 'Reza'}],\n",
              " 'Tuple': ('python', 19, 25),\n",
              " 'Dict': {'Course': {'Python': ['Ali', 'Sina', 'Mehran', 'Bahar'],\n",
              "   'Java': ['Farhad', 'Bahar']}}}"
            ]
          },
          "execution_count": 5,
          "metadata": {},
          "output_type": "execute_result"
        }
      ]
    },
    {
      "cell_type": "code",
      "metadata": {
        "id": "SxeCpcUCBE69",
        "outputId": "84edebe0-ae00-4390-91e5-c00e8752a1db"
      },
      "source": [
        "D3 = dict(course= \"python\", teacher= \"Ali\", Id= 332, single= True, gmail= \"computer.engineer.as@gmail.com\")\n",
        "\n",
        "print(D3)\n",
        "print(\"len:\", len(D3))\n",
        "print(type(D3))"
      ],
      "execution_count": null,
      "outputs": [
        {
          "name": "stdout",
          "output_type": "stream",
          "text": [
            "{'course': 'python', 'teacher': 'Ali', 'Id': 332, 'single': True, 'gmail': 'computer.engineer.as@gmail.com'}\n",
            "len: 5\n",
            "<class 'dict'>\n"
          ]
        }
      ]
    },
    {
      "cell_type": "code",
      "metadata": {
        "id": "aTbw9OLgBE6-",
        "outputId": "c25a1f78-5edd-4f19-d11a-9ab9499ff656"
      },
      "source": [
        "Person1 = {}\n",
        "Person2 = {1}\n",
        "\n",
        "print(type(Person1))\n",
        "print(type(Person2))"
      ],
      "execution_count": null,
      "outputs": [
        {
          "name": "stdout",
          "output_type": "stream",
          "text": [
            "<class 'dict'>\n",
            "<class 'set'>\n"
          ]
        }
      ]
    },
    {
      "cell_type": "code",
      "metadata": {
        "id": "rPfymFKTBE6_",
        "outputId": "75090d5d-12d3-4065-d1f6-34e04f2d090e"
      },
      "source": [
        "Person = {}\n",
        "\n",
        "Person[\"name\"] = \"Ali\"\n",
        "Person[\"family\"] = \"Nazarizadeh\"\n",
        "Person[\"age\"] = 25\n",
        "Person[\"Course\"] = [\"Python\", \"C#\", \"Matlab\"]\n",
        "Person[\"details\"] = {\n",
        "    \"City\": \"Tehran\",\n",
        "    \"Address\": \"Iran, Tehran, ...\"\n",
        "}\n",
        "\n",
        "type(Person)"
      ],
      "execution_count": null,
      "outputs": [
        {
          "data": {
            "text/plain": [
              "dict"
            ]
          },
          "execution_count": 10,
          "metadata": {},
          "output_type": "execute_result"
        }
      ]
    },
    {
      "cell_type": "code",
      "metadata": {
        "id": "ROxRTNEmBE7A",
        "outputId": "f6d50845-2434-49cc-8f3a-9eed17062649"
      },
      "source": [
        "Person"
      ],
      "execution_count": null,
      "outputs": [
        {
          "data": {
            "text/plain": [
              "{'name': 'Ali',\n",
              " 'family': 'Nazarizadeh',\n",
              " 'age': 25,\n",
              " 'Course': ['Python', 'C#', 'Matlab'],\n",
              " 'details': {'City': 'Tehran', 'Address': 'Iran, Tehran, ...'}}"
            ]
          },
          "execution_count": 11,
          "metadata": {},
          "output_type": "execute_result"
        }
      ]
    },
    {
      "cell_type": "code",
      "metadata": {
        "id": "25UonSUNBE7B",
        "outputId": "8a64dc79-ef9e-4262-cd16-a7a24d757c64"
      },
      "source": [
        "D3"
      ],
      "execution_count": null,
      "outputs": [
        {
          "data": {
            "text/plain": [
              "{'course': 'python',\n",
              " 'teacher': 'Ali',\n",
              " 'Id': 332,\n",
              " 'single': True,\n",
              " 'gmail': 'computer.engineer.as@gmail.com'}"
            ]
          },
          "execution_count": 12,
          "metadata": {},
          "output_type": "execute_result"
        }
      ]
    },
    {
      "cell_type": "code",
      "metadata": {
        "id": "SDDse0OcBE7B",
        "outputId": "3ce2951c-3436-451c-ffe2-20fc052c604b"
      },
      "source": [
        "for key in D3.keys():\n",
        "    print(key)"
      ],
      "execution_count": null,
      "outputs": [
        {
          "name": "stdout",
          "output_type": "stream",
          "text": [
            "course\n",
            "teacher\n",
            "Id\n",
            "single\n",
            "gmail\n"
          ]
        }
      ]
    },
    {
      "cell_type": "code",
      "metadata": {
        "id": "5nQgTalGBE7C",
        "outputId": "5ff6eff9-5394-4c24-d472-1c2a3e7f75f2"
      },
      "source": [
        "D3.keys()"
      ],
      "execution_count": null,
      "outputs": [
        {
          "data": {
            "text/plain": [
              "dict_keys(['course', 'teacher', 'Id', 'single', 'gmail'])"
            ]
          },
          "execution_count": 14,
          "metadata": {},
          "output_type": "execute_result"
        }
      ]
    },
    {
      "cell_type": "code",
      "metadata": {
        "id": "aQv96bJABE7C",
        "outputId": "72544158-29af-46d3-ccf9-0b46abbcbc1a"
      },
      "source": [
        "for value in D3.values():\n",
        "    print(value)"
      ],
      "execution_count": null,
      "outputs": [
        {
          "name": "stdout",
          "output_type": "stream",
          "text": [
            "python\n",
            "Ali\n",
            "332\n",
            "True\n",
            "computer.engineer.as@gmail.com\n"
          ]
        }
      ]
    },
    {
      "cell_type": "code",
      "metadata": {
        "id": "Qg9GBJKJBE7C",
        "outputId": "3514a25d-6565-4675-b80c-4befcc0931dc"
      },
      "source": [
        "D3.values()"
      ],
      "execution_count": null,
      "outputs": [
        {
          "data": {
            "text/plain": [
              "dict_values(['python', 'Ali', 332, True, 'computer.engineer.as@gmail.com'])"
            ]
          },
          "execution_count": 16,
          "metadata": {},
          "output_type": "execute_result"
        }
      ]
    },
    {
      "cell_type": "code",
      "metadata": {
        "id": "BRSvxLxuBE7D",
        "outputId": "981ce021-7302-4845-b5e3-5ae40e3371e4"
      },
      "source": [
        "for key, value in D3.items(): \n",
        "    print(key ,\":\", value)"
      ],
      "execution_count": null,
      "outputs": [
        {
          "name": "stdout",
          "output_type": "stream",
          "text": [
            "course : python\n",
            "teacher : Ali\n",
            "Id : 332\n",
            "single : True\n",
            "gmail : computer.engineer.as@gmail.com\n"
          ]
        }
      ]
    },
    {
      "cell_type": "code",
      "metadata": {
        "id": "JydrCXkIBE7D"
      },
      "source": [
        "x = []\n",
        "y = []\n",
        "\n",
        "for key, value in D3.items(): \n",
        "    x.append(key)\n",
        "    y.append(value)"
      ],
      "execution_count": null,
      "outputs": []
    },
    {
      "cell_type": "code",
      "metadata": {
        "id": "t3w1EemXBE7D",
        "outputId": "804ac59d-00bc-48fa-dde4-b77d366237c5"
      },
      "source": [
        "print(x)\n",
        "print(y)"
      ],
      "execution_count": null,
      "outputs": [
        {
          "name": "stdout",
          "output_type": "stream",
          "text": [
            "['course', 'teacher', 'Id', 'single', 'gmail']\n",
            "['python', 'Ali', 332, True, 'computer.engineer.as@gmail.com']\n"
          ]
        }
      ]
    },
    {
      "cell_type": "code",
      "metadata": {
        "id": "b0XJUQVeBE7E",
        "outputId": "50bb27e9-4e06-4d2d-97a3-5d8313f53f07"
      },
      "source": [
        "D3.items()"
      ],
      "execution_count": null,
      "outputs": [
        {
          "data": {
            "text/plain": [
              "dict_items([('course', 'python'), ('teacher', 'Ali'), ('Id', 332), ('single', True), ('gmail', 'computer.engineer.as@gmail.com')])"
            ]
          },
          "execution_count": 20,
          "metadata": {},
          "output_type": "execute_result"
        }
      ]
    },
    {
      "cell_type": "code",
      "metadata": {
        "id": "Z_rBA2YkBE7E",
        "outputId": "1f51ed5e-e5e0-4e9e-cf03-60c63a7ca411"
      },
      "source": [
        "D4 = D3\n",
        "D5 = D3.copy()\n",
        "\n",
        "print(type(D4))\n",
        "print(type(D5))"
      ],
      "execution_count": null,
      "outputs": [
        {
          "name": "stdout",
          "output_type": "stream",
          "text": [
            "<class 'dict'>\n",
            "<class 'dict'>\n"
          ]
        }
      ]
    },
    {
      "cell_type": "code",
      "metadata": {
        "id": "cd0aSSjUBE7E",
        "outputId": "3dca257c-0f6c-4254-a007-97cd2848ea7f"
      },
      "source": [
        "D3.clear()\n",
        "\n",
        "print(\"D3: \", D3)\n",
        "print(\"D5: \", D5)"
      ],
      "execution_count": null,
      "outputs": [
        {
          "name": "stdout",
          "output_type": "stream",
          "text": [
            "D3:  {}\n",
            "D5:  {'course': 'python', 'teacher': 'Ali', 'Id': 332, 'single': True, 'gmail': 'computer.engineer.as@gmail.com'}\n"
          ]
        }
      ]
    },
    {
      "cell_type": "code",
      "metadata": {
        "id": "qnuqNMRXBE7F"
      },
      "source": [
        "del D3"
      ],
      "execution_count": null,
      "outputs": []
    },
    {
      "cell_type": "code",
      "metadata": {
        "id": "Tu9u4E8tBE7F",
        "outputId": "87ba960d-3908-453b-c829-813e35048a93"
      },
      "source": [
        "D5"
      ],
      "execution_count": null,
      "outputs": [
        {
          "data": {
            "text/plain": [
              "{'course': 'python',\n",
              " 'teacher': 'Ali',\n",
              " 'Id': 332,\n",
              " 'single': True,\n",
              " 'gmail': 'computer.engineer.as@gmail.com'}"
            ]
          },
          "execution_count": 25,
          "metadata": {},
          "output_type": "execute_result"
        }
      ]
    },
    {
      "cell_type": "code",
      "metadata": {
        "id": "zJc-OYovBE7G",
        "outputId": "9edc6414-8c0a-48d2-c5c8-cb86642b9a51"
      },
      "source": [
        "D5.get('teacher')"
      ],
      "execution_count": null,
      "outputs": [
        {
          "data": {
            "text/plain": [
              "'Ali'"
            ]
          },
          "execution_count": 6,
          "metadata": {},
          "output_type": "execute_result"
        }
      ]
    },
    {
      "cell_type": "code",
      "metadata": {
        "id": "4W5PmUIcBE7G",
        "outputId": "e3104a57-8afd-4f15-ae37-28e21da73da0"
      },
      "source": [
        "D5['teacher']"
      ],
      "execution_count": null,
      "outputs": [
        {
          "data": {
            "text/plain": [
              "'Ali'"
            ]
          },
          "execution_count": 4,
          "metadata": {},
          "output_type": "execute_result"
        }
      ]
    },
    {
      "cell_type": "code",
      "metadata": {
        "id": "9FarSRDiBE7G",
        "outputId": "25f13e21-ff6b-47a1-aeb2-48f96ae6971d"
      },
      "source": [
        "D5.pop('course')\n",
        "D5"
      ],
      "execution_count": null,
      "outputs": [
        {
          "data": {
            "text/plain": [
              "{'teacher': 'Ali',\n",
              " 'Id': 332,\n",
              " 'single': True,\n",
              " 'gmail': 'computer.engineer.as@gmail.com'}"
            ]
          },
          "execution_count": 28,
          "metadata": {},
          "output_type": "execute_result"
        }
      ]
    },
    {
      "cell_type": "code",
      "metadata": {
        "id": "UEwrKK8dBE7G",
        "outputId": "51673c4a-37e0-462e-b26c-9066ab1a61e4"
      },
      "source": [
        "D5.popitem()\n",
        "D5"
      ],
      "execution_count": null,
      "outputs": [
        {
          "data": {
            "text/plain": [
              "{'teacher': 'Ali', 'Id': 332, 'single': True}"
            ]
          },
          "execution_count": 29,
          "metadata": {},
          "output_type": "execute_result"
        }
      ]
    },
    {
      "cell_type": "code",
      "metadata": {
        "id": "fkDj7oN9BE7G",
        "outputId": "7d75fec5-3558-464d-aeb7-404061815e33"
      },
      "source": [
        "'teacher' in D5"
      ],
      "execution_count": null,
      "outputs": [
        {
          "data": {
            "text/plain": [
              "True"
            ]
          },
          "execution_count": 30,
          "metadata": {},
          "output_type": "execute_result"
        }
      ]
    },
    {
      "cell_type": "code",
      "metadata": {
        "id": "g72mjxL6BE7H",
        "outputId": "9eb17b3e-321a-4f9c-b040-18af0ca050fa"
      },
      "source": [
        "'teacher' in D5.keys()"
      ],
      "execution_count": null,
      "outputs": [
        {
          "data": {
            "text/plain": [
              "True"
            ]
          },
          "execution_count": 31,
          "metadata": {},
          "output_type": "execute_result"
        }
      ]
    },
    {
      "cell_type": "code",
      "metadata": {
        "id": "_nkkejStBE7H",
        "outputId": "45860604-ab86-4edc-d87b-f92b45d5633e"
      },
      "source": [
        "'Ali' in D5"
      ],
      "execution_count": null,
      "outputs": [
        {
          "data": {
            "text/plain": [
              "False"
            ]
          },
          "execution_count": 32,
          "metadata": {},
          "output_type": "execute_result"
        }
      ]
    },
    {
      "cell_type": "code",
      "metadata": {
        "id": "W9kRPkfaBE7H",
        "outputId": "e7d5d030-752d-43bd-bf0e-5e555d23f943"
      },
      "source": [
        "'Ali' in D5.values()"
      ],
      "execution_count": null,
      "outputs": [
        {
          "data": {
            "text/plain": [
              "True"
            ]
          },
          "execution_count": 33,
          "metadata": {},
          "output_type": "execute_result"
        }
      ]
    },
    {
      "cell_type": "code",
      "metadata": {
        "id": "5y8a3fzEBE7H",
        "outputId": "bf83a8bf-b174-48df-9306-aef912527ee6"
      },
      "source": [
        "D5"
      ],
      "execution_count": null,
      "outputs": [
        {
          "data": {
            "text/plain": [
              "{'teacher': 'Ali', 'Id': 332, 'single': True}"
            ]
          },
          "execution_count": 34,
          "metadata": {},
          "output_type": "execute_result"
        }
      ]
    },
    {
      "cell_type": "code",
      "metadata": {
        "id": "I27YtoiwBE7H",
        "outputId": "1d8c30ad-065b-4ee7-935a-6d4e697783f9"
      },
      "source": [
        "D1"
      ],
      "execution_count": null,
      "outputs": [
        {
          "data": {
            "text/plain": [
              "{'name': 'Ali', 'family': 'Nazarizadeh', 'age': 25, 'city': 'Kermanshah'}"
            ]
          },
          "execution_count": 35,
          "metadata": {},
          "output_type": "execute_result"
        }
      ]
    },
    {
      "cell_type": "code",
      "metadata": {
        "id": "inKDcs5gBE7H",
        "outputId": "513a30c7-a251-4c94-d667-12451426aafb"
      },
      "source": [
        "D6 = {}\n",
        "\n",
        "D6.update(D1)\n",
        "D6"
      ],
      "execution_count": null,
      "outputs": [
        {
          "data": {
            "text/plain": [
              "{'name': 'Ali', 'family': 'Nazarizadeh', 'age': 25, 'city': 'Kermanshah'}"
            ]
          },
          "execution_count": 36,
          "metadata": {},
          "output_type": "execute_result"
        }
      ]
    },
    {
      "cell_type": "code",
      "metadata": {
        "id": "fGT8Ae5tBE7I",
        "outputId": "ca486320-cd7c-4a20-80e0-eae9dfdc2d25"
      },
      "source": [
        "D6.clear()\n",
        "D6"
      ],
      "execution_count": null,
      "outputs": [
        {
          "data": {
            "text/plain": [
              "{}"
            ]
          },
          "execution_count": 37,
          "metadata": {},
          "output_type": "execute_result"
        }
      ]
    },
    {
      "cell_type": "code",
      "metadata": {
        "id": "hyYFoekIBE7I",
        "outputId": "ecc8c3a4-2804-441c-d0da-939183e8cb28"
      },
      "source": [
        "D6 = {\n",
        "    \"gmail\": \"computer.engineer.as@gmail.com\"\n",
        "}\n",
        "\n",
        "D6.update(D1)\n",
        "D6"
      ],
      "execution_count": null,
      "outputs": [
        {
          "data": {
            "text/plain": [
              "{'gmail': 'computer.engineer.as@gmail.com',\n",
              " 'name': 'Ali',\n",
              " 'family': 'Nazarizadeh',\n",
              " 'age': 25,\n",
              " 'city': 'Kermanshah'}"
            ]
          },
          "execution_count": 38,
          "metadata": {},
          "output_type": "execute_result"
        }
      ]
    },
    {
      "cell_type": "code",
      "metadata": {
        "id": "kUiF3YMeBE7I",
        "outputId": "a60dec97-0aa5-4ac9-ad6e-1af02b4ca235"
      },
      "source": [
        "D6.clear()\n",
        "D6"
      ],
      "execution_count": null,
      "outputs": [
        {
          "data": {
            "text/plain": [
              "{}"
            ]
          },
          "execution_count": 39,
          "metadata": {},
          "output_type": "execute_result"
        }
      ]
    },
    {
      "cell_type": "code",
      "metadata": {
        "id": "EQ0S4KWTBE7I",
        "outputId": "9a8e53d6-136c-4ad5-dd02-c37407ec86e2"
      },
      "source": [
        "D6 = {\n",
        "    'gmail': \"computer.engineer.as@gmail.com\",\n",
        "    'name': \"Rasoul\",\n",
        "    'age': 26\n",
        "}\n",
        "\n",
        "D6.update(D1)\n",
        "D6"
      ],
      "execution_count": null,
      "outputs": [
        {
          "data": {
            "text/plain": [
              "{'gmail': 'computer.engineer.as@gmail.com',\n",
              " 'name': 'Ali',\n",
              " 'age': 25,\n",
              " 'family': 'Nazarizadeh',\n",
              " 'city': 'Kermanshah'}"
            ]
          },
          "execution_count": 40,
          "metadata": {},
          "output_type": "execute_result"
        }
      ]
    },
    {
      "cell_type": "code",
      "metadata": {
        "id": "QPKFwv-ABE7J",
        "outputId": "47833d27-010f-4ed2-ccc6-990bb174cb67"
      },
      "source": [
        "D7 = {i: (\"even\" if i % 2 == 0 else \"odd\") for i in range(10)}\n",
        "D7"
      ],
      "execution_count": null,
      "outputs": [
        {
          "data": {
            "text/plain": [
              "{0: 'even',\n",
              " 1: 'odd',\n",
              " 2: 'even',\n",
              " 3: 'odd',\n",
              " 4: 'even',\n",
              " 5: 'odd',\n",
              " 6: 'even',\n",
              " 7: 'odd',\n",
              " 8: 'even',\n",
              " 9: 'odd'}"
            ]
          },
          "execution_count": 41,
          "metadata": {},
          "output_type": "execute_result"
        }
      ]
    },
    {
      "cell_type": "code",
      "metadata": {
        "id": "K4dGXomgBE7J",
        "outputId": "bc97fc5c-db4c-4438-b1cf-ecba1765998d"
      },
      "source": [
        "D7 = {\n",
        "    \"id\": 332,\n",
        "    \"age\": 25,\n",
        "    \"number\": 123\n",
        "}\n",
        "\n",
        "D8 = {key: value*2 for key, value in D7.items()}\n",
        "D8"
      ],
      "execution_count": null,
      "outputs": [
        {
          "data": {
            "text/plain": [
              "{'id': 664, 'age': 50, 'number': 246}"
            ]
          },
          "execution_count": 42,
          "metadata": {},
          "output_type": "execute_result"
        }
      ]
    },
    {
      "cell_type": "code",
      "metadata": {
        "id": "PceMTWHBBE7J"
      },
      "source": [
        "Python = {\n",
        "    \"Teacher\":\n",
        "    {\n",
        "        \"Name\": \"Ali\",\n",
        "        \"Family\": \"Nazarizadeh\",\n",
        "        \"Age\": 25,\n",
        "        \"Gmail\": \"computer.engineer.as@gmail.com\"\n",
        "    },\n",
        "    \n",
        "    \"chapter\":\n",
        "    {\n",
        "        \"chapter1\": \"معرفی زبان پایتون و محیط های برنامه نویسی\", \n",
        "        \"chapter2\": \"عملگرها، رشته ها و ریاضیات\",\n",
        "        \"chapter3\": \"حلقه ها و دستورات شرطی\" ,\n",
        "        \"chapter4\": \"set - مجموعه ها\",\n",
        "        \"chapter5\": \"list - لیست ها\",\n",
        "        \"chapter6\": \"tuple - تاپل ها\",\n",
        "        \"chapter7\": \"dictionary - دیکشتری ها\",\n",
        "    },\n",
        "    \n",
        "    \"Students\":\n",
        "    {\n",
        "        \"name\": [\"Reza\", \"Afarin\", \"Mehrnoush\", \"Sina\"],\n",
        "        \"number\": [18, 20, 19, 19]\n",
        "    },\n",
        "    \n",
        "    \"Score\": 20\n",
        "}"
      ],
      "execution_count": null,
      "outputs": []
    },
    {
      "cell_type": "code",
      "metadata": {
        "id": "IFQ9lpH9BE7J",
        "outputId": "0a3830cf-f778-48ac-fcc4-4d1c3cc3d544"
      },
      "source": [
        "len(Python)"
      ],
      "execution_count": null,
      "outputs": [
        {
          "data": {
            "text/plain": [
              "4"
            ]
          },
          "execution_count": 45,
          "metadata": {},
          "output_type": "execute_result"
        }
      ]
    },
    {
      "cell_type": "code",
      "metadata": {
        "id": "KphgBsIqBE7K",
        "outputId": "26c6c9c3-0327-4559-eb54-65bf8cc780ec"
      },
      "source": [
        "Python.keys()"
      ],
      "execution_count": null,
      "outputs": [
        {
          "data": {
            "text/plain": [
              "dict_keys(['Teacher', 'chapter', 'Students', 'Score'])"
            ]
          },
          "execution_count": 46,
          "metadata": {},
          "output_type": "execute_result"
        }
      ]
    },
    {
      "cell_type": "code",
      "metadata": {
        "id": "N2KsI_bDBE7K",
        "outputId": "97b3d553-fea2-472f-8b12-4179bfaf8745"
      },
      "source": [
        "for value in Python.values():\n",
        "    print(value)"
      ],
      "execution_count": null,
      "outputs": [
        {
          "name": "stdout",
          "output_type": "stream",
          "text": [
            "{'Name': 'Ali', 'Family': 'Nazarizadeh', 'Age': 25, 'Gmail': 'computer.engineer.as@gmail.com'}\n",
            "{'chapter1': 'معرفی زبان پایتون و محیط های برنامه نویسی', 'chapter2': 'عملگرها، رشته ها و ریاضیات', 'chapter3': 'حلقه ها و دستورات شرطی', 'chapter4': 'set - مجموعه ها', 'chapter5': 'list - لیست ها', 'chapter6': 'tuple - تاپل ها', 'chapter7': 'dictionary - دیکشتری ها'}\n",
            "{'name': ['Reza', 'Afarin', 'Mehrnoush', 'Sina'], 'number': [18, 20, 19, 19]}\n",
            "20\n"
          ]
        }
      ]
    },
    {
      "cell_type": "code",
      "metadata": {
        "id": "Xo5oC8pBBE7K",
        "outputId": "3b2bb2fe-bd44-431f-9b97-d2efec5c27ed"
      },
      "source": [
        "Python[\"Teacher\"]"
      ],
      "execution_count": null,
      "outputs": [
        {
          "data": {
            "text/plain": [
              "{'Name': 'Ali',\n",
              " 'Family': 'Nazarizadeh',\n",
              " 'Age': 25,\n",
              " 'Gmail': 'computer.engineer.as@gmail.com'}"
            ]
          },
          "execution_count": 48,
          "metadata": {},
          "output_type": "execute_result"
        }
      ]
    },
    {
      "cell_type": "code",
      "metadata": {
        "id": "VBChWlwTBE7K",
        "outputId": "281ca4bb-6204-4e2f-8d12-c2547dbd4f97"
      },
      "source": [
        "Python[\"Teacher\"][\"Gmail\"]"
      ],
      "execution_count": null,
      "outputs": [
        {
          "data": {
            "text/plain": [
              "'computer.engineer.as@gmail.com'"
            ]
          },
          "execution_count": 49,
          "metadata": {},
          "output_type": "execute_result"
        }
      ]
    },
    {
      "cell_type": "code",
      "metadata": {
        "id": "9hjkfmGYBE7K",
        "outputId": "5551247c-54c9-4d4f-9730-708aacf370f2"
      },
      "source": [
        "Python[\"Students\"]"
      ],
      "execution_count": null,
      "outputs": [
        {
          "data": {
            "text/plain": [
              "{'name': ['Reza', 'Afarin', 'Mehrnoush', 'Sina'], 'number': [18, 20, 19, 19]}"
            ]
          },
          "execution_count": 50,
          "metadata": {},
          "output_type": "execute_result"
        }
      ]
    },
    {
      "cell_type": "code",
      "metadata": {
        "id": "EXshnt0jBE7K",
        "outputId": "b177b2b7-32aa-4cb8-a2c8-aa1007a91e06"
      },
      "source": [
        "Python[\"Students\"][\"number\"]"
      ],
      "execution_count": null,
      "outputs": [
        {
          "data": {
            "text/plain": [
              "[18, 20, 19, 19]"
            ]
          },
          "execution_count": 51,
          "metadata": {},
          "output_type": "execute_result"
        }
      ]
    },
    {
      "cell_type": "code",
      "metadata": {
        "id": "DvBNcZXXBE7L",
        "outputId": "098b6c56-836c-48fc-fb7c-14c2376adfee"
      },
      "source": [
        "Python[\"Students\"][\"number\"][1]"
      ],
      "execution_count": null,
      "outputs": [
        {
          "data": {
            "text/plain": [
              "20"
            ]
          },
          "execution_count": 52,
          "metadata": {},
          "output_type": "execute_result"
        }
      ]
    },
    {
      "cell_type": "code",
      "metadata": {
        "id": "i16iFL3_BE7L",
        "outputId": "2ff106a3-0cf2-4388-bebf-63bf18450602"
      },
      "source": [
        "Python[\"Students\"][\"number\"][0] == 56"
      ],
      "execution_count": null,
      "outputs": [
        {
          "data": {
            "text/plain": [
              "False"
            ]
          },
          "execution_count": 53,
          "metadata": {},
          "output_type": "execute_result"
        }
      ]
    },
    {
      "cell_type": "code",
      "metadata": {
        "id": "2w1DD6xDBE7L",
        "outputId": "5a4d8aa6-37be-41ce-9476-a83708ba45bd"
      },
      "source": [
        "Python[\"Students\"][\"name\"]"
      ],
      "execution_count": null,
      "outputs": [
        {
          "data": {
            "text/plain": [
              "['Reza', 'Afarin', 'Mehrnoush', 'Sina']"
            ]
          },
          "execution_count": 54,
          "metadata": {},
          "output_type": "execute_result"
        }
      ]
    },
    {
      "cell_type": "code",
      "metadata": {
        "id": "qc3877LdBE7L",
        "outputId": "c005628d-f233-4f5f-fbe2-84b9a0d59e72"
      },
      "source": [
        "Python[\"Students\"][\"name\"][1]"
      ],
      "execution_count": null,
      "outputs": [
        {
          "data": {
            "text/plain": [
              "'Afarin'"
            ]
          },
          "execution_count": 55,
          "metadata": {},
          "output_type": "execute_result"
        }
      ]
    },
    {
      "cell_type": "code",
      "metadata": {
        "id": "dkitdLKuBE7L",
        "outputId": "c7e69a17-2bc6-4817-da36-c80b96f9849c"
      },
      "source": [
        "\"Afarin\" in Python[\"Students\"][\"name\"]"
      ],
      "execution_count": null,
      "outputs": [
        {
          "data": {
            "text/plain": [
              "True"
            ]
          },
          "execution_count": 56,
          "metadata": {},
          "output_type": "execute_result"
        }
      ]
    },
    {
      "cell_type": "code",
      "metadata": {
        "id": "eZotTCkhBE7M",
        "outputId": "ffa191eb-5681-47e7-ec2d-c1647d1d62a8"
      },
      "source": [
        "Python[\"Students\"][\"name\"] = [\"Ali\", \"Javad\", \"Bahar\", \"Mehran\"]\n",
        "Python[\"Students\"][\"name\"]"
      ],
      "execution_count": null,
      "outputs": [
        {
          "data": {
            "text/plain": [
              "['Ali', 'Javad', 'Bahar', 'Mehran']"
            ]
          },
          "execution_count": 57,
          "metadata": {},
          "output_type": "execute_result"
        }
      ]
    },
    {
      "cell_type": "code",
      "metadata": {
        "id": "kpK8pDuRBE7M",
        "outputId": "0f4c2cd5-c7c1-43ed-da9a-b8da94efaa3a"
      },
      "source": [
        "Python[\"Students\"][\"number\"][0] = 100\n",
        "Python[\"Students\"][\"number\"][0]"
      ],
      "execution_count": null,
      "outputs": [
        {
          "data": {
            "text/plain": [
              "100"
            ]
          },
          "execution_count": 58,
          "metadata": {},
          "output_type": "execute_result"
        }
      ]
    },
    {
      "cell_type": "code",
      "metadata": {
        "id": "P-ZLanBsBE7M"
      },
      "source": [
        "help(Python.fromkeys)"
      ],
      "execution_count": null,
      "outputs": []
    },
    {
      "cell_type": "code",
      "metadata": {
        "id": "RjTiecNIBE7M"
      },
      "source": [
        "help(Python.setdefault)"
      ],
      "execution_count": null,
      "outputs": []
    }
  ]
}
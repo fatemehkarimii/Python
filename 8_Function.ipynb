{
  "nbformat": 4,
  "nbformat_minor": 0,
  "metadata": {
    "kernelspec": {
      "display_name": "Python 3",
      "language": "python",
      "name": "python3"
    },
    "language_info": {
      "codemirror_mode": {
        "name": "ipython",
        "version": 3
      },
      "file_extension": ".py",
      "mimetype": "text/x-python",
      "name": "python",
      "nbconvert_exporter": "python",
      "pygments_lexer": "ipython3",
      "version": "3.8.8"
    },
    "colab": {
      "name": "8.ipynb",
      "provenance": [],
      "include_colab_link": true
    }
  },
  "cells": [
    {
      "cell_type": "markdown",
      "metadata": {
        "id": "view-in-github",
        "colab_type": "text"
      },
      "source": [
        "<a href=\"https://colab.research.google.com/github/fatemehkarimii/Python-Tutorial/blob/main/8_Function.ipynb\" target=\"_parent\"><img src=\"https://colab.research.google.com/assets/colab-badge.svg\" alt=\"Open In Colab\"/></a>"
      ]
    },
    {
      "cell_type": "markdown",
      "metadata": {
        "id": "Mad4aknmE8pG"
      },
      "source": [
        "# function"
      ]
    },
    {
      "cell_type": "code",
      "metadata": {
        "id": "YvJ0MsPcE8pK"
      },
      "source": [
        "def F1():\n",
        "    print(\"Hi Friends\")"
      ],
      "execution_count": 1,
      "outputs": []
    },
    {
      "cell_type": "code",
      "metadata": {
        "id": "Ddl8E_ulE8pL",
        "outputId": "58cbad63-593f-4d4c-aa42-32303470e367",
        "colab": {
          "base_uri": "https://localhost:8080/"
        }
      },
      "source": [
        "F1()"
      ],
      "execution_count": 2,
      "outputs": [
        {
          "output_type": "stream",
          "name": "stdout",
          "text": [
            "Hi Friends\n"
          ]
        }
      ]
    },
    {
      "cell_type": "code",
      "metadata": {
        "id": "CgF5ybSbE8pN"
      },
      "source": [
        "def F2():\n",
        "    a = 2\n",
        "    b = 3\n",
        "    print(a**b)"
      ],
      "execution_count": 3,
      "outputs": []
    },
    {
      "cell_type": "code",
      "metadata": {
        "id": "lhXVGHkKE8pN",
        "outputId": "fd225c6d-fd01-4ebd-9905-10103347a55b",
        "colab": {
          "base_uri": "https://localhost:8080/"
        }
      },
      "source": [
        "F2()"
      ],
      "execution_count": 4,
      "outputs": [
        {
          "output_type": "stream",
          "name": "stdout",
          "text": [
            "8\n"
          ]
        }
      ]
    },
    {
      "cell_type": "code",
      "metadata": {
        "id": "ibAzHM7IE8pO"
      },
      "source": [
        "def F3():\n",
        "    a = 2\n",
        "    b = 3\n",
        "    return a**b"
      ],
      "execution_count": 5,
      "outputs": []
    },
    {
      "cell_type": "code",
      "metadata": {
        "id": "77SHm5lLE8pO",
        "outputId": "e69b6763-4484-495d-98d1-e223cc3b15c9",
        "colab": {
          "base_uri": "https://localhost:8080/"
        }
      },
      "source": [
        "x = F3()\n",
        "x"
      ],
      "execution_count": 6,
      "outputs": [
        {
          "output_type": "execute_result",
          "data": {
            "text/plain": [
              "8"
            ]
          },
          "metadata": {},
          "execution_count": 6
        }
      ]
    },
    {
      "cell_type": "code",
      "metadata": {
        "id": "uuQPPf9dE8pP"
      },
      "source": [
        "def F4():\n",
        "    a = [2, 8, 3, 9, 1]\n",
        "    return max(a)"
      ],
      "execution_count": 7,
      "outputs": []
    },
    {
      "cell_type": "code",
      "metadata": {
        "id": "3DLh96zBE8pP",
        "outputId": "0c5b4355-6fc7-4b99-9a9c-d1fdc892af74",
        "colab": {
          "base_uri": "https://localhost:8080/"
        }
      },
      "source": [
        "x = F4()\n",
        "x"
      ],
      "execution_count": 8,
      "outputs": [
        {
          "output_type": "execute_result",
          "data": {
            "text/plain": [
              "9"
            ]
          },
          "metadata": {},
          "execution_count": 8
        }
      ]
    },
    {
      "cell_type": "code",
      "metadata": {
        "id": "K7DIsGiEE8pQ"
      },
      "source": [
        "def F5(a):\n",
        "    print(a)"
      ],
      "execution_count": 9,
      "outputs": []
    },
    {
      "cell_type": "code",
      "metadata": {
        "id": "J4uuOAy9E8pR",
        "outputId": "54681d10-8ad1-4a7a-fe23-b4accbd0e327",
        "colab": {
          "base_uri": "https://localhost:8080/"
        }
      },
      "source": [
        "F5(10)"
      ],
      "execution_count": 10,
      "outputs": [
        {
          "output_type": "stream",
          "name": "stdout",
          "text": [
            "10\n"
          ]
        }
      ]
    },
    {
      "cell_type": "code",
      "metadata": {
        "id": "89U1faesE8pR"
      },
      "source": [
        "def F6(a, b):\n",
        "    x = a**2\n",
        "    y = a*b\n",
        "    print(x, y)"
      ],
      "execution_count": 11,
      "outputs": []
    },
    {
      "cell_type": "code",
      "metadata": {
        "id": "L0_dqDOGE8pS",
        "outputId": "38729a74-47f6-4083-b6de-de7bbc859361",
        "colab": {
          "base_uri": "https://localhost:8080/"
        }
      },
      "source": [
        "F6(2, 4)"
      ],
      "execution_count": 12,
      "outputs": [
        {
          "output_type": "stream",
          "name": "stdout",
          "text": [
            "4 8\n"
          ]
        }
      ]
    },
    {
      "cell_type": "code",
      "metadata": {
        "id": "kiVYtqP7E8pS"
      },
      "source": [
        "def F7(a):\n",
        "    return a"
      ],
      "execution_count": 13,
      "outputs": []
    },
    {
      "cell_type": "code",
      "metadata": {
        "id": "DInykyqOE8pS",
        "outputId": "bee8ea9e-a55b-4a93-d783-c95c6c9ab4a6",
        "colab": {
          "base_uri": "https://localhost:8080/"
        }
      },
      "source": [
        "F7(5)"
      ],
      "execution_count": 14,
      "outputs": [
        {
          "output_type": "execute_result",
          "data": {
            "text/plain": [
              "5"
            ]
          },
          "metadata": {},
          "execution_count": 14
        }
      ]
    },
    {
      "cell_type": "code",
      "metadata": {
        "id": "xiTXtTYGE8pT",
        "outputId": "897282ec-e3c0-4e91-a212-811eb7dbc4cb",
        "colab": {
          "base_uri": "https://localhost:8080/"
        }
      },
      "source": [
        "x = F7(5)\n",
        "x"
      ],
      "execution_count": 15,
      "outputs": [
        {
          "output_type": "execute_result",
          "data": {
            "text/plain": [
              "5"
            ]
          },
          "metadata": {},
          "execution_count": 15
        }
      ]
    },
    {
      "cell_type": "code",
      "metadata": {
        "id": "ZyMQp_KcE8pT"
      },
      "source": [
        "def F8(a, b):\n",
        "    x = a**2\n",
        "    y = a*b\n",
        "    return x, y"
      ],
      "execution_count": 16,
      "outputs": []
    },
    {
      "cell_type": "code",
      "metadata": {
        "id": "n0DS4U2YE8pU",
        "outputId": "8cdc3635-7919-4826-bfe7-66e2418c4564",
        "colab": {
          "base_uri": "https://localhost:8080/"
        }
      },
      "source": [
        "F8(2, 4)"
      ],
      "execution_count": 17,
      "outputs": [
        {
          "output_type": "execute_result",
          "data": {
            "text/plain": [
              "(4, 8)"
            ]
          },
          "metadata": {},
          "execution_count": 17
        }
      ]
    },
    {
      "cell_type": "code",
      "metadata": {
        "id": "5qszagKCE8pU"
      },
      "source": [
        "x1, y1 = F8(2, 4)"
      ],
      "execution_count": 18,
      "outputs": []
    },
    {
      "cell_type": "code",
      "metadata": {
        "id": "azwao_rFE8pU",
        "outputId": "342d56de-65ec-43d7-afbe-530fd2b8f835"
      },
      "source": [
        "print(f\"x: {x1}, y: {y1}\")"
      ],
      "execution_count": null,
      "outputs": [
        {
          "name": "stdout",
          "output_type": "stream",
          "text": [
            "x: 4, y: 8\n"
          ]
        }
      ]
    },
    {
      "cell_type": "code",
      "metadata": {
        "id": "Ycg4HPjlE8pV",
        "outputId": "170265b7-3ba8-4c7a-f532-533234734e82",
        "colab": {
          "base_uri": "https://localhost:8080/"
        }
      },
      "source": [
        "x = max(2, 8, 4)\n",
        "y = min(2, 4, 6)\n",
        "\n",
        "print(x)\n",
        "print(y)"
      ],
      "execution_count": 19,
      "outputs": [
        {
          "output_type": "stream",
          "name": "stdout",
          "text": [
            "8\n",
            "2\n"
          ]
        }
      ]
    },
    {
      "cell_type": "code",
      "metadata": {
        "id": "Nj6R9CE0E8pV",
        "outputId": "120346f9-8d62-40d4-8e06-b87d18f115a9",
        "colab": {
          "base_uri": "https://localhost:8080/"
        }
      },
      "source": [
        "List = [6, 8, 7, 2]\n",
        "L = len(List)\n",
        "L"
      ],
      "execution_count": 20,
      "outputs": [
        {
          "output_type": "execute_result",
          "data": {
            "text/plain": [
              "4"
            ]
          },
          "metadata": {},
          "execution_count": 20
        }
      ]
    },
    {
      "cell_type": "code",
      "metadata": {
        "id": "76v6Buc3E8pV",
        "outputId": "c22d2feb-c3ee-4d68-d3af-f1e1699eb880",
        "colab": {
          "base_uri": "https://localhost:8080/"
        }
      },
      "source": [
        "S1 = {2, 4, 6, 8}\n",
        "S1.add(10)\n",
        "S1"
      ],
      "execution_count": 21,
      "outputs": [
        {
          "output_type": "execute_result",
          "data": {
            "text/plain": [
              "{2, 4, 6, 8, 10}"
            ]
          },
          "metadata": {},
          "execution_count": 21
        }
      ]
    },
    {
      "cell_type": "code",
      "metadata": {
        "id": "IIPkvYVDE8pW"
      },
      "source": [
        "def Rectangle(length, width):\n",
        "    area = length * width\n",
        "    perimeter  = 2 * (length + width)\n",
        "    \n",
        "    return area, perimeter "
      ],
      "execution_count": 22,
      "outputs": []
    },
    {
      "cell_type": "code",
      "metadata": {
        "id": "mltXOj0fE8pW",
        "outputId": "98332e6f-e1e7-4c2f-9d41-6c48e15f977c",
        "colab": {
          "base_uri": "https://localhost:8080/"
        }
      },
      "source": [
        "Rectangle(2, 4)"
      ],
      "execution_count": 23,
      "outputs": [
        {
          "output_type": "execute_result",
          "data": {
            "text/plain": [
              "(8, 12)"
            ]
          },
          "metadata": {},
          "execution_count": 23
        }
      ]
    },
    {
      "cell_type": "code",
      "metadata": {
        "id": "RlAE8MLZE8pW",
        "outputId": "d32ff955-4718-409d-c8c8-bf90f48e60d4",
        "colab": {
          "base_uri": "https://localhost:8080/"
        }
      },
      "source": [
        "area, perimeter  = Rectangle(2, 4)\n",
        "\n",
        "print(f\"area: {area}, perimeter: {perimeter}\")"
      ],
      "execution_count": 24,
      "outputs": [
        {
          "output_type": "stream",
          "name": "stdout",
          "text": [
            "area: 8, perimeter: 12\n"
          ]
        }
      ]
    },
    {
      "cell_type": "code",
      "metadata": {
        "id": "KXg1mARJE8pW",
        "outputId": "02ef5628-47da-4a8e-aa61-72584830ae28",
        "colab": {
          "base_uri": "https://localhost:8080/"
        }
      },
      "source": [
        "area, perimeter  = Rectangle(length=2, width=4)\n",
        "\n",
        "print(f\"area: {area}, perimeter: {perimeter}\")"
      ],
      "execution_count": 25,
      "outputs": [
        {
          "output_type": "stream",
          "name": "stdout",
          "text": [
            "area: 8, perimeter: 12\n"
          ]
        }
      ]
    },
    {
      "cell_type": "code",
      "metadata": {
        "id": "79_ef3S2E8pX",
        "outputId": "20c2c0d8-b6cf-48b7-afcc-17932ff957c5",
        "colab": {
          "base_uri": "https://localhost:8080/"
        }
      },
      "source": [
        "area, perimeter  = Rectangle(width=4, length=2)\n",
        "\n",
        "print(f\"area: {area}, perimeter: {perimeter}\")"
      ],
      "execution_count": 26,
      "outputs": [
        {
          "output_type": "stream",
          "name": "stdout",
          "text": [
            "area: 8, perimeter: 12\n"
          ]
        }
      ]
    },
    {
      "cell_type": "code",
      "metadata": {
        "id": "7KUfsQ4qE8pX"
      },
      "source": [
        "def Adult(age):\n",
        "    if age < 18:\n",
        "        return False\n",
        "    elif age >= 18:\n",
        "        return True"
      ],
      "execution_count": 27,
      "outputs": []
    },
    {
      "cell_type": "code",
      "metadata": {
        "id": "eZS4F0UuE8pX",
        "outputId": "a328a4c3-dd89-407c-d39b-c5a965af358d",
        "colab": {
          "base_uri": "https://localhost:8080/"
        }
      },
      "source": [
        "Adult(15)"
      ],
      "execution_count": 28,
      "outputs": [
        {
          "output_type": "execute_result",
          "data": {
            "text/plain": [
              "False"
            ]
          },
          "metadata": {},
          "execution_count": 28
        }
      ]
    },
    {
      "cell_type": "code",
      "metadata": {
        "id": "jgFCFU3fE8pY"
      },
      "source": [
        "def Adult3(age):\n",
        "    if age < 18:\n",
        "        return 0\n",
        "    elif age >= 18:\n",
        "        return 1"
      ],
      "execution_count": 29,
      "outputs": []
    },
    {
      "cell_type": "code",
      "metadata": {
        "id": "aUWoDx4dE8pY",
        "outputId": "beb51d67-d475-4503-8034-1ff2028b4a0e",
        "colab": {
          "base_uri": "https://localhost:8080/"
        }
      },
      "source": [
        "Adult3(25)"
      ],
      "execution_count": 30,
      "outputs": [
        {
          "output_type": "execute_result",
          "data": {
            "text/plain": [
              "1"
            ]
          },
          "metadata": {},
          "execution_count": 30
        }
      ]
    },
    {
      "cell_type": "code",
      "metadata": {
        "id": "EVmq8U7mE8pZ"
      },
      "source": [
        "boy = [\"Ali\", \"Mohammad\", \"Sina\", \"Reza\", \"Rasoul\", \"Mohsen\"]\n",
        "def Adult4(age, name):\n",
        "    \n",
        "    if Adult3(age) == 1 and name in boy:\n",
        "        return f\"Hi {name}, your age is {age} \"\n",
        "    elif Adult3(age) == 1 and name not in boy:\n",
        "        return f\"{name} is not exist\"\n",
        "    else:\n",
        "        return \"Error\""
      ],
      "execution_count": 32,
      "outputs": []
    },
    {
      "cell_type": "code",
      "metadata": {
        "id": "SvfgcwyRE8pZ",
        "outputId": "565e4f60-4baf-4f92-b87c-217cb595cecb",
        "colab": {
          "base_uri": "https://localhost:8080/",
          "height": 36
        }
      },
      "source": [
        "Adult4(45, \"Reza\")"
      ],
      "execution_count": 33,
      "outputs": [
        {
          "output_type": "execute_result",
          "data": {
            "text/plain": [
              "'Hi Reza, your age is 45 '"
            ],
            "application/vnd.google.colaboratory.intrinsic+json": {
              "type": "string"
            }
          },
          "metadata": {},
          "execution_count": 33
        }
      ]
    },
    {
      "cell_type": "code",
      "metadata": {
        "id": "gkpNzkQzE8pZ",
        "outputId": "d7a34ec1-3074-4312-fb7c-7021808d57d6",
        "colab": {
          "base_uri": "https://localhost:8080/"
        }
      },
      "source": [
        "def F9(a):\n",
        "    return (a**2) / (2*a)\n",
        "\n",
        "if F9(8) >= 4 and Adult3(25) == 1:\n",
        "    print(\"Yes\")\n",
        "else:\n",
        "    print(\"No\")"
      ],
      "execution_count": 34,
      "outputs": [
        {
          "output_type": "stream",
          "name": "stdout",
          "text": [
            "Yes\n"
          ]
        }
      ]
    },
    {
      "cell_type": "code",
      "metadata": {
        "id": "YgVJt1z0E8pZ"
      },
      "source": [
        "def Check_B_G(name):\n",
        "    boy = [\"Ali\", \"Mohammad\", \"Sina\", \"Reza\", \"Rasoul\", \"Mohsen\"]\n",
        "    girl = [\"Zahra\", \"Bahar\", \"Fatemeh\", \"Mona\", \"Hana\", \"Parmida\"]\n",
        "    \n",
        "    if name in boy:\n",
        "        return \"BOY\"\n",
        "    elif name in girl:\n",
        "        return \"GIRL\"\n",
        "    else:\n",
        "        return 0"
      ],
      "execution_count": 35,
      "outputs": []
    },
    {
      "cell_type": "code",
      "metadata": {
        "id": "ExZh9IqNE8pa",
        "outputId": "f3ee60cb-eaf6-426c-923a-b89543db650e",
        "colab": {
          "base_uri": "https://localhost:8080/"
        }
      },
      "source": [
        "x = Check_B_G(\"Ali\")\n",
        "print(x)\n",
        "print(type(x))"
      ],
      "execution_count": 36,
      "outputs": [
        {
          "output_type": "stream",
          "name": "stdout",
          "text": [
            "BOY\n",
            "<class 'str'>\n"
          ]
        }
      ]
    },
    {
      "cell_type": "code",
      "metadata": {
        "id": "3DvlV5kVE8pa"
      },
      "source": [
        "def Person(Name=\"Ali\", Family=\"Nazarizadeh\", Age=25):\n",
        "    return Name, Family, Age"
      ],
      "execution_count": null,
      "outputs": []
    },
    {
      "cell_type": "code",
      "metadata": {
        "id": "qlCf10NeE8pa",
        "outputId": "e0e13ac4-aab9-4d79-8ec5-06752e547765"
      },
      "source": [
        "N, F, A = Person()\n",
        "\n",
        "print(N, F, A)"
      ],
      "execution_count": null,
      "outputs": [
        {
          "name": "stdout",
          "output_type": "stream",
          "text": [
            "Ali Nazarizadeh 25\n"
          ]
        }
      ]
    },
    {
      "cell_type": "code",
      "metadata": {
        "id": "NBkdQtHCE8pa",
        "outputId": "28ddbc68-6fea-4750-d9bc-0aa160446c4e"
      },
      "source": [
        "N, F, A = Person(Name=\"Rasoul\", Family=\"Taheri\")\n",
        "\n",
        "print(N, F, A)"
      ],
      "execution_count": null,
      "outputs": [
        {
          "name": "stdout",
          "output_type": "stream",
          "text": [
            "Rasoul Taheri 25\n"
          ]
        }
      ]
    },
    {
      "cell_type": "code",
      "metadata": {
        "id": "TZ_QFp5DE8pa",
        "outputId": "dbe11c9a-4f65-4ca3-c678-2cc05cd5e17b"
      },
      "source": [
        "N, F, A = Person(Name=\"Rasoul\", Family=\"Taheri\", Age=26)\n",
        "\n",
        "print(N, F, A)"
      ],
      "execution_count": null,
      "outputs": [
        {
          "name": "stdout",
          "output_type": "stream",
          "text": [
            "Rasoul Taheri 26\n"
          ]
        }
      ]
    },
    {
      "cell_type": "code",
      "metadata": {
        "id": "W8uUpZhYE8pb"
      },
      "source": [
        "import math\n",
        "\n",
        "def Factorial(a):\n",
        "    f = []\n",
        "    for i in range(a):\n",
        "        f.append(math.factorial(i))\n",
        "    return f"
      ],
      "execution_count": null,
      "outputs": []
    },
    {
      "cell_type": "code",
      "metadata": {
        "id": "J72C92YsE8pb",
        "outputId": "f9574853-efc1-4574-fd30-97ac1d6c844b"
      },
      "source": [
        "x = Factorial(6)\n",
        "\n",
        "print(f\"x: {x}\")\n",
        "print({type(x)})"
      ],
      "execution_count": null,
      "outputs": [
        {
          "name": "stdout",
          "output_type": "stream",
          "text": [
            "x: [1, 1, 2, 6, 24, 120]\n",
            "{<class 'list'>}\n"
          ]
        }
      ]
    },
    {
      "cell_type": "code",
      "metadata": {
        "id": "-crM3P7cE8pb"
      },
      "source": [
        "L1 = [pow(2, i) for i in range(10)]\n",
        "\n",
        "def F10(a):\n",
        "    return a"
      ],
      "execution_count": null,
      "outputs": []
    },
    {
      "cell_type": "code",
      "metadata": {
        "id": "I4Q-g4srE8pb",
        "outputId": "f13d5b5c-6517-45f0-cdda-73cfb5a141e4"
      },
      "source": [
        "F10(L1)"
      ],
      "execution_count": null,
      "outputs": [
        {
          "data": {
            "text/plain": [
              "[1, 2, 4, 8, 16, 32, 64, 128, 256, 512]"
            ]
          },
          "execution_count": 56,
          "metadata": {},
          "output_type": "execute_result"
        }
      ]
    },
    {
      "cell_type": "code",
      "metadata": {
        "id": "8nJ4SO6cE8pb"
      },
      "source": [
        "def F11(a):\n",
        "    l = []\n",
        "    for i in a:\n",
        "        if i >=16 and i<= 128:\n",
        "            l.append(i)\n",
        "    return l"
      ],
      "execution_count": null,
      "outputs": []
    },
    {
      "cell_type": "code",
      "metadata": {
        "id": "bZhOKGKXE8pb",
        "outputId": "a3335890-2c9a-4667-b519-c645a00c9862"
      },
      "source": [
        "x = F11(L1)\n",
        "x"
      ],
      "execution_count": null,
      "outputs": [
        {
          "data": {
            "text/plain": [
              "[16, 32, 64, 128]"
            ]
          },
          "execution_count": 58,
          "metadata": {},
          "output_type": "execute_result"
        }
      ]
    },
    {
      "cell_type": "code",
      "metadata": {
        "id": "6o1vMNpJE8pc"
      },
      "source": [
        "D1 = {\n",
        "    \"id\": 332,\n",
        "    \"age\": 25,\n",
        "    \"number\": 423\n",
        "}"
      ],
      "execution_count": null,
      "outputs": []
    },
    {
      "cell_type": "code",
      "metadata": {
        "id": "fdJAE0JLE8pc"
      },
      "source": [
        "def F12(a):\n",
        "    k, v = [], []\n",
        "    for key, value in a.items():\n",
        "        k.append(key)\n",
        "        v.append(value)\n",
        "    return k, v"
      ],
      "execution_count": null,
      "outputs": []
    },
    {
      "cell_type": "code",
      "metadata": {
        "id": "sPgCX3kLE8pc",
        "outputId": "a9fd1d57-f9a5-4a40-fd92-543eee6056b3"
      },
      "source": [
        "k, v = F12(D1)\n",
        "\n",
        "print(f\"keys {k}, {type(k)}\")\n",
        "print(f\"values {v}, {type(v)}\")"
      ],
      "execution_count": null,
      "outputs": [
        {
          "name": "stdout",
          "output_type": "stream",
          "text": [
            "keys ['id', 'age', 'number'], <class 'list'>\n",
            "values [332, 25, 423], <class 'list'>\n"
          ]
        }
      ]
    },
    {
      "cell_type": "code",
      "metadata": {
        "id": "rkzwUKniE8pc"
      },
      "source": [
        "L1 = [2, 4, 6]\n",
        "S1 = {\"python\", 'C#', 2, 9}\n",
        "\n",
        "def F13(a):\n",
        "    for i in a:\n",
        "        print(i)"
      ],
      "execution_count": null,
      "outputs": []
    },
    {
      "cell_type": "code",
      "metadata": {
        "id": "9bPhV6xpE8pc",
        "outputId": "41e914a9-38d9-4a64-b7a9-da72a1ba6191"
      },
      "source": [
        "F13(L1)"
      ],
      "execution_count": null,
      "outputs": [
        {
          "name": "stdout",
          "output_type": "stream",
          "text": [
            "2\n",
            "4\n",
            "6\n"
          ]
        }
      ]
    },
    {
      "cell_type": "code",
      "metadata": {
        "id": "cCSNUz7PE8pc",
        "outputId": "63df8eec-76f0-4223-b7de-2981d2a6836c"
      },
      "source": [
        "F13(S1)"
      ],
      "execution_count": null,
      "outputs": [
        {
          "name": "stdout",
          "output_type": "stream",
          "text": [
            "9\n",
            "2\n",
            "python\n",
            "C#\n"
          ]
        }
      ]
    },
    {
      "cell_type": "code",
      "metadata": {
        "id": "qf6LwCWbE8pd"
      },
      "source": [
        "def F14(*args):\n",
        "    for i in args:\n",
        "        print(i)"
      ],
      "execution_count": null,
      "outputs": []
    },
    {
      "cell_type": "code",
      "metadata": {
        "id": "ZRhlueoWE8pd",
        "outputId": "628c29be-2366-4b83-f2e4-acd93f7475ee"
      },
      "source": [
        "F14(4, 1, \"python\", 5, 2, [10, 20, \"C#\"])"
      ],
      "execution_count": null,
      "outputs": [
        {
          "name": "stdout",
          "output_type": "stream",
          "text": [
            "4\n",
            "1\n",
            "python\n",
            "5\n",
            "2\n",
            "[10, 20, 'C#']\n"
          ]
        }
      ]
    },
    {
      "cell_type": "code",
      "metadata": {
        "id": "m_4WT-GeE8pd",
        "outputId": "2f7e5fb7-5e66-4513-8234-4a6a397dd761"
      },
      "source": [
        "F14(L1)"
      ],
      "execution_count": null,
      "outputs": [
        {
          "name": "stdout",
          "output_type": "stream",
          "text": [
            "5\n",
            "6\n",
            "2\n",
            "8\n",
            "7\n",
            "4\n"
          ]
        }
      ]
    },
    {
      "cell_type": "code",
      "metadata": {
        "id": "HAWcLDNmE8pd"
      },
      "source": [
        "import math\n",
        "\n",
        "def F15(*args):\n",
        "    L1 = []\n",
        "    for i in args:\n",
        "        L1.append(math.sqrt(i))\n",
        "    return L1"
      ],
      "execution_count": null,
      "outputs": []
    },
    {
      "cell_type": "code",
      "metadata": {
        "id": "miwFDE6tE8pd",
        "outputId": "75e7b825-3c0b-4b06-d79f-3b018ea33ec2"
      },
      "source": [
        "x1 = F15(25, 4, 36, 81, 100)\n",
        "x2 = F15(9)\n",
        "\n",
        "print(x1)\n",
        "print(x2)"
      ],
      "execution_count": null,
      "outputs": [
        {
          "name": "stdout",
          "output_type": "stream",
          "text": [
            "[5.0, 2.0, 6.0, 9.0, 10.0]\n",
            "[3.0]\n"
          ]
        }
      ]
    },
    {
      "cell_type": "code",
      "metadata": {
        "id": "3setXE4JE8pe"
      },
      "source": [
        "def F16(*args):\n",
        "    Sum = 0\n",
        "    for i in args:\n",
        "        Sum += i\n",
        "    return Sum"
      ],
      "execution_count": null,
      "outputs": []
    },
    {
      "cell_type": "code",
      "metadata": {
        "id": "8XPCHNJlE8pe",
        "outputId": "7d80befb-cde7-4d04-e24d-602a2e5dcaa1"
      },
      "source": [
        "F16(2, 8, 6)"
      ],
      "execution_count": null,
      "outputs": [
        {
          "data": {
            "text/plain": [
              "16"
            ]
          },
          "execution_count": 81,
          "metadata": {},
          "output_type": "execute_result"
        }
      ]
    },
    {
      "cell_type": "code",
      "metadata": {
        "id": "nofq28LSE8pe",
        "outputId": "1571772b-12af-4f3a-e298-2924e6203ec6"
      },
      "source": [
        "L1 = [5, 6, 2, 8, 7, 4]\n",
        "\n",
        "F16(*L1)"
      ],
      "execution_count": null,
      "outputs": [
        {
          "data": {
            "text/plain": [
              "32"
            ]
          },
          "execution_count": 82,
          "metadata": {},
          "output_type": "execute_result"
        }
      ]
    },
    {
      "cell_type": "code",
      "metadata": {
        "id": "TRsnpeWNE8pe"
      },
      "source": [
        "def F17(**kwargs):\n",
        "    return kwargs"
      ],
      "execution_count": null,
      "outputs": []
    },
    {
      "cell_type": "code",
      "metadata": {
        "id": "Jxat1c6HE8pe",
        "outputId": "69f6be2d-53f8-4ea6-ee73-5dead35735f9"
      },
      "source": [
        "F17(name=\"Reza\", score=20)"
      ],
      "execution_count": null,
      "outputs": [
        {
          "data": {
            "text/plain": [
              "{'name': 'Reza', 'score': 20}"
            ]
          },
          "execution_count": 85,
          "metadata": {},
          "output_type": "execute_result"
        }
      ]
    },
    {
      "cell_type": "code",
      "metadata": {
        "id": "P10L4p9QE8pe"
      },
      "source": [
        "def F18(**kwargs):\n",
        "    for key, value in kwargs.items():\n",
        "        print(f\"key: {key}, value: {value}\")"
      ],
      "execution_count": null,
      "outputs": []
    },
    {
      "cell_type": "code",
      "metadata": {
        "id": "7F9vIGi8E8pf",
        "outputId": "3d3d44cd-9874-414e-a661-8b5071b3733d"
      },
      "source": [
        "F18(name=\"ali\", age=25)"
      ],
      "execution_count": null,
      "outputs": [
        {
          "name": "stdout",
          "output_type": "stream",
          "text": [
            "key: name, value: ali\n",
            "key: age, value: 25\n"
          ]
        }
      ]
    },
    {
      "cell_type": "code",
      "metadata": {
        "id": "crHNZTTtE8pf",
        "outputId": "cc961403-8861-4775-f9b8-58e52c9f5ea0"
      },
      "source": [
        "D1 = {\n",
        "    \"id\": 332,\n",
        "    \"age\": 25,\n",
        "    \"number\": 423\n",
        "}\n",
        "\n",
        "F18(**D1)"
      ],
      "execution_count": null,
      "outputs": [
        {
          "name": "stdout",
          "output_type": "stream",
          "text": [
            "key: id, value: 332\n",
            "key: age, value: 25\n",
            "key: number, value: 423\n"
          ]
        }
      ]
    },
    {
      "cell_type": "code",
      "metadata": {
        "id": "NSsNHn6uE8pf"
      },
      "source": [
        "def F19(**kwargs):\n",
        "    k, v = [], []\n",
        "    for key, value in kwargs.items():\n",
        "        k.append(key)\n",
        "        v.append(value)\n",
        "    return k, v"
      ],
      "execution_count": null,
      "outputs": []
    },
    {
      "cell_type": "code",
      "metadata": {
        "id": "U47HJEMhE8pf",
        "outputId": "82005c00-e694-4da0-e388-8dd16d8513f4"
      },
      "source": [
        "D2 = {\n",
        "    \"name\": [\"Ali\", \"Reza\", \"Zahra\"],\n",
        "    \"Score\": [19, 18, 20],\n",
        "    \"City\": [\"Tehran\", \"Karaj\", \"Kermanshah\"],\n",
        "    \"Average\": 18\n",
        "}\n",
        "\n",
        "F19(**D2)"
      ],
      "execution_count": null,
      "outputs": [
        {
          "data": {
            "text/plain": [
              "(['name', 'Score', 'City', 'Average'],\n",
              " [['Ali', 'Reza', 'Zahra'],\n",
              "  [19, 18, 20],\n",
              "  ['Tehran', 'Karaj', 'Kermanshah'],\n",
              "  18])"
            ]
          },
          "execution_count": 93,
          "metadata": {},
          "output_type": "execute_result"
        }
      ]
    },
    {
      "cell_type": "code",
      "metadata": {
        "id": "ku0ztz5XE8pf"
      },
      "source": [
        "def F20(a, *args, default = \"python\", **kwargs):\n",
        "    return a, args, default, kwargs"
      ],
      "execution_count": null,
      "outputs": []
    },
    {
      "cell_type": "code",
      "metadata": {
        "id": "nN1V1wR6E8pf",
        "outputId": "ddc49538-85e9-4323-e103-578a2ea0bb4c"
      },
      "source": [
        "F20(2, [2,3,4], default=\"bigdataworld\", **D2)"
      ],
      "execution_count": null,
      "outputs": [
        {
          "data": {
            "text/plain": [
              "(2,\n",
              " ([2, 3, 4],),\n",
              " 'bigdataworld',\n",
              " {'name': ['Ali', 'Reza', 'Zahra'],\n",
              "  'Score': [19, 18, 20],\n",
              "  'City': ['Tehran', 'Karaj', 'Kermanshah'],\n",
              "  'Average': 18})"
            ]
          },
          "execution_count": 95,
          "metadata": {},
          "output_type": "execute_result"
        }
      ]
    },
    {
      "cell_type": "code",
      "metadata": {
        "id": "-L7dLV6pE8pg"
      },
      "source": [
        "a, b, c, d = F20(2, [2,3,4], default=\"bigdataworld\", **D2)"
      ],
      "execution_count": null,
      "outputs": []
    },
    {
      "cell_type": "code",
      "metadata": {
        "id": "q5B9BKuNE8pg",
        "outputId": "66f06dce-0349-4545-9682-4fe3ca6397a3"
      },
      "source": [
        "print(a)\n",
        "print(b)\n",
        "print(c)\n",
        "print(d)"
      ],
      "execution_count": null,
      "outputs": [
        {
          "name": "stdout",
          "output_type": "stream",
          "text": [
            "2\n",
            "([2, 3, 4],)\n",
            "bigdataworld\n",
            "{'name': ['Ali', 'Reza', 'Zahra'], 'Score': [19, 18, 20], 'City': ['Tehran', 'Karaj', 'Kermanshah'], 'Average': 18}\n"
          ]
        }
      ]
    },
    {
      "cell_type": "code",
      "metadata": {
        "id": "xI9HZY66E8pg"
      },
      "source": [
        "def F21(a, b, c, *args, default1 = \"python\", default2 = \"C#\", **kwargs):\n",
        "    \n",
        "    return a, b, c, args, default1, default2, kwargs"
      ],
      "execution_count": null,
      "outputs": []
    },
    {
      "cell_type": "code",
      "metadata": {
        "id": "qSTLc1FFE8pg"
      },
      "source": [
        "a, b, c, d, e, f, g = F21(\"python\", \"bigdataworld\", 20, {5, \"Ali\", \"Nazarizadeh\"}, default1=\"Django\", default2=\"C++\", **D2)"
      ],
      "execution_count": null,
      "outputs": []
    },
    {
      "cell_type": "code",
      "metadata": {
        "id": "4_TlRjpcE8pg",
        "outputId": "6eea7f0d-a609-48cc-ecce-55bedd23d29f"
      },
      "source": [
        "print(a)\n",
        "print(b)\n",
        "print(c)\n",
        "print(d)\n",
        "print(e)\n",
        "print(f)\n",
        "print(g)"
      ],
      "execution_count": null,
      "outputs": [
        {
          "name": "stdout",
          "output_type": "stream",
          "text": [
            "python\n",
            "bigdataworld\n",
            "20\n",
            "({'Ali', 'Nazarizadeh', 5},)\n",
            "Django\n",
            "C++\n",
            "{'name': ['Ali', 'Reza', 'Zahra'], 'Score': [19, 18, 20], 'City': ['Tehran', 'Karaj', 'Kermanshah'], 'Average': 18}\n"
          ]
        }
      ]
    }
  ]
}
{
  "cells": [
    {
      "cell_type": "markdown",
      "metadata": {
        "id": "view-in-github",
        "colab_type": "text"
      },
      "source": [
        "<a href=\"https://colab.research.google.com/github/fatemehkarimii/Python-Tutorial/blob/main/9_Lambda_%26Built_in_Functions.ipynb\" target=\"_parent\"><img src=\"https://colab.research.google.com/assets/colab-badge.svg\" alt=\"Open In Colab\"/></a>"
      ]
    },
    {
      "cell_type": "markdown",
      "metadata": {
        "id": "MfgK47lWQSN5"
      },
      "source": [
        "## lambda"
      ]
    },
    {
      "cell_type": "code",
      "execution_count": 1,
      "metadata": {
        "id": "1wN-OKjYQSN_",
        "outputId": "0c96486c-c89e-4aea-8bcc-221eeb9a77e7",
        "colab": {
          "base_uri": "https://localhost:8080/"
        }
      },
      "outputs": [
        {
          "output_type": "stream",
          "name": "stdout",
          "text": [
            "25\n",
            "25\n",
            "15\n"
          ]
        }
      ],
      "source": [
        "def F1(a):\n",
        "    return a**2\n",
        "\n",
        "F2 = lambda a: a**2\n",
        "\n",
        "F3 = lambda a, b: a*b\n",
        "\n",
        "print(F1(5))\n",
        "print(F2(5))\n",
        "print(F3(5,3))"
      ]
    },
    {
      "cell_type": "code",
      "execution_count": 2,
      "metadata": {
        "id": "ZFrjYg4xQSOE",
        "outputId": "d5509d03-fde2-4be2-bb69-67cc43bb471b",
        "colab": {
          "base_uri": "https://localhost:8080/"
        }
      },
      "outputs": [
        {
          "output_type": "execute_result",
          "data": {
            "text/plain": [
              "[0, 1, 4, 9, 16, 25, 36, 49, 64, 81]"
            ]
          },
          "metadata": {},
          "execution_count": 2
        }
      ],
      "source": [
        "L1 = [F2(i) for i in range(10) ]\n",
        "L1"
      ]
    },
    {
      "cell_type": "code",
      "execution_count": 3,
      "metadata": {
        "id": "OB3yXLkCQSOF",
        "outputId": "b8d44e70-1efd-408b-f092-c398cf46977b",
        "colab": {
          "base_uri": "https://localhost:8080/"
        }
      },
      "outputs": [
        {
          "output_type": "execute_result",
          "data": {
            "text/plain": [
              "[0, 1, 4, 9, 16, 25, 36, 49, 64, 81]"
            ]
          },
          "metadata": {},
          "execution_count": 3
        }
      ],
      "source": [
        "L2 = [(lambda x: x**2)(x) for x in range(10)]\n",
        "L2"
      ]
    },
    {
      "cell_type": "code",
      "source": [
        "[x**2for x in range(10)]"
      ],
      "metadata": {
        "colab": {
          "base_uri": "https://localhost:8080/"
        },
        "id": "pqtUvxxDkyEa",
        "outputId": "2033d624-e0d7-4858-cedf-4ce767b31dde"
      },
      "execution_count": 5,
      "outputs": [
        {
          "output_type": "execute_result",
          "data": {
            "text/plain": [
              "[0, 1, 4, 9, 16, 25, 36, 49, 64, 81]"
            ]
          },
          "metadata": {},
          "execution_count": 5
        }
      ]
    },
    {
      "cell_type": "code",
      "execution_count": null,
      "metadata": {
        "id": "YW1ovryCQSOG"
      },
      "outputs": [],
      "source": [
        "D1 = {\n",
        "    \"name\": \"Ali\",\n",
        "    \"family\": \"Nazarizadeh\"\n",
        "}\n",
        "\n",
        "Result4 = lambda x:x.values()"
      ]
    },
    {
      "cell_type": "code",
      "execution_count": null,
      "metadata": {
        "id": "2Qp0ptD-QSOH",
        "outputId": "7f95d4fe-44a9-4836-8313-0eed93f293f8"
      },
      "outputs": [
        {
          "data": {
            "text/plain": [
              "dict_values(['Ali', 'Nazarizadeh'])"
            ]
          },
          "execution_count": 5,
          "metadata": {},
          "output_type": "execute_result"
        }
      ],
      "source": [
        "Result4(D1)"
      ]
    },
    {
      "cell_type": "code",
      "execution_count": 6,
      "metadata": {
        "id": "HPzBLfWBQSOH"
      },
      "outputs": [],
      "source": [
        "D2 = {\n",
        "    \"Ali\": 18,\n",
        "    \"Reza\": 20,\n",
        "    \"Ahmad\": 19,\n",
        "    \"Zahra\": 17,\n",
        "    \"Sina\": 20\n",
        "}\n",
        "\n",
        "Result5 = lambda x:sum(x.values()) / len(D2)"
      ]
    },
    {
      "cell_type": "code",
      "execution_count": null,
      "metadata": {
        "id": "2f7SBrvMQSOI",
        "outputId": "3ebad83b-c17f-413b-b134-90a263a6a84b"
      },
      "outputs": [
        {
          "data": {
            "text/plain": [
              "18.8"
            ]
          },
          "execution_count": 7,
          "metadata": {},
          "output_type": "execute_result"
        }
      ],
      "source": [
        "Result5(D2)"
      ]
    },
    {
      "cell_type": "code",
      "execution_count": null,
      "metadata": {
        "id": "ih_KiojOQSOI"
      },
      "outputs": [],
      "source": [
        "Result5 = lambda x:x % 2 == 0"
      ]
    },
    {
      "cell_type": "code",
      "execution_count": null,
      "metadata": {
        "id": "lKo_6Cn2QSOJ",
        "outputId": "16e97b7c-674c-42ba-e714-2dfab6efabae"
      },
      "outputs": [
        {
          "data": {
            "text/plain": [
              "True"
            ]
          },
          "execution_count": 10,
          "metadata": {},
          "output_type": "execute_result"
        }
      ],
      "source": [
        "Result5(8)"
      ]
    },
    {
      "cell_type": "markdown",
      "metadata": {
        "id": "KSG_zks9QSOK"
      },
      "source": [
        "## map"
      ]
    },
    {
      "cell_type": "code",
      "execution_count": 7,
      "metadata": {
        "collapsed": true,
        "id": "pIbkR45vQSOK",
        "outputId": "52bba810-cbd1-45a8-b50a-b585699c38a8",
        "colab": {
          "base_uri": "https://localhost:8080/"
        }
      },
      "outputs": [
        {
          "output_type": "stream",
          "name": "stdout",
          "text": [
            "Help on class map in module builtins:\n",
            "\n",
            "class map(object)\n",
            " |  map(func, *iterables) --> map object\n",
            " |  \n",
            " |  Make an iterator that computes the function using arguments from\n",
            " |  each of the iterables.  Stops when the shortest iterable is exhausted.\n",
            " |  \n",
            " |  Methods defined here:\n",
            " |  \n",
            " |  __getattribute__(self, name, /)\n",
            " |      Return getattr(self, name).\n",
            " |  \n",
            " |  __iter__(self, /)\n",
            " |      Implement iter(self).\n",
            " |  \n",
            " |  __next__(self, /)\n",
            " |      Implement next(self).\n",
            " |  \n",
            " |  __reduce__(...)\n",
            " |      Return state information for pickling.\n",
            " |  \n",
            " |  ----------------------------------------------------------------------\n",
            " |  Static methods defined here:\n",
            " |  \n",
            " |  __new__(*args, **kwargs) from builtins.type\n",
            " |      Create and return a new object.  See help(type) for accurate signature.\n",
            "\n"
          ]
        }
      ],
      "source": [
        "help(map)"
      ]
    },
    {
      "cell_type": "code",
      "execution_count": 8,
      "metadata": {
        "id": "S9e5ZrsdQSOL"
      },
      "outputs": [],
      "source": [
        "L3 = [3, 4, 2, 8, 6]\n",
        "\n",
        "Result = map(lambda x: x**2 , L3)"
      ]
    },
    {
      "cell_type": "code",
      "execution_count": 9,
      "metadata": {
        "id": "18k7U_QXQSOL",
        "outputId": "e6160aa2-3077-498e-b879-64f4db9f35b7",
        "colab": {
          "base_uri": "https://localhost:8080/"
        }
      },
      "outputs": [
        {
          "output_type": "execute_result",
          "data": {
            "text/plain": [
              "<map at 0x7f0959f67410>"
            ]
          },
          "metadata": {},
          "execution_count": 9
        }
      ],
      "source": [
        "Result"
      ]
    },
    {
      "cell_type": "code",
      "execution_count": 10,
      "metadata": {
        "id": "HOy58ar1QSOM",
        "outputId": "a8883b9a-89f3-468c-eabc-7a97bb991591",
        "colab": {
          "base_uri": "https://localhost:8080/"
        }
      },
      "outputs": [
        {
          "output_type": "execute_result",
          "data": {
            "text/plain": [
              "[9, 16, 4, 64, 36]"
            ]
          },
          "metadata": {},
          "execution_count": 10
        }
      ],
      "source": [
        "list(Result)"
      ]
    },
    {
      "cell_type": "code",
      "execution_count": null,
      "metadata": {
        "id": "rAESb8auQSOM"
      },
      "outputs": [],
      "source": [
        "Result2 = map(lambda x: x % 2 == 0 , L3)"
      ]
    },
    {
      "cell_type": "code",
      "execution_count": null,
      "metadata": {
        "id": "KvMw6jf2QSON",
        "outputId": "d926c85b-255a-4e9c-d427-0ac059c6e43d"
      },
      "outputs": [
        {
          "data": {
            "text/plain": [
              "[False, True, True, True, True]"
            ]
          },
          "execution_count": 16,
          "metadata": {},
          "output_type": "execute_result"
        }
      ],
      "source": [
        "list(Result2)"
      ]
    },
    {
      "cell_type": "code",
      "execution_count": null,
      "metadata": {
        "id": "VcJWlkL3QSON",
        "outputId": "c33c208e-1791-43da-f067-a64a32fa2a12"
      },
      "outputs": [
        {
          "name": "stdout",
          "output_type": "stream",
          "text": [
            "[9, 16, 4, 64, 36]\n"
          ]
        }
      ],
      "source": [
        "Result3 = list(map(lambda x: x**2 , L3))\n",
        "\n",
        "print(Result3)"
      ]
    },
    {
      "cell_type": "code",
      "execution_count": null,
      "metadata": {
        "id": "AwPW-QFeQSOO"
      },
      "outputs": [],
      "source": [
        "L1 = [4, 7, 2, 6, 9, 5]\n",
        "\n",
        "Result4 = map(lambda x: x*x, L1)"
      ]
    },
    {
      "cell_type": "code",
      "execution_count": null,
      "metadata": {
        "id": "Jd_h0L0iQSOO",
        "outputId": "bd4ca9f6-aa20-4079-dd7d-5c9b95f2d94c"
      },
      "outputs": [
        {
          "name": "stdout",
          "output_type": "stream",
          "text": [
            "[16, 49, 4, 36, 81, 25]\n"
          ]
        }
      ],
      "source": [
        "print(list(Result4))"
      ]
    },
    {
      "cell_type": "code",
      "execution_count": null,
      "metadata": {
        "id": "7KNqpGTMQSOP",
        "outputId": "07654f3b-ba74-43d4-d05a-ca219acac92d"
      },
      "outputs": [
        {
          "name": "stdout",
          "output_type": "stream",
          "text": [
            "[]\n"
          ]
        }
      ],
      "source": [
        "print(list(Result4))"
      ]
    },
    {
      "cell_type": "markdown",
      "metadata": {
        "id": "hezsz8LJQSOP"
      },
      "source": [
        "## filter"
      ]
    },
    {
      "cell_type": "code",
      "execution_count": 16,
      "metadata": {
        "collapsed": true,
        "id": "hfCN6CxmQSOQ",
        "outputId": "a5447034-8ba4-424c-d1f4-009cb744215b",
        "colab": {
          "base_uri": "https://localhost:8080/"
        }
      },
      "outputs": [
        {
          "output_type": "stream",
          "name": "stdout",
          "text": [
            "Help on class filter in module builtins:\n",
            "\n",
            "class filter(object)\n",
            " |  filter(function or None, iterable) --> filter object\n",
            " |  \n",
            " |  Return an iterator yielding those items of iterable for which function(item)\n",
            " |  is true. If function is None, return the items that are true.\n",
            " |  \n",
            " |  Methods defined here:\n",
            " |  \n",
            " |  __getattribute__(self, name, /)\n",
            " |      Return getattr(self, name).\n",
            " |  \n",
            " |  __iter__(self, /)\n",
            " |      Implement iter(self).\n",
            " |  \n",
            " |  __next__(self, /)\n",
            " |      Implement next(self).\n",
            " |  \n",
            " |  __reduce__(...)\n",
            " |      Return state information for pickling.\n",
            " |  \n",
            " |  ----------------------------------------------------------------------\n",
            " |  Static methods defined here:\n",
            " |  \n",
            " |  __new__(*args, **kwargs) from builtins.type\n",
            " |      Create and return a new object.  See help(type) for accurate signature.\n",
            "\n"
          ]
        }
      ],
      "source": [
        "help(filter)"
      ]
    },
    {
      "cell_type": "code",
      "execution_count": 19,
      "metadata": {
        "id": "LiUwTZR-QSOQ"
      },
      "outputs": [],
      "source": [
        "import math\n",
        "L4 = [2, 4, 8, 16, 32, 64]\n",
        "\n",
        "Log = filter(lambda x : math.pow(x, 2) , L4)"
      ]
    },
    {
      "cell_type": "code",
      "execution_count": 20,
      "metadata": {
        "id": "9B-k8VHCQSOQ",
        "outputId": "51c960f8-3c09-4896-c849-127e5e96e6e2",
        "colab": {
          "base_uri": "https://localhost:8080/"
        }
      },
      "outputs": [
        {
          "output_type": "stream",
          "name": "stdout",
          "text": [
            "[2, 4, 7, 16, 32, 64]\n"
          ]
        }
      ],
      "source": [
        "print(list(Log))"
      ]
    },
    {
      "cell_type": "code",
      "execution_count": null,
      "metadata": {
        "id": "cFqHkJ4kQSOR",
        "outputId": "f0265dcc-2b7f-45c3-9e8d-3a1bc89ed49c"
      },
      "outputs": [
        {
          "name": "stdout",
          "output_type": "stream",
          "text": [
            "[4]\n"
          ]
        }
      ],
      "source": [
        "numbers = [1, 2, 3, 4, 5, 6]\n",
        "\n",
        "Pow = filter(lambda num: math.pow(num,2) == 16, numbers)\n",
        "\n",
        "print(list(Pow))"
      ]
    },
    {
      "cell_type": "code",
      "execution_count": null,
      "metadata": {
        "id": "MogFa4vBQSOR",
        "outputId": "7d140da6-c041-4357-92b9-6d4283da2aed"
      },
      "outputs": [
        {
          "name": "stdout",
          "output_type": "stream",
          "text": [
            "[13, 4, 5, 12, 16, 15]\n"
          ]
        }
      ],
      "source": [
        "List = [18, 2, 13, 1, 4, 5, 12, 16, 19, 15]\n",
        "\n",
        "Filter = filter(lambda x : x >= 4 and x <= 16, List)\n",
        "\n",
        "print(list(Filter))"
      ]
    },
    {
      "cell_type": "code",
      "execution_count": null,
      "metadata": {
        "id": "d57n0xVLQSOS",
        "outputId": "93cbbfbb-38f5-4468-8959-87926b177624"
      },
      "outputs": [
        {
          "data": {
            "text/plain": [
              "[13, 4, 5, 12, 16, 15]"
            ]
          },
          "execution_count": 29,
          "metadata": {},
          "output_type": "execute_result"
        }
      ],
      "source": [
        "Filter2 = list(filter(lambda x : x >= 4 and x <= 16, List))\n",
        "Filter2"
      ]
    },
    {
      "cell_type": "markdown",
      "metadata": {
        "id": "H1V3AsLOQSOS"
      },
      "source": [
        "## Built in Functions"
      ]
    },
    {
      "cell_type": "code",
      "execution_count": null,
      "metadata": {
        "id": "h5Ky0AFwQSOS",
        "outputId": "923671ad-5d31-4577-e696-ac2eb54680ab"
      },
      "outputs": [
        {
          "name": "stdout",
          "output_type": "stream",
          "text": [
            "min : 2\n",
            "min :  \n",
            "max : 12\n",
            "max : y\n",
            "sum : 44\n",
            "abs : 10\n",
            "len : 6\n",
            "pow : 8\n",
            "round : 2.89\n",
            "int: 3\n",
            "float: 4.0\n",
            "type : <class 'float'>\n",
            "range : range(2, 15, 3)\n",
            "reversed : [7, 9, 12, 6, 8, 2]\n",
            "sorted: [2, 6, 7, 8, 9, 12]\n",
            "del : [2, 6, 12, 9, 7]\n"
          ]
        }
      ],
      "source": [
        "number = [2, 8, 6, 12, 9, 7]\n",
        "text = \"python programming\"\n",
        "\n",
        "print(f\"min : {min(number)}\")\n",
        "print(f\"min : {min(text)}\")\n",
        "print(f\"max : {max(number)}\")\n",
        "print(f\"max : {max(text)}\")\n",
        "print(f\"sum : {sum(number)}\")\n",
        "print(f\"abs : {abs(-10)}\")\n",
        "print(f\"len : {len(number)}\")\n",
        "print(f\"pow : {pow(2, 3)}\")\n",
        "print(f\"round : {round(2.893, 2)}\")\n",
        "print(f\"int: {int(3.8)}\")\n",
        "print(f\"float: {float(4)}\")\n",
        "print(f\"type : {type(2.8)}\")\n",
        "print(f\"range : {range(2, 15, 3)}\")\n",
        "print(f\"reversed : {list(reversed(number))}\")\n",
        "print(f\"sorted: {sorted(number)}\")\n",
        "del(number[1])\n",
        "print(f\"del : {number}\")"
      ]
    },
    {
      "cell_type": "markdown",
      "metadata": {
        "id": "6v0vl1M_QSOT"
      },
      "source": [
        "## min"
      ]
    },
    {
      "cell_type": "code",
      "execution_count": null,
      "metadata": {
        "id": "OYpchlBrQSOT",
        "outputId": "829782a4-6525-453a-f063-5de13b4396d9"
      },
      "outputs": [
        {
          "data": {
            "text/plain": [
              "'a'"
            ]
          },
          "execution_count": 31,
          "metadata": {},
          "output_type": "execute_result"
        }
      ],
      "source": [
        "List1 = ['v', 'n', 'a', 'x', 'c', 'o']\n",
        "\n",
        "min(List1)"
      ]
    },
    {
      "cell_type": "code",
      "execution_count": null,
      "metadata": {
        "id": "ubZJkjyUQSOU",
        "outputId": "cf403aa6-8731-48b3-d5b5-5fa8d2a45223"
      },
      "outputs": [
        {
          "data": {
            "text/plain": [
              "2"
            ]
          },
          "execution_count": 32,
          "metadata": {},
          "output_type": "execute_result"
        }
      ],
      "source": [
        "List2 = [2, 8, 4, 3, 9]\n",
        "\n",
        "min(List2, key = lambda x : x/2 )"
      ]
    },
    {
      "cell_type": "code",
      "execution_count": null,
      "metadata": {
        "id": "SyF4uq3cQSOU",
        "outputId": "237cd338-2a2e-47b9-cc51-6d558185f64d"
      },
      "outputs": [
        {
          "data": {
            "text/plain": [
              "3"
            ]
          },
          "execution_count": 35,
          "metadata": {},
          "output_type": "execute_result"
        }
      ],
      "source": [
        "import math\n",
        "\n",
        "min(List2, key = lambda x : x % 3 )"
      ]
    },
    {
      "cell_type": "markdown",
      "metadata": {
        "id": "P20PAZk-QSOV"
      },
      "source": [
        "## max"
      ]
    },
    {
      "cell_type": "code",
      "execution_count": null,
      "metadata": {
        "id": "en8lpQDvQSOV",
        "outputId": "10191f2b-70b3-4892-cb5d-aec99df6ea80"
      },
      "outputs": [
        {
          "data": {
            "text/plain": [
              "'x'"
            ]
          },
          "execution_count": 36,
          "metadata": {},
          "output_type": "execute_result"
        }
      ],
      "source": [
        "List1 = ['v', 'n', 'a', 'x', 'c', 'o']\n",
        "\n",
        "max(List1)"
      ]
    },
    {
      "cell_type": "code",
      "execution_count": null,
      "metadata": {
        "id": "HG8gpxHRQSOV",
        "outputId": "ec13e923-7c47-4513-e41b-287593e4cec3"
      },
      "outputs": [
        {
          "data": {
            "text/plain": [
              "9"
            ]
          },
          "execution_count": 37,
          "metadata": {},
          "output_type": "execute_result"
        }
      ],
      "source": [
        "List2 = [2, 8, 4, 3, 9]\n",
        "\n",
        "max(List2, key = lambda x : x/2 )"
      ]
    },
    {
      "cell_type": "code",
      "execution_count": null,
      "metadata": {
        "id": "tW2pOVdhQSOW",
        "outputId": "13fd8153-d437-4a13-dced-88166e5a730a"
      },
      "outputs": [
        {
          "data": {
            "text/plain": [
              "2"
            ]
          },
          "execution_count": 38,
          "metadata": {},
          "output_type": "execute_result"
        }
      ],
      "source": [
        "import math\n",
        "\n",
        "max(List2, key = lambda x : x % 3 )"
      ]
    },
    {
      "cell_type": "markdown",
      "metadata": {
        "id": "UWJ1IlsIQSOW"
      },
      "source": [
        "## sum"
      ]
    },
    {
      "cell_type": "code",
      "execution_count": null,
      "metadata": {
        "id": "RNriZE75QSOX",
        "outputId": "74f15caa-4a4b-4d32-e487-de9023ca7dab"
      },
      "outputs": [
        {
          "data": {
            "text/plain": [
              "12"
            ]
          },
          "execution_count": 39,
          "metadata": {},
          "output_type": "execute_result"
        }
      ],
      "source": [
        "List = [2, 4, 6]\n",
        "\n",
        "sum(List)"
      ]
    },
    {
      "cell_type": "code",
      "execution_count": null,
      "metadata": {
        "id": "s8Y5qAhOQSOX",
        "outputId": "ecfa1d05-da35-415f-f2a1-761d7ae2370e"
      },
      "outputs": [
        {
          "data": {
            "text/plain": [
              "9"
            ]
          },
          "execution_count": 40,
          "metadata": {},
          "output_type": "execute_result"
        }
      ],
      "source": [
        "Set = {1, 3, 5}\n",
        "\n",
        "sum(Set)"
      ]
    },
    {
      "cell_type": "code",
      "execution_count": null,
      "metadata": {
        "id": "dtLptK2IQSOX",
        "outputId": "02aa6944-9842-4173-f3e0-4b0350dd1fc8"
      },
      "outputs": [
        {
          "data": {
            "text/plain": [
              "20"
            ]
          },
          "execution_count": 41,
          "metadata": {},
          "output_type": "execute_result"
        }
      ],
      "source": [
        "sum(Set, 11)"
      ]
    },
    {
      "cell_type": "code",
      "execution_count": null,
      "metadata": {
        "id": "3Ryko6LyQSOY",
        "outputId": "28f3c5f3-fd55-4964-c2f6-ef8317897bc2"
      },
      "outputs": [
        {
          "data": {
            "text/plain": [
              "20"
            ]
          },
          "execution_count": 42,
          "metadata": {},
          "output_type": "execute_result"
        }
      ],
      "source": [
        "sum(List, 8)"
      ]
    },
    {
      "cell_type": "code",
      "execution_count": null,
      "metadata": {
        "id": "6R29UqOZQSOY",
        "outputId": "e4f546e4-5724-48ae-ab76-2393b5f95f78"
      },
      "outputs": [
        {
          "name": "stdout",
          "output_type": "stream",
          "text": [
            "Yes\n"
          ]
        }
      ],
      "source": [
        "if sum(List, 8) == 20:\n",
        "    print(\"Yes\")\n",
        "else:\n",
        "    print(\"No\")"
      ]
    },
    {
      "cell_type": "markdown",
      "metadata": {
        "id": "voySEB9NQSOZ"
      },
      "source": [
        "## sorted"
      ]
    },
    {
      "cell_type": "code",
      "execution_count": null,
      "metadata": {
        "id": "fOAIeYGeQSOZ",
        "outputId": "ae44c857-318b-450b-d777-9890f8af46ae"
      },
      "outputs": [
        {
          "data": {
            "text/plain": [
              "[1, 2, 3, 4, 5, 6, 8, 9]"
            ]
          },
          "execution_count": 44,
          "metadata": {},
          "output_type": "execute_result"
        }
      ],
      "source": [
        "List1 = [8, 2, 5, 1, 3, 9, 6, 4]\n",
        "\n",
        "sorted(List1)"
      ]
    },
    {
      "cell_type": "code",
      "execution_count": null,
      "metadata": {
        "id": "G2f-S-yZQSOZ",
        "outputId": "b2d183ac-48d7-4322-ce65-93e90d4cb0c0"
      },
      "outputs": [
        {
          "data": {
            "text/plain": [
              "[1, 2, 3, 4, 5, 6, 8, 9]"
            ]
          },
          "execution_count": 45,
          "metadata": {},
          "output_type": "execute_result"
        }
      ],
      "source": [
        "sorted(List1, reverse=False)"
      ]
    },
    {
      "cell_type": "code",
      "execution_count": null,
      "metadata": {
        "id": "ctJARQyCQSOZ",
        "outputId": "f24104d1-ae66-47af-f8f8-82e562fbf49c"
      },
      "outputs": [
        {
          "data": {
            "text/plain": [
              "[9, 8, 6, 5, 4, 3, 2, 1]"
            ]
          },
          "execution_count": 46,
          "metadata": {},
          "output_type": "execute_result"
        }
      ],
      "source": [
        "sorted(List1, reverse=True)"
      ]
    },
    {
      "cell_type": "code",
      "execution_count": null,
      "metadata": {
        "id": "xleMoeLUQSOa",
        "outputId": "7a941855-8019-425d-96e2-8df0bdec0e63"
      },
      "outputs": [
        {
          "data": {
            "text/plain": [
              "[9, 8, 6, 5, 4, 3, 2, 1]"
            ]
          },
          "execution_count": 47,
          "metadata": {},
          "output_type": "execute_result"
        }
      ],
      "source": [
        "sorted(List1, reverse=True, key= lambda x: x/2)"
      ]
    },
    {
      "cell_type": "code",
      "execution_count": null,
      "metadata": {
        "id": "mHlzjn2rQSOa",
        "outputId": "b605f03a-6f0a-4648-aeeb-baa589f5c199"
      },
      "outputs": [
        {
          "data": {
            "text/plain": [
              "[{'name': 'Ali', 'Course': 'Python', 'Score': 19},\n",
              " {'name': 'Mehran', 'Course': 'C++', 'Score': 17},\n",
              " {'name': 'Mohsen', 'Course': 'Matlab', 'Score': 20},\n",
              " {'name': 'Reza', 'Course': 'C#', 'Score': 16}]"
            ]
          },
          "execution_count": 48,
          "metadata": {},
          "output_type": "execute_result"
        }
      ],
      "source": [
        "D = [\n",
        "    {\"name\": \"Ali\", \"Course\": \"Python\", \"Score\": 19},\n",
        "    {\"name\": \"Reza\", \"Course\": \"C#\", \"Score\": 16},\n",
        "    {\"name\": \"Mehran\", \"Course\": \"C++\", \"Score\": 17},\n",
        "    {\"name\": \"Mohsen\", \"Course\": \"Matlab\", \"Score\": 20},\n",
        "]\n",
        "\n",
        "sorted(D, key=lambda x: x[\"name\"])"
      ]
    },
    {
      "cell_type": "code",
      "execution_count": null,
      "metadata": {
        "id": "NFuzuXP9QSOb",
        "outputId": "0d722ece-3891-403b-a74c-80583c950178"
      },
      "outputs": [
        {
          "data": {
            "text/plain": [
              "[{'name': 'Reza', 'Course': 'C#', 'Score': 16},\n",
              " {'name': 'Mehran', 'Course': 'C++', 'Score': 17},\n",
              " {'name': 'Ali', 'Course': 'Python', 'Score': 19},\n",
              " {'name': 'Mohsen', 'Course': 'Matlab', 'Score': 20}]"
            ]
          },
          "execution_count": 49,
          "metadata": {},
          "output_type": "execute_result"
        }
      ],
      "source": [
        "sorted(D, key=lambda x: x[\"Score\"])"
      ]
    },
    {
      "cell_type": "code",
      "execution_count": null,
      "metadata": {
        "id": "tENAHFGuQSOb",
        "outputId": "f145d825-0bba-4c39-c99c-8b8c682d34f6"
      },
      "outputs": [
        {
          "data": {
            "text/plain": [
              "[{'name': 'Mohsen', 'Course': 'Matlab', 'Score': 20},\n",
              " {'name': 'Ali', 'Course': 'Python', 'Score': 19},\n",
              " {'name': 'Mehran', 'Course': 'C++', 'Score': 17},\n",
              " {'name': 'Reza', 'Course': 'C#', 'Score': 16}]"
            ]
          },
          "execution_count": 50,
          "metadata": {},
          "output_type": "execute_result"
        }
      ],
      "source": [
        "sorted(D, key=lambda x: x[\"Score\"], reverse=True)"
      ]
    },
    {
      "cell_type": "markdown",
      "metadata": {
        "id": "4-NK6I27QSOb"
      },
      "source": [
        "## reversed"
      ]
    },
    {
      "cell_type": "code",
      "execution_count": null,
      "metadata": {
        "id": "jnplXVUjQSOc",
        "outputId": "b4b58fbb-55a5-4b89-9665-9d9f6dcd94d3"
      },
      "outputs": [
        {
          "data": {
            "text/plain": [
              "[8, 6, 4, 2, 0]"
            ]
          },
          "execution_count": 51,
          "metadata": {},
          "output_type": "execute_result"
        }
      ],
      "source": [
        "a = [0, 2, 4, 6, 8]\n",
        "\n",
        "list(reversed(a))"
      ]
    },
    {
      "cell_type": "code",
      "execution_count": null,
      "metadata": {
        "id": "hEr4Hl_BQSOc",
        "outputId": "3f85ac7f-1668-480d-85b7-6f8d2843f30f"
      },
      "outputs": [
        {
          "data": {
            "text/plain": [
              "['d', 'c', 'b', 'a']"
            ]
          },
          "execution_count": 52,
          "metadata": {},
          "output_type": "execute_result"
        }
      ],
      "source": [
        "b = ['a', 'b', 'c', 'd']\n",
        "\n",
        "list(reversed(b))"
      ]
    },
    {
      "cell_type": "code",
      "execution_count": null,
      "metadata": {
        "id": "VO5STBqoQSOc",
        "outputId": "52723d8e-4150-4c71-ca53-e19874806f21"
      },
      "outputs": [
        {
          "data": {
            "text/plain": [
              "['Zahra', 'Mehran', 'Rasoul', 'Ali']"
            ]
          },
          "execution_count": 53,
          "metadata": {},
          "output_type": "execute_result"
        }
      ],
      "source": [
        "c = [\"Ali\", \"Rasoul\", \"Mehran\", \"Zahra\"]\n",
        "\n",
        "list(reversed(c))"
      ]
    },
    {
      "cell_type": "markdown",
      "metadata": {
        "id": "0m8H9KEUQSOd"
      },
      "source": [
        "## all"
      ]
    },
    {
      "cell_type": "code",
      "execution_count": null,
      "metadata": {
        "id": "v8BBPAtmQSOd",
        "outputId": "5fb65fe6-76f9-466d-9d51-d85fe9d56437"
      },
      "outputs": [
        {
          "name": "stdout",
          "output_type": "stream",
          "text": [
            "[False, False, False, False, True, True, True, True, True]\n"
          ]
        }
      ],
      "source": [
        "numbers = [1, 2, 3, 4, 5, 6, 7, 8, 9]\n",
        "\n",
        "List1 = [i >= 5 for i in numbers]\n",
        "print(List1)"
      ]
    },
    {
      "cell_type": "code",
      "execution_count": null,
      "metadata": {
        "id": "iIPDQACsQSOd",
        "outputId": "4fad0934-3a6a-4e36-ba76-aff062c14eea"
      },
      "outputs": [
        {
          "data": {
            "text/plain": [
              "False"
            ]
          },
          "execution_count": 55,
          "metadata": {},
          "output_type": "execute_result"
        }
      ],
      "source": [
        "all(List1)"
      ]
    },
    {
      "cell_type": "code",
      "execution_count": null,
      "metadata": {
        "id": "qdlCD8CpQSOd",
        "outputId": "7307336c-171f-4dd2-b1f6-8745c7830e9f"
      },
      "outputs": [
        {
          "name": "stdout",
          "output_type": "stream",
          "text": [
            "False\n"
          ]
        }
      ],
      "source": [
        "List1 = all([i >= 5 for i in numbers])\n",
        "print(List1)"
      ]
    },
    {
      "cell_type": "code",
      "execution_count": null,
      "metadata": {
        "id": "I8LRrXKiQSOe",
        "outputId": "4840af24-c011-46ea-edd0-ed0524ad1441"
      },
      "outputs": [
        {
          "name": "stdout",
          "output_type": "stream",
          "text": [
            "[True, True, True, True, True, True, True, True, True]\n"
          ]
        }
      ],
      "source": [
        "List2 = [i >= 1 for i in numbers]\n",
        "print(List2)"
      ]
    },
    {
      "cell_type": "code",
      "execution_count": null,
      "metadata": {
        "id": "lvFDXikLQSOe",
        "outputId": "7ce0b691-b84e-46ca-ca99-c2c43898c659"
      },
      "outputs": [
        {
          "data": {
            "text/plain": [
              "True"
            ]
          },
          "execution_count": 58,
          "metadata": {},
          "output_type": "execute_result"
        }
      ],
      "source": [
        "all(List2)"
      ]
    },
    {
      "cell_type": "code",
      "execution_count": null,
      "metadata": {
        "id": "kAzAXQ1aQSOe",
        "outputId": "84f0b19d-ea64-4783-a2ba-4f2317655078"
      },
      "outputs": [
        {
          "name": "stdout",
          "output_type": "stream",
          "text": [
            "True\n"
          ]
        }
      ],
      "source": [
        "List2 = all([i >= 1 for i in numbers])\n",
        "print(List2)"
      ]
    },
    {
      "cell_type": "code",
      "execution_count": null,
      "metadata": {
        "id": "dMLASr7aQSOf",
        "outputId": "6ee927d6-abb8-4a50-e4cc-4b55d6b59262"
      },
      "outputs": [
        {
          "data": {
            "text/plain": [
              "True"
            ]
          },
          "execution_count": 60,
          "metadata": {},
          "output_type": "execute_result"
        }
      ],
      "source": [
        "List3 = [True, True, True]\n",
        "all(List3)"
      ]
    },
    {
      "cell_type": "code",
      "execution_count": null,
      "metadata": {
        "id": "GWuCih9IQSOf",
        "outputId": "25f12de9-9870-4fb7-859d-028fe59acb9c"
      },
      "outputs": [
        {
          "data": {
            "text/plain": [
              "False"
            ]
          },
          "execution_count": 61,
          "metadata": {},
          "output_type": "execute_result"
        }
      ],
      "source": [
        "List4 = [True, True, False]\n",
        "all(List4)"
      ]
    },
    {
      "cell_type": "code",
      "execution_count": null,
      "metadata": {
        "id": "BRhunq6NQSOf",
        "outputId": "171ccafd-beae-4d01-b051-55f7c5c0e1cd"
      },
      "outputs": [
        {
          "data": {
            "text/plain": [
              "True"
            ]
          },
          "execution_count": 62,
          "metadata": {},
          "output_type": "execute_result"
        }
      ],
      "source": [
        "List5 = [2, 4, 6, 8]\n",
        "\n",
        "all([i % 2 == 0 for i in List5])"
      ]
    },
    {
      "cell_type": "code",
      "execution_count": null,
      "metadata": {
        "id": "UKWitt4WQSOf",
        "outputId": "c40aee15-d71d-455b-b321-92a2ae123131"
      },
      "outputs": [
        {
          "data": {
            "text/plain": [
              "False"
            ]
          },
          "execution_count": 63,
          "metadata": {},
          "output_type": "execute_result"
        }
      ],
      "source": [
        "all(i == 0 for i in List5)"
      ]
    },
    {
      "cell_type": "markdown",
      "metadata": {
        "id": "J_TEPMoVQSOg"
      },
      "source": [
        "# any"
      ]
    },
    {
      "cell_type": "code",
      "execution_count": null,
      "metadata": {
        "id": "yq0-oL-rQSOg",
        "outputId": "05b31743-0866-4b4a-948c-286464ff76b7"
      },
      "outputs": [
        {
          "name": "stdout",
          "output_type": "stream",
          "text": [
            "[False, False, False, False, True, False, False, False]\n"
          ]
        }
      ],
      "source": [
        "numbers = [8, 9, 2, 12, 15, 7, 3, 5]\n",
        "\n",
        "List1 = [i >= 14 for i in numbers]\n",
        "print(List1)"
      ]
    },
    {
      "cell_type": "code",
      "execution_count": null,
      "metadata": {
        "id": "hPGovJvuQSOg",
        "outputId": "7f7c0c08-0615-48eb-dbc6-a6e74d27d89b"
      },
      "outputs": [
        {
          "data": {
            "text/plain": [
              "True"
            ]
          },
          "execution_count": 65,
          "metadata": {},
          "output_type": "execute_result"
        }
      ],
      "source": [
        "any(List1)"
      ]
    },
    {
      "cell_type": "code",
      "execution_count": null,
      "metadata": {
        "id": "zrQ2IzM0QSOg",
        "outputId": "879f19e4-c037-4249-e707-b25b7e635278"
      },
      "outputs": [
        {
          "data": {
            "text/plain": [
              "True"
            ]
          },
          "execution_count": 66,
          "metadata": {},
          "output_type": "execute_result"
        }
      ],
      "source": [
        "any([i >= 14 for i in numbers])"
      ]
    },
    {
      "cell_type": "code",
      "execution_count": null,
      "metadata": {
        "id": "9Jx6jklXQSOh",
        "outputId": "b50bb001-4f48-46b3-8ae7-9022ee8ebde8"
      },
      "outputs": [
        {
          "data": {
            "text/plain": [
              "False"
            ]
          },
          "execution_count": 67,
          "metadata": {},
          "output_type": "execute_result"
        }
      ],
      "source": [
        "any([i >= 16 for i in numbers])"
      ]
    },
    {
      "cell_type": "code",
      "execution_count": null,
      "metadata": {
        "id": "e-TqYwoMQSOh",
        "outputId": "084cfdc7-02c5-4c99-ab6f-2c2fbd945be5"
      },
      "outputs": [
        {
          "data": {
            "text/plain": [
              "True"
            ]
          },
          "execution_count": 68,
          "metadata": {},
          "output_type": "execute_result"
        }
      ],
      "source": [
        "List2 = [2, 4, 6, 6, 8]\n",
        "any(i % 2 == 0 for i in List2)"
      ]
    },
    {
      "cell_type": "code",
      "execution_count": null,
      "metadata": {
        "id": "ejmsH9rwQSOh",
        "outputId": "03064075-a6bc-4c64-8357-9cbca32ad8c7"
      },
      "outputs": [
        {
          "data": {
            "text/plain": [
              "True"
            ]
          },
          "execution_count": 69,
          "metadata": {},
          "output_type": "execute_result"
        }
      ],
      "source": [
        "List2 = [1, 3, 5, 7, 8]\n",
        "any(i % 2 == 0 for i in List2)"
      ]
    },
    {
      "cell_type": "code",
      "execution_count": null,
      "metadata": {
        "id": "_7XIPmGGQSOh",
        "outputId": "8f874267-5932-4e60-a855-d8daf536ec5b"
      },
      "outputs": [
        {
          "data": {
            "text/plain": [
              "True"
            ]
          },
          "execution_count": 70,
          "metadata": {},
          "output_type": "execute_result"
        }
      ],
      "source": [
        "List = [True, True, True]\n",
        "any(List)"
      ]
    },
    {
      "cell_type": "code",
      "execution_count": null,
      "metadata": {
        "id": "JT0es5S9QSOi",
        "outputId": "93ca1eda-bd14-4fc8-94d0-cb0778c1140d"
      },
      "outputs": [
        {
          "data": {
            "text/plain": [
              "True"
            ]
          },
          "execution_count": 71,
          "metadata": {},
          "output_type": "execute_result"
        }
      ],
      "source": [
        "any([False, False, False, True])"
      ]
    },
    {
      "cell_type": "code",
      "execution_count": null,
      "metadata": {
        "id": "v6r8Xi-gQSOi",
        "outputId": "75135a3a-55ab-484e-e97f-db370f0deb85"
      },
      "outputs": [
        {
          "data": {
            "text/plain": [
              "False"
            ]
          },
          "execution_count": 72,
          "metadata": {},
          "output_type": "execute_result"
        }
      ],
      "source": [
        "any([False, False, False, False])"
      ]
    },
    {
      "cell_type": "markdown",
      "metadata": {
        "id": "2EMivCFgQSOi"
      },
      "source": [
        "## zip"
      ]
    },
    {
      "cell_type": "code",
      "execution_count": null,
      "metadata": {
        "id": "JmXPC5M5QSOi",
        "outputId": "216efae0-c446-48b1-9650-3d407edd33fd"
      },
      "outputs": [
        {
          "data": {
            "text/plain": [
              "[(0, 1), (2, 3), (4, 5), (6, 7), (8, 9)]"
            ]
          },
          "execution_count": 74,
          "metadata": {},
          "output_type": "execute_result"
        }
      ],
      "source": [
        "L1 = [0, 2, 4, 6, 8]\n",
        "L2 = [1, 3, 5, 7, 9]\n",
        "\n",
        "list(zip(L1, L2))"
      ]
    },
    {
      "cell_type": "code",
      "execution_count": null,
      "metadata": {
        "id": "oA7AACFjQSOj",
        "outputId": "09463ab4-5d2b-4a7c-e7ea-7716128685bf"
      },
      "outputs": [
        {
          "data": {
            "text/plain": [
              "[(1, 0), (3, 2), (5, 4), (7, 6), (9, 8)]"
            ]
          },
          "execution_count": 75,
          "metadata": {},
          "output_type": "execute_result"
        }
      ],
      "source": [
        "list(zip(L2, L1))"
      ]
    },
    {
      "cell_type": "code",
      "execution_count": null,
      "metadata": {
        "id": "jXdGwW-tQSOj",
        "outputId": "c588304e-559a-49a3-b723-1d714b36cffc"
      },
      "outputs": [
        {
          "data": {
            "text/plain": [
              "[(2, 4), (8, 3), (5, 9)]"
            ]
          },
          "execution_count": 76,
          "metadata": {},
          "output_type": "execute_result"
        }
      ],
      "source": [
        "L1 = [2, 8, 5]\n",
        "L2 = [4, 3, 9, 1, 6]\n",
        "\n",
        "list(zip(L1, L2))"
      ]
    },
    {
      "cell_type": "code",
      "execution_count": null,
      "metadata": {
        "id": "xSnLkBNeQSOj",
        "outputId": "53e66bb5-71c1-40ad-deef-d83161d40685"
      },
      "outputs": [
        {
          "data": {
            "text/plain": [
              "[(4, 2), (3, 8), (9, 5)]"
            ]
          },
          "execution_count": 77,
          "metadata": {},
          "output_type": "execute_result"
        }
      ],
      "source": [
        "list(zip(L2, L1))"
      ]
    },
    {
      "cell_type": "code",
      "execution_count": null,
      "metadata": {
        "id": "Zlf80uCdQSOj",
        "outputId": "4ba0c700-fbed-4124-f486-90510a772376"
      },
      "outputs": [
        {
          "name": "stdout",
          "output_type": "stream",
          "text": [
            "[(2, 6, 3), (8, 1, 5)]\n"
          ]
        },
        {
          "data": {
            "text/plain": [
              "list"
            ]
          },
          "execution_count": 78,
          "metadata": {},
          "output_type": "execute_result"
        }
      ],
      "source": [
        "L3 = [(2, 8), (6, 1), (3, 5)]\n",
        "\n",
        "List = list(zip(*L3))\n",
        "print(List)\n",
        "type(List)"
      ]
    },
    {
      "cell_type": "code",
      "execution_count": null,
      "metadata": {
        "id": "QitY4jf3QSOj",
        "outputId": "7a2e9279-8f5c-4ea0-9daa-85f204a14cc2"
      },
      "outputs": [
        {
          "data": {
            "text/plain": [
              "[(2, 6, 3, 4, 9), (8, 1, 5, 7, 2)]"
            ]
          },
          "execution_count": 79,
          "metadata": {},
          "output_type": "execute_result"
        }
      ],
      "source": [
        "L4 = [(2, 8), (6, 1), (3, 5), (4, 7), (9, 2)]\n",
        "\n",
        "list(zip(*L4))"
      ]
    },
    {
      "cell_type": "code",
      "execution_count": null,
      "metadata": {
        "id": "jWa3ErNPQSOk",
        "outputId": "bafeeaff-9ac7-4875-daac-bc4cc6bd9bfb"
      },
      "outputs": [
        {
          "name": "stdout",
          "output_type": "stream",
          "text": [
            "{2: 4, 8: 3, 5: 9}\n",
            "<class 'dict'>\n"
          ]
        }
      ],
      "source": [
        "Result1 = zip(L1, L2)\n",
        "\n",
        "D1 = dict(Result1)\n",
        "print(D1)\n",
        "print(type(D1))"
      ]
    },
    {
      "cell_type": "code",
      "execution_count": null,
      "metadata": {
        "id": "7_wcCJ2QQSOk",
        "outputId": "843ba4b5-2682-4d11-a824-b176bd0c095f"
      },
      "outputs": [
        {
          "data": {
            "text/plain": [
              "[2, 8, 5]"
            ]
          },
          "execution_count": 82,
          "metadata": {},
          "output_type": "execute_result"
        }
      ],
      "source": [
        "L1"
      ]
    },
    {
      "cell_type": "code",
      "execution_count": null,
      "metadata": {
        "id": "Dv2LoEMzQSOk",
        "outputId": "5f21e5f2-7cfe-428e-e0f4-ab8c2112c0b0"
      },
      "outputs": [
        {
          "data": {
            "text/plain": [
              "[4, 3, 9, 1, 6]"
            ]
          },
          "execution_count": 83,
          "metadata": {},
          "output_type": "execute_result"
        }
      ],
      "source": [
        "L2\n"
      ]
    }
  ],
  "metadata": {
    "kernelspec": {
      "display_name": "Python 3",
      "language": "python",
      "name": "python3"
    },
    "language_info": {
      "codemirror_mode": {
        "name": "ipython",
        "version": 3
      },
      "file_extension": ".py",
      "mimetype": "text/x-python",
      "name": "python",
      "nbconvert_exporter": "python",
      "pygments_lexer": "ipython3",
      "version": "3.8.8"
    },
    "colab": {
      "name": "9_Lambda &Built in Functions.ipynb",
      "provenance": [],
      "include_colab_link": true
    }
  },
  "nbformat": 4,
  "nbformat_minor": 0
}